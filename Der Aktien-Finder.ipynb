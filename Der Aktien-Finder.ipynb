{
 "cells": [
  {
   "cell_type": "markdown",
   "metadata": {},
   "source": [
    "# <span style=\"color:blue\">**Der Aktien-Finder**</span> <br>\n",
    "\n",
    "Hierbei werden Aktien anhand einer von **Susan Levermann** entwickelten Methode nach unterschiedlichen KPIs bewertet und bepunktet. Frau Levermann hat dieses Bewertungsmodell in ihrem Buch _Der entspannte Weg zum Reichtum_ literarisch beschrieben.<br>\n",
    "\n",
    "Wir betrachten in der folgenden Applikation nur die deutschen Aktienindizes, welche nun wie folgt lauten: <br>\n",
    "\n",
    "1. <span style=\"color:blue\">**DAX**</span>\n",
    "2. <span style=\"color:black\">**TecDax**</span>\n",
    "3. <span style=\"color:red\">**MDAX**</span>\n",
    "<br>\n",
    "\n",
    "Die __key performance indicators__ (kurz: __KPI__) von Frau Levermann umfassen 13 Kennzahlen. \n",
    "Wir beschränken uns zunächst auf folgende vier: <br>\n",
    "\n",
    "1. Kurs heute gegenüber Kurs von vor 6 Monaten\n",
    "2. Kurs heute gegenüber Kurs von vor einem Jahr\n",
    "3. Kurs-Gewinn-Verhältnis (KGV) aktuell\n",
    "4. Kurs-Gewinn-Verhältnis (KGV) 5 Jahre\n",
    "<br>\n",
    "\n",
    "Für jedes dieser Kriterien gibt es folgende mögliche Punktevergaben **+1** ; **0** oder **-1** .\n",
    "Die Gesamtpunktzahl ergibt den ***LEVERMAN-SCORE***.\n",
    "Besitzt dieser Score mindestens 4 Punkte sollte die Aktie <span style=\"color:green\"> ***gekauft*** </span> werden (Large Caps).\n",
    "Bei Small- & Mid Caps sollten 7 Punkte beachtet werden, da kleine Unternehmen größeren Risiken ausgesetzt sind.\n",
    "\n"
   ]
  },
  {
   "cell_type": "markdown",
   "metadata": {},
   "source": [
    "## Importieren gängiger APIs zum Erstellen des Dashboardes"
   ]
  },
  {
   "cell_type": "code",
   "execution_count": 17,
   "metadata": {},
   "outputs": [],
   "source": [
    "# Zeitfenster definieren\n",
    "\n",
    "import datetime\n",
    "# Beginn des Zeitfenster zur Ermittlung der Kennzahlen HEUTE vor einem Jahr\n",
    "start = (datetime.date.today() - datetime.timedelta(395))\n",
    "\n",
    "# Ende des Zeitfenster stellt der heutige Tag dar. \n",
    "end = datetime.date.today()"
   ]
  },
  {
   "cell_type": "code",
   "execution_count": 18,
   "metadata": {},
   "outputs": [],
   "source": [
    "# Benötigte API laden\n",
    "\n",
    "import os\n",
    "from pathlib import Path\n",
    "import ipywidgets as widgets\n",
    "import pandas as pd\n",
    "import pandas_datareader.data as web\n",
    "from pandas.plotting import register_matplotlib_converters\n",
    "register_matplotlib_converters()\n",
    "import datetime as dt\n",
    "import numpy as np\n",
    "import seaborn as sns\n",
    "import matplotlib.pyplot as plt\n",
    "sns.set_style(\"whitegrid\")\n",
    "\n",
    "import yfinance as yf\n",
    "from pandas_datareader import data as pdr \n",
    "yf.pdr_override()"
   ]
  },
  {
   "cell_type": "code",
   "execution_count": 19,
   "metadata": {},
   "outputs": [],
   "source": [
    "# linienstaerke definieren\n",
    "\n",
    "paper_rc = {'lines.linewidth': 0.9, 'lines.markersize': 10}\n",
    "sns.set_context('paper', rc = paper_rc)"
   ]
  },
  {
   "cell_type": "markdown",
   "metadata": {},
   "source": [
    "## Datenbezug der Indizes DAX, TecDAX, MDAX erstellen"
   ]
  },
  {
   "cell_type": "markdown",
   "metadata": {},
   "source": [
    "### Aktien von DAX laden"
   ]
  },
  {
   "cell_type": "code",
   "execution_count": 27,
   "metadata": {},
   "outputs": [
    {
     "name": "stdout",
     "output_type": "stream",
     "text": [
      "[*********************100%***********************]  1 of 1 completed\n",
      "[*********************100%***********************]  1 of 1 completed\n",
      "[*********************100%***********************]  1 of 1 completed\n",
      "[*********************100%***********************]  1 of 1 completed\n",
      "[*********************100%***********************]  1 of 1 completed\n",
      "[*********************100%***********************]  1 of 1 completed\n",
      "[*********************100%***********************]  1 of 1 completed\n",
      "[*********************100%***********************]  1 of 1 completed\n",
      "[*********************100%***********************]  1 of 1 completed\n",
      "[*********************100%***********************]  1 of 1 completed\n",
      "[*********************100%***********************]  1 of 1 completed\n",
      "[*********************100%***********************]  1 of 1 completed\n",
      "[*********************100%***********************]  1 of 1 completed\n",
      "[*********************100%***********************]  1 of 1 completed\n",
      "[*********************100%***********************]  1 of 1 completed\n",
      "[*********************100%***********************]  1 of 1 completed\n",
      "[*********************100%***********************]  1 of 1 completed\n",
      "[*********************100%***********************]  1 of 1 completed\n",
      "[*********************100%***********************]  1 of 1 completed\n",
      "[*********************100%***********************]  1 of 1 completed\n",
      "[*********************100%***********************]  1 of 1 completed\n",
      "[*********************100%***********************]  1 of 1 completed\n",
      "[*********************100%***********************]  1 of 1 completed\n",
      "[*********************100%***********************]  1 of 1 completed\n",
      "[*********************100%***********************]  1 of 1 completed\n",
      "[*********************100%***********************]  1 of 1 completed\n",
      "[*********************100%***********************]  1 of 1 completed\n",
      "[*********************100%***********************]  1 of 1 completed\n",
      "[*********************100%***********************]  1 of 1 completed\n",
      "[*********************100%***********************]  1 of 1 completed\n"
     ]
    }
   ],
   "source": [
    "\n",
    "# Über den Yahoo finance API mit den oben definierten Startwerten einlesen.\n",
    "\n",
    "adidas = pdr.get_data_yahoo('ADS.DE', start=start, end=end, interval= '1mo')\n",
    "bmw = pdr.get_data_yahoo('BMW.DE', start=start, end=end, interval= '1mo')\n",
    "heise = pdr.get_data_yahoo('HEI.DE', start=start, end=end, interval= '1mo')\n",
    "ifx = pdr.get_data_yahoo('IFX.DE', start=start, end=end, interval= '1mo')\n",
    "cov = pdr.get_data_yahoo('1COV.DE', start=start, end=end, interval= '1mo')\n",
    "fme = pdr.get_data_yahoo('FME.DE', start=start, end=end, interval= '1mo')\n",
    "fre = pdr.get_data_yahoo('FRE.DE', start=start, end=end, interval= '1mo')\n",
    "sap = pdr.get_data_yahoo('SAP.DE', start=start, end=end, interval= '1mo')\n",
    "dai = pdr.get_data_yahoo('DAI.DE', start=start, end=end, interval= '1mo')\n",
    "muv2 = pdr.get_data_yahoo('MUV2.DE', start=start, end=end, interval= '1mo')\n",
    "vow3 = pdr.get_data_yahoo('VOW3.DE', start=start, end=end, interval= '1mo')\n",
    "alv = pdr.get_data_yahoo('ALV.DE', start=start, end=end, interval= '1mo')\n",
    "bas = pdr.get_data_yahoo('BAS.DE', start=start, end=end, interval= '1mo')\n",
    "lin = pdr.get_data_yahoo('LIN.DE', start=start, end=end, interval= '1mo')\n",
    "bayn = pdr.get_data_yahoo('BAYN.DE', start=start, end=end, interval= '1mo')\n",
    "dpw = pdr.get_data_yahoo('DPW.DE', start=start, end=end, interval= '1mo')\n",
    "dte = pdr.get_data_yahoo('DTE.DE', start=start, end=end, interval= '1mo')\n",
    "con = pdr.get_data_yahoo('CON.DE', start=start, end=end, interval= '1mo')\n",
    "vna = pdr.get_data_yahoo('VNA.DE', start=start, end=end, interval= '1mo')\n",
    "bei = pdr.get_data_yahoo('BEI.DE', start=start, end=end, interval= '1mo')\n",
    "mrk = pdr.get_data_yahoo('MRK.DE', start=start, end=end, interval= '1mo')\n",
    "rwe = pdr.get_data_yahoo('RWE.DE', start=start, end=end, interval= '1mo')\n",
    "hen3 = pdr.get_data_yahoo('HEN3.DE', start=start, end=end, interval= '1mo')\n",
    "lha = pdr.get_data_yahoo('LHA.DE', start=start, end=end, interval= '1mo')\n",
    "eon = pdr.get_data_yahoo('EOAN.DE', start=start, end=end, interval= '1mo')\n",
    "sie = pdr.get_data_yahoo('SIE.DE', start=start, end=end, interval= '1mo')\n",
    "dbahn = pdr.get_data_yahoo('DB1.DE', start=start, end=end, interval= '1mo')\n",
    "tka = pdr.get_data_yahoo('TKA.DE', start=start, end=end, interval= '1mo')\n",
    "wdi = pdr.get_data_yahoo('WDI.DE', start=start, end=end, interval= '1mo')\n",
    "arl = pdr.get_data_yahoo('ARL.DE', start=start, end=end, interval= '1mo')"
   ]
  },
  {
   "cell_type": "markdown",
   "metadata": {},
   "source": [
    "### Aktien von MDAX laden"
   ]
  },
  {
   "cell_type": "code",
   "execution_count": 31,
   "metadata": {},
   "outputs": [
    {
     "name": "stdout",
     "output_type": "stream",
     "text": [
      "[*********************100%***********************]  1 of 1 completed\n",
      "[*********************100%***********************]  1 of 1 completed\n",
      "[*********************100%***********************]  1 of 1 completed\n",
      "[*********************100%***********************]  1 of 1 completed\n",
      "[*********************100%***********************]  1 of 1 completed\n",
      "[*********************100%***********************]  1 of 1 completed\n",
      "[*********************100%***********************]  1 of 1 completed\n",
      "[*********************100%***********************]  1 of 1 completed\n",
      "[*********************100%***********************]  1 of 1 completed\n",
      "[*********************100%***********************]  1 of 1 completed\n",
      "[*********************100%***********************]  1 of 1 completed\n",
      "[*********************100%***********************]  1 of 1 completed\n",
      "[*********************100%***********************]  1 of 1 completed\n",
      "[*********************100%***********************]  1 of 1 completed\n",
      "[*********************100%***********************]  1 of 1 completed\n",
      "[*********************100%***********************]  1 of 1 completed\n",
      "[*********************100%***********************]  1 of 1 completed\n",
      "[*********************100%***********************]  1 of 1 completed\n",
      "[*********************100%***********************]  1 of 1 completed\n",
      "[*********************100%***********************]  1 of 1 completed\n",
      "[*********************100%***********************]  1 of 1 completed\n",
      "[*********************100%***********************]  1 of 1 completed\n",
      "[*********************100%***********************]  1 of 1 completed\n",
      "[*********************100%***********************]  1 of 1 completed\n",
      "[*********************100%***********************]  1 of 1 completed\n",
      "[*********************100%***********************]  1 of 1 completed\n"
     ]
    }
   ],
   "source": [
    "\n",
    "# Über den Yahoo finance API mit den oben definierten Startwerten einlesen.\n",
    "\n",
    "snh = pdr.get_data_yahoo('SNH.DE', start=start, end=end, interval= '1mo')\n",
    "fie = pdr.get_data_yahoo('FIE.DE', start=start, end=end, interval= '1mo')\n",
    "deq = pdr.get_data_yahoo('DEQ.DE', start=start, end=end, interval= '1mo')\n",
    "evd = pdr.get_data_yahoo('EVD.DE', start=start, end=end, interval= '1mo')\n",
    "sha = pdr.get_data_yahoo('SHA.DE', start=start, end=end, interval= '1mo')\n",
    "gil = pdr.get_data_yahoo('GIL.DE', start=start, end=end, interval= '1mo')\n",
    "osr = pdr.get_data_yahoo('OSR.DE', start=start, end=end, interval= '1mo')\n",
    "hnr1 = pdr.get_data_yahoo('HNR1.DE', start=start, end=end, interval= '1mo')\n",
    "jun = pdr.get_data_yahoo('JUN3.DE', start=start, end=end, interval= '1mo')\n",
    "szu = pdr.get_data_yahoo('SZU.DE', start=start, end=end, interval= '1mo')\n",
    "fpe3 = pdr.get_data_yahoo('FPE3.DE', start=start, end=end, interval= '1mo')\n",
    "teg = pdr.get_data_yahoo('TEG.DE', start=start, end=end, interval= '1mo')\n",
    "arl = pdr.get_data_yahoo('ARL.DE', start=start, end=end, interval= '1mo')\n",
    "leg = pdr.get_data_yahoo('LEG.DE', start=start, end=end, interval= '1mo')\n",
    "#saz = pdr.get_data_yahoo('SAZ.DE', start=start, end=end, interval= '1mo') <-- keine Daten\n",
    "krn = pdr.get_data_yahoo('KRN.DE', start=start, end=end, interval= '1mo')\n",
    "kgx = pdr.get_data_yahoo('KGX.DE', start=start, end=end, interval= '1mo')\n",
    "zal = pdr.get_data_yahoo('ZAL.DE', start=start, end=end, interval= '1mo')\n",
    "rrtl = pdr.get_data_yahoo('RRTL.DE', start=start, end=end, interval= '1mo')\n",
    "boss = pdr.get_data_yahoo('BOSS.DE', start=start, end=end, interval= '1mo')\n",
    "gxi = pdr.get_data_yahoo('GXI.DE', start=start, end=end, interval= '1mo')\n",
    "evk = pdr.get_data_yahoo('EVK.DE', start=start, end=end, interval= '1mo')\n",
    "hot = pdr.get_data_yahoo('HOT.DE', start=start, end=end, interval= '1mo')\n",
    "noej = pdr.get_data_yahoo('NOEJ.DE', start=start, end=end, interval= '1mo')\n",
    "lxs = pdr.get_data_yahoo('LXS.DE', start=start, end=end, interval= '1mo')\n",
    "#meo = pdr.get_data_yahoo('MEO.DE', start=start, end=end, interval= '1mo') <-- keine Daten\n",
    "rhk = pdr.get_data_yahoo('RHK.DE', start=start, end=end, interval= '1mo')\n",
    "due = pdr.get_data_yahoo('DUE.DE', start=start, end=end, interval= '1mo')"
   ]
  },
  {
   "cell_type": "markdown",
   "metadata": {},
   "source": [
    "### Aktien vom TecDax laden"
   ]
  },
  {
   "cell_type": "code",
   "execution_count": 35,
   "metadata": {},
   "outputs": [
    {
     "name": "stdout",
     "output_type": "stream",
     "text": [
      "[*********************100%***********************]  1 of 1 completed\n",
      "[*********************100%***********************]  1 of 1 completed\n",
      "[*********************100%***********************]  1 of 1 completed\n",
      "[*********************100%***********************]  1 of 1 completed\n",
      "[*********************100%***********************]  1 of 1 completed\n",
      "[*********************100%***********************]  1 of 1 completed\n",
      "[*********************100%***********************]  1 of 1 completed\n",
      "[*********************100%***********************]  1 of 1 completed\n",
      "[*********************100%***********************]  1 of 1 completed\n",
      "[*********************100%***********************]  1 of 1 completed\n",
      "[*********************100%***********************]  1 of 1 completed\n",
      "[*********************100%***********************]  1 of 1 completed\n",
      "[*********************100%***********************]  1 of 1 completed\n",
      "[*********************100%***********************]  1 of 1 completed\n",
      "[*********************100%***********************]  1 of 1 completed\n",
      "[*********************100%***********************]  1 of 1 completed\n",
      "[*********************100%***********************]  1 of 1 completed\n",
      "[*********************100%***********************]  1 of 1 completed\n",
      "[*********************100%***********************]  1 of 1 completed\n",
      "[*********************100%***********************]  1 of 1 completed\n",
      "[*********************100%***********************]  1 of 1 completed\n",
      "[*********************100%***********************]  1 of 1 completed\n",
      "[*********************100%***********************]  1 of 1 completed\n",
      "[*********************100%***********************]  1 of 1 completed\n",
      "[*********************100%***********************]  1 of 1 completed\n",
      "[*********************100%***********************]  1 of 1 completed\n",
      "[*********************100%***********************]  1 of 1 completed\n",
      "[*********************100%***********************]  1 of 1 completed\n",
      "[*********************100%***********************]  1 of 1 completed\n"
     ]
    }
   ],
   "source": [
    "#o1bc = pdr.get_data_yahoo('O1BC.DE', start=start, end=end, interval= '1mo') <-- keine Daten\n",
    "cok = pdr.get_data_yahoo('COK.DE', start=start, end=end, interval= '1mo')\n",
    "drw3 = pdr.get_data_yahoo('DRW3.DE', start=start, end=end, interval= '1mo')\n",
    "cop = pdr.get_data_yahoo('COP.DE', start=start, end=end, interval= '1mo')\n",
    "afx = pdr.get_data_yahoo('AFX.DE', start=start, end=end, interval= '1mo')\n",
    "nem = pdr.get_data_yahoo('NEM.DE', start=start, end=end, interval= '1mo')\n",
    "qia = pdr.get_data_yahoo('QIA.DE', start=start, end=end, interval= '1mo')\n",
    "wdi = pdr.get_data_yahoo('WDI.DE', start=start, end=end, interval= '1mo')\n",
    "o2d = pdr.get_data_yahoo('O2D.DE', start=start, end=end, interval= '1mo')\n",
    "pfv = pdr.get_data_yahoo('PFV.DE', start=start, end=end, interval= '1mo')\n",
    "sbs = pdr.get_data_yahoo('SBS.DE', start=start, end=end, interval= '1mo')\n",
    "srt3 = pdr.get_data_yahoo('SRT3.DE', start=start, end=end, interval= '1mo')\n",
    "s92 = pdr.get_data_yahoo('S92.DE', start=start, end=end, interval= '1mo')\n",
    "fntn = pdr.get_data_yahoo('FNTN.DE', start=start, end=end, interval= '1mo')\n",
    "utdi = pdr.get_data_yahoo('UTDI.DE', start=start, end=end, interval= '1mo')\n",
    "am3d = pdr.get_data_yahoo('AM3D.DE', start=start, end=end, interval= '1mo')\n",
    "mor = pdr.get_data_yahoo('MOR.DE', start=start, end=end, interval= '1mo')\n",
    "sow = pdr.get_data_yahoo('SOW.DE', start=start, end=end, interval= '1mo')\n",
    "jen = pdr.get_data_yahoo('JEN.DE', start=start, end=end, interval= '1mo')\n",
    "gft = pdr.get_data_yahoo('GFT.DE', start=start, end=end, interval= '1mo')\n",
    "ndx1 = pdr.get_data_yahoo('NDX1.DE', start=start, end=end, interval= '1mo')\n",
    "dlg = pdr.get_data_yahoo('DLG.DE', start=start, end=end, interval= '1mo')\n",
    "dri = pdr.get_data_yahoo('DRI.DE', start=start, end=end, interval= '1mo')\n",
    "smhn = pdr.get_data_yahoo('SMHN.DE', start=start, end=end, interval= '1mo')\n",
    "bc8 = pdr.get_data_yahoo('BC8.DE', start=start, end=end, interval= '1mo')\n",
    "aixa = pdr.get_data_yahoo('AIXA.DE', start=start, end=end, interval= '1mo')\n",
    "adv = pdr.get_data_yahoo('ADV.DE', start=start, end=end, interval= '1mo')\n",
    "evt = pdr.get_data_yahoo('EVT.DE', start=start, end=end, interval= '1mo')\n",
    "waf = pdr.get_data_yahoo('WAF.DE', start=start, end=end, interval= '1mo')\n",
    "rib = pdr.get_data_yahoo('RIB.DE', start=start, end=end, interval= '1mo')"
   ]
  },
  {
   "cell_type": "markdown",
   "metadata": {},
   "source": [
    "### Aktien gesammelt implementieren "
   ]
  },
  {
   "cell_type": "code",
   "execution_count": 12,
   "metadata": {},
   "outputs": [],
   "source": [
    "Adidas = yf.Ticker('ADS.DE')\n",
    "Allianz = yf.Ticker('ALV.DE')\n",
    "BASF = yf.Ticker('BSF.DE')\n",
    "Bayer = yf.Ticker('BAYN.DE')\n",
    "Beiersdorf = yf.Ticker('BEI.DE')\n",
    "BMW = yf.Ticker('BMW.DE')\n",
    "Continental = yf.Ticker('CON.DE')\n",
    "Covestro = yf.Ticker('1COV.DE')\n",
    "Daimler = yf.Ticker('DAI.DE')\n",
    "DeutscheBank = yf.Ticker('DBK.DE')\n",
    "DeutscheBörse = yf.Ticker('DB1.DE')\n",
    "DeutschePost = yf.Ticker('DPW.DE')\n",
    "DeutscheTelekom = yf.Ticker('DTE.DE')\n",
    "EON = yf.Ticker('EOAN.DE')\n",
    "FreseniusMedCare = yf.Ticker('FME.DE')\n",
    "FreseniusSE = yf.Ticker('FRE.DE')\n",
    "HeidelbergZement = yf.Ticker('HEI.DE')\n",
    "Henkel = yf.Ticker('HEN3.DE')\n",
    "Infineon = yf.Ticker('IFX.DE')\n",
    "Linde = yf.Ticker('LIN.DE')\n",
    "Lufthansa = yf.Ticker('LHA.DE')\n",
    "Merck = yf.Ticker('MRK.DE')\n",
    "MTUAeroEngines = yf.Ticker('MTX.F')\n",
    "MünchnerRückversicherungsGesellschaft = yf.Ticker('MUV2.DE')\n",
    "RWE = yf.Ticker('RWE.DE')\n",
    "SAP = yf.Ticker('SAP.DE')\n",
    "Siemens = yf.Ticker('SIE.DE')\n",
    "Volkswagen = yf.Ticker('VOW3.DE')\n",
    "Venovia = yf.Ticker('VNA.DE')\n",
    "Wirecard = yf.Ticker('WDI.DE')"
   ]
  },
  {
   "cell_type": "code",
   "execution_count": 13,
   "metadata": {},
   "outputs": [
    {
     "name": "stdout",
     "output_type": "stream",
     "text": [
      "yfinance.Ticker object <WDI.DE>\n"
     ]
    }
   ],
   "source": [
    "print(Wirecard)"
   ]
  },
  {
   "cell_type": "code",
   "execution_count": 99,
   "metadata": {},
   "outputs": [
    {
     "data": {
      "text/html": [
       "<div>\n",
       "<style scoped>\n",
       "    .dataframe tbody tr th:only-of-type {\n",
       "        vertical-align: middle;\n",
       "    }\n",
       "\n",
       "    .dataframe tbody tr th {\n",
       "        vertical-align: top;\n",
       "    }\n",
       "\n",
       "    .dataframe thead th {\n",
       "        text-align: right;\n",
       "    }\n",
       "</style>\n",
       "<table border=\"1\" class=\"dataframe\">\n",
       "  <thead>\n",
       "    <tr style=\"text-align: right;\">\n",
       "      <th></th>\n",
       "      <th>Earnings</th>\n",
       "      <th>Revenue</th>\n",
       "    </tr>\n",
       "    <tr>\n",
       "      <th>Year</th>\n",
       "      <th></th>\n",
       "      <th></th>\n",
       "    </tr>\n",
       "  </thead>\n",
       "  <tbody>\n",
       "    <tr>\n",
       "      <th>2015</th>\n",
       "      <td>142646000</td>\n",
       "      <td>799633000</td>\n",
       "    </tr>\n",
       "    <tr>\n",
       "      <th>2016</th>\n",
       "      <td>266749000</td>\n",
       "      <td>1058559000</td>\n",
       "    </tr>\n",
       "    <tr>\n",
       "      <th>2017</th>\n",
       "      <td>256100000</td>\n",
       "      <td>1533900000</td>\n",
       "    </tr>\n",
       "    <tr>\n",
       "      <th>2018</th>\n",
       "      <td>347400000</td>\n",
       "      <td>2061300000</td>\n",
       "    </tr>\n",
       "  </tbody>\n",
       "</table>\n",
       "</div>"
      ],
      "text/plain": [
       "       Earnings     Revenue\n",
       "Year                       \n",
       "2015  142646000   799633000\n",
       "2016  266749000  1058559000\n",
       "2017  256100000  1533900000\n",
       "2018  347400000  2061300000"
      ]
     },
     "execution_count": 99,
     "metadata": {},
     "output_type": "execute_result"
    }
   ],
   "source": [
    "Wirecard.earnings"
   ]
  }
 ],
 "metadata": {
  "kernelspec": {
   "display_name": "Python 3",
   "language": "python",
   "name": "python3"
  },
  "language_info": {
   "codemirror_mode": {
    "name": "ipython",
    "version": 3
   },
   "file_extension": ".py",
   "mimetype": "text/x-python",
   "name": "python",
   "nbconvert_exporter": "python",
   "pygments_lexer": "ipython3",
   "version": "3.7.4"
  },
  "toc": {
   "base_numbering": 1,
   "nav_menu": {},
   "number_sections": true,
   "sideBar": true,
   "skip_h1_title": false,
   "title_cell": "Table of Contents",
   "title_sidebar": "Contents",
   "toc_cell": false,
   "toc_position": {},
   "toc_section_display": true,
   "toc_window_display": false
  },
  "varInspector": {
   "cols": {
    "lenName": 16,
    "lenType": 16,
    "lenVar": 40
   },
   "kernels_config": {
    "python": {
     "delete_cmd_postfix": "",
     "delete_cmd_prefix": "del ",
     "library": "var_list.py",
     "varRefreshCmd": "print(var_dic_list())"
    },
    "r": {
     "delete_cmd_postfix": ") ",
     "delete_cmd_prefix": "rm(",
     "library": "var_list.r",
     "varRefreshCmd": "cat(var_dic_list()) "
    }
   },
   "types_to_exclude": [
    "module",
    "function",
    "builtin_function_or_method",
    "instance",
    "_Feature"
   ],
   "window_display": false
  }
 },
 "nbformat": 4,
 "nbformat_minor": 2
}
