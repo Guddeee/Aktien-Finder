{
 "cells": [
  {
   "cell_type": "markdown",
   "metadata": {},
   "source": [
    "# <span style=\"color:blue\">**Der Aktien-Finder**</span> <br>\n",
    "\n",
    "Hierbei werden Aktien an Hand einer von **Susan Levermann** entwickelten Methode nach unterschiedlichen KPIs bewertet und bepunktet. Frau Levermann hat dieses Bewertungsmodell in ihrem Buch _Der entspannte Weg zum Reichtum_ literarisch beschrieben.<br>\n",
    "\n",
    "Wir betrachten in der folgenden Applikation nur die deutschen Aktienindizes, welche nun wie folgt lauten: <br>\n",
    "\n",
    "1. <span style=\"color:blue\">**DAX**</span>\n",
    "2. <span style=\"color:black\">**TecDax**</span>\n",
    "3. <span style=\"color:red\">**MDAX**</span>\n",
    "<br>\n",
    "\n",
    "Die __key performance indicators__ (kurz: __KPI__) von Frau Levermann umfassen 13 Kennzahlen. \n",
    "Wir beschränken uns zunächst auf folgende vier: <br>\n",
    "\n",
    "1. Kurs heute gegenüber Kurs von vor 6 Monaten\n",
    "2. Kurs heute gegenüber Kurs von vor einem Jahr\n",
    "3. Kurs-Gewinn-Verhältnis (KGV) aktuell\n",
    "4. Kurs-Gewinn-Verhältnis (KGV) 5 Jahre\n",
    "<br>\n",
    "\n",
    "Für jedes dieser Kriterien gibt es folgende mögliche Punktevergaben **+1** ; **0** oder **-1** .\n",
    "Die Gesamtpunktzahl ergibt den ***LEVERMAN-SCORE***.\n",
    "Besitzt dieser Score mindestens 4 Punkte sollte die Aktie <span style=\"color:green\"> ***gekauft*** </span> werden (Large Caps).\n",
    "Bei Small- & Mid Caps sollten 7 Punkte beachtet werden, da kleine Unternehmen größeren Risiken ausgesetzt sind.\n",
    "\n"
   ]
  },
  {
   "cell_type": "markdown",
   "metadata": {},
   "source": [
    "## Importieren gängiger APIs zum Erstellen des Dashboardes"
   ]
  },
  {
   "cell_type": "code",
   "execution_count": 85,
   "metadata": {},
   "outputs": [],
   "source": [
    "start = '2006-01-01'\n",
    "end = '2019-12-04'"
   ]
  },
  {
   "cell_type": "code",
   "execution_count": 86,
   "metadata": {},
   "outputs": [],
   "source": [
    "\n",
    "import os\n",
    "from pathlib import Path\n",
    "import ipywidgets as widgets\n",
    "import pandas as pd\n",
    "import pandas_datareader.data as web\n",
    "from pandas.plotting import register_matplotlib_converters\n",
    "register_matplotlib_converters()\n",
    "import datetime as dt\n",
    "import numpy as np\n",
    "import seaborn as sns\n",
    "import matplotlib.pyplot as plt\n",
    "sns.set_style(\"whitegrid\")"
   ]
  },
  {
   "cell_type": "code",
   "execution_count": 87,
   "metadata": {},
   "outputs": [],
   "source": [
    "# linienstaerke definieren\n",
    "\n",
    "paper_rc = {'lines.linewidth': 0.9, 'lines.markersize': 10}\n",
    "sns.set_context('paper', rc = paper_rc)"
   ]
  },
  {
   "cell_type": "markdown",
   "metadata": {},
   "source": [
    "## Datenbezug der Indizes DAX, TecDAX, MDAX erstellen"
   ]
  },
  {
   "cell_type": "code",
   "execution_count": 89,
   "metadata": {},
   "outputs": [],
   "source": [
    "import yfinance as yf\n",
    "from pandas_datareader import data as pdr \n",
    "yf.pdr_override()"
   ]
  },
  {
   "cell_type": "markdown",
   "metadata": {},
   "source": [
    "### Ansatz: Aktien einzeln implementieren "
   ]
  },
  {
   "cell_type": "code",
   "execution_count": 90,
   "metadata": {},
   "outputs": [
    {
     "name": "stdout",
     "output_type": "stream",
     "text": [
      "[*********************100%***********************]  1 of 1 completed\n"
     ]
    }
   ],
   "source": [
    "dax_m = pdr.get_data_yahoo(\"^GDAXI\", start=start, end=end)"
   ]
  },
  {
   "cell_type": "code",
   "execution_count": 104,
   "metadata": {},
   "outputs": [
    {
     "data": {
      "text/plain": [
       "pandas.core.frame.DataFrame"
      ]
     },
     "execution_count": 104,
     "metadata": {},
     "output_type": "execute_result"
    }
   ],
   "source": [
    "type(dax_m)"
   ]
  },
  {
   "cell_type": "code",
   "execution_count": 91,
   "metadata": {},
   "outputs": [
    {
     "name": "stdout",
     "output_type": "stream",
     "text": [
      "[*********************100%***********************]  1 of 1 completed\n"
     ]
    }
   ],
   "source": [
    "bmw = pdr.get_data_yahoo(\"BMW.DE\", start='2019-12-04', end='2019-12-04')"
   ]
  },
  {
   "cell_type": "code",
   "execution_count": 92,
   "metadata": {},
   "outputs": [
    {
     "name": "stdout",
     "output_type": "stream",
     "text": [
      "[*********************100%***********************]  1 of 1 completed\n"
     ]
    }
   ],
   "source": [
    "hei = pdr.get_data_yahoo(\"HEI.DE\", start='2019-12-04', end='2019-12-04')"
   ]
  },
  {
   "cell_type": "code",
   "execution_count": 93,
   "metadata": {},
   "outputs": [
    {
     "name": "stdout",
     "output_type": "stream",
     "text": [
      "[*********************100%***********************]  1 of 1 completed\n"
     ]
    }
   ],
   "source": [
    "ifx = pdr.get_data_yahoo(\"IFX.DE\", start='2019-12-04', end='2019-12-04')"
   ]
  },
  {
   "cell_type": "code",
   "execution_count": 94,
   "metadata": {},
   "outputs": [
    {
     "name": "stdout",
     "output_type": "stream",
     "text": [
      "[*********************100%***********************]  1 of 1 completed\n"
     ]
    }
   ],
   "source": [
    "cov = pdr.get_data_yahoo(\"1COV.DE\", start='2019-12-04', end='2019-12-04')"
   ]
  },
  {
   "cell_type": "code",
   "execution_count": 95,
   "metadata": {},
   "outputs": [
    {
     "name": "stdout",
     "output_type": "stream",
     "text": [
      "[*********************100%***********************]  1 of 1 completed\n"
     ]
    }
   ],
   "source": [
    "fme= pdr.get_data_yahoo(\"FME.DE\", start='2019-12-04', end='2019-12-04')"
   ]
  },
  {
   "cell_type": "code",
   "execution_count": 96,
   "metadata": {},
   "outputs": [
    {
     "name": "stdout",
     "output_type": "stream",
     "text": [
      "[*********************100%***********************]  1 of 1 completed\n"
     ]
    }
   ],
   "source": [
    "fre = pdr.get_data_yahoo(\"FRE.DE\", start='2019-12-04', end='2019-12-04')"
   ]
  },
  {
   "cell_type": "code",
   "execution_count": 97,
   "metadata": {},
   "outputs": [
    {
     "name": "stdout",
     "output_type": "stream",
     "text": [
      "[*********************100%***********************]  1 of 1 completed\n"
     ]
    }
   ],
   "source": [
    "sap = pdr.get_data_yahoo(\"SAP.DE\", start='2019-12-04', end='2019-12-04')"
   ]
  },
  {
   "cell_type": "code",
   "execution_count": 98,
   "metadata": {},
   "outputs": [
    {
     "name": "stdout",
     "output_type": "stream",
     "text": [
      "[*********************100%***********************]  1 of 1 completed\n",
      "[*********************100%***********************]  1 of 1 completed\n"
     ]
    }
   ],
   "source": [
    "dai_n = pdr.get_data_yahoo(\"DAI.DE\", start='2019-12-04', end='2019-12-04')\n",
    "dai_o = pdr.get_data_yahoo(\"DAI.DE\", start='2014-12-04', end='2014-12-04')"
   ]
  },
  {
   "cell_type": "markdown",
   "metadata": {},
   "source": [
    "### Aktien gesammelt implementieren "
   ]
  },
  {
   "cell_type": "code",
   "execution_count": 99,
   "metadata": {},
   "outputs": [],
   "source": [
    "Adidas = yf.Ticker('ADS.DE')\n",
    "Allianz = yf.Ticker('ALV.DE')\n",
    "BASF = yf.Ticker('BSF.DE')\n",
    "Bayer = yf.Ticker('BAYN.DE')\n",
    "Beiersdorf = yf.Ticker('BEI.DE')\n",
    "BMW = yf.Ticker('BMW.DE')\n",
    "Continental = yf.Ticker('CON.DE')\n",
    "Covestro = yf.Ticker('1COV.DE')\n",
    "Daimler = yf.Ticker('DAI.DE')\n",
    "DeutscheBank = yf.Ticker('DBK.DE')\n",
    "DeutscheBörse = yf.Ticker('DB1.DE')\n",
    "DeutschePost = yf.Ticker('DPW.DE')\n",
    "DeutscheTelekom = yf.Ticker('DTE.DE')\n",
    "EON = yf.Ticker('EOAN.DE')\n",
    "FreseniusMedCare = yf.Ticker('FME.DE')\n",
    "FreseniusSE = yf.Ticker('FRE.DE')\n",
    "HeidelbergZement = yf.Ticker('HEI.DE')\n",
    "Henkel = yf.Ticker('HEN3.DE')\n",
    "Infineon = yf.Ticker('IFX.DE')\n",
    "Linde = yf.Ticker('LIN.DE')\n",
    "Lufthansa = yf.Ticker('LHA.DE')\n",
    "Merck = yf.Ticker('MRK.DE')\n",
    "MTUAeroEngines = yf.Ticker('MTX.F')\n",
    "MünchnerRückversicherungsGesellschaft = yf.Ticker('MUV2.DE')\n",
    "RWE = yf.Ticker('RWE.DE')\n",
    "SAP = yf.Ticker('SAP.DE')\n",
    "Siemens = yf.Ticker('SIE.DE')\n",
    "Volkswagen = yf.Ticker('VOW3.DE')\n",
    "Venovia = yf.Ticker('VNA.DE')\n",
    "Wirecard = yf.Ticker('WDI.DE')"
   ]
  },
  {
   "cell_type": "code",
   "execution_count": 100,
   "metadata": {},
   "outputs": [
    {
     "data": {
      "text/plain": [
       "Date\n",
       "2009-06-19    0.08\n",
       "2010-06-18    0.09\n",
       "2011-06-23    0.10\n",
       "2012-06-27    0.10\n",
       "2013-06-21    0.11\n",
       "2014-06-19    0.12\n",
       "2015-06-18    0.13\n",
       "2016-06-17    0.14\n",
       "2017-06-21    0.16\n",
       "2018-06-22    0.18\n",
       "2019-06-19    0.20\n",
       "Name: Dividends, dtype: float64"
      ]
     },
     "execution_count": 100,
     "metadata": {},
     "output_type": "execute_result"
    }
   ],
   "source": [
    "Wirecard.dividends"
   ]
  },
  {
   "cell_type": "code",
   "execution_count": 102,
   "metadata": {},
   "outputs": [
    {
     "data": {
      "text/html": [
       "<div>\n",
       "<style scoped>\n",
       "    .dataframe tbody tr th:only-of-type {\n",
       "        vertical-align: middle;\n",
       "    }\n",
       "\n",
       "    .dataframe tbody tr th {\n",
       "        vertical-align: top;\n",
       "    }\n",
       "\n",
       "    .dataframe thead th {\n",
       "        text-align: right;\n",
       "    }\n",
       "</style>\n",
       "<table border=\"1\" class=\"dataframe\">\n",
       "  <thead>\n",
       "    <tr style=\"text-align: right;\">\n",
       "      <th></th>\n",
       "      <th>Earnings</th>\n",
       "      <th>Revenue</th>\n",
       "    </tr>\n",
       "    <tr>\n",
       "      <th>Year</th>\n",
       "      <th></th>\n",
       "      <th></th>\n",
       "    </tr>\n",
       "  </thead>\n",
       "  <tbody>\n",
       "    <tr>\n",
       "      <th>2015</th>\n",
       "      <td>142646000</td>\n",
       "      <td>799633000</td>\n",
       "    </tr>\n",
       "    <tr>\n",
       "      <th>2016</th>\n",
       "      <td>266749000</td>\n",
       "      <td>1058559000</td>\n",
       "    </tr>\n",
       "    <tr>\n",
       "      <th>2017</th>\n",
       "      <td>256100000</td>\n",
       "      <td>1533900000</td>\n",
       "    </tr>\n",
       "    <tr>\n",
       "      <th>2018</th>\n",
       "      <td>347400000</td>\n",
       "      <td>2061300000</td>\n",
       "    </tr>\n",
       "  </tbody>\n",
       "</table>\n",
       "</div>"
      ],
      "text/plain": [
       "       Earnings     Revenue\n",
       "Year                       \n",
       "2015  142646000   799633000\n",
       "2016  266749000  1058559000\n",
       "2017  256100000  1533900000\n",
       "2018  347400000  2061300000"
      ]
     },
     "execution_count": 102,
     "metadata": {},
     "output_type": "execute_result"
    }
   ],
   "source": [
    "Wirecard.earnings"
   ]
  }
 ],
 "metadata": {
  "kernelspec": {
   "display_name": "Python 3",
   "language": "python",
   "name": "python3"
  },
  "language_info": {
   "codemirror_mode": {
    "name": "ipython",
    "version": 3
   },
   "file_extension": ".py",
   "mimetype": "text/x-python",
   "name": "python",
   "nbconvert_exporter": "python",
   "pygments_lexer": "ipython3",
   "version": "3.7.4"
  },
  "toc": {
   "base_numbering": 1,
   "nav_menu": {},
   "number_sections": true,
   "sideBar": true,
   "skip_h1_title": false,
   "title_cell": "Table of Contents",
   "title_sidebar": "Contents",
   "toc_cell": false,
   "toc_position": {},
   "toc_section_display": true,
   "toc_window_display": false
  },
  "varInspector": {
   "cols": {
    "lenName": 16,
    "lenType": 16,
    "lenVar": 40
   },
   "kernels_config": {
    "python": {
     "delete_cmd_postfix": "",
     "delete_cmd_prefix": "del ",
     "library": "var_list.py",
     "varRefreshCmd": "print(var_dic_list())"
    },
    "r": {
     "delete_cmd_postfix": ") ",
     "delete_cmd_prefix": "rm(",
     "library": "var_list.r",
     "varRefreshCmd": "cat(var_dic_list()) "
    }
   },
   "types_to_exclude": [
    "module",
    "function",
    "builtin_function_or_method",
    "instance",
    "_Feature"
   ],
   "window_display": false
  }
 },
 "nbformat": 4,
 "nbformat_minor": 2
}
