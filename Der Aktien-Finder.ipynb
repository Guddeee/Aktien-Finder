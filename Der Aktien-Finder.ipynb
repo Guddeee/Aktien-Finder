{
 "cells": [
  {
   "cell_type": "markdown",
   "metadata": {},
   "source": [
    "# <span style=\"color:blue\">**Der Aktien-Finder**</span> <br>\n",
    "\n",
    "Hierbei werden Aktien anhand einer von **Susan Levermann** entwickelten Methode nach unterschiedlichen KPIs bewertet und bepunktet. Frau Levermann hat dieses Bewertungsmodell in ihrem Buch _Der entspannte Weg zum Reichtum_ literarisch beschrieben.<br>\n",
    "\n",
    "Wir betrachten in der folgenden Applikation nur die deutschen Aktienindizes, welche nun wie folgt lauten: <br>\n",
    "\n",
    "1. <span style=\"color:blue\">**DAX**</span>\n",
    "2. <span style=\"color:black\">**TecDax**</span>\n",
    "3. <span style=\"color:red\">**MDAX**</span>\n",
    "<br>\n",
    "\n",
    "Die __key performance indicators__ (kurz: __KPI__) von Frau Levermann umfassen 13 Kennzahlen. \n",
    "Wir beschränken uns zunächst auf folgende vier: <br>\n",
    "\n",
    "1. Kurs heute gegenüber Kurs von vor 6 Monaten\n",
    "2. Kurs heute gegenüber Kurs von vor einem Jahr\n",
    "3. Kurs-Gewinn-Verhältnis (KGV) aktuell\n",
    "4. Kurs-Gewinn-Verhältnis (KGV) 5 Jahre\n",
    "<br>\n",
    "\n",
    "Für jedes dieser Kriterien gibt es folgende mögliche Punktevergaben **+1** ; **0** oder **-1** .\n",
    "Die Gesamtpunktzahl ergibt den ***LEVERMAN-SCORE***.\n",
    "Besitzt dieser Score mindestens 4 Punkte sollte die Aktie <span style=\"color:green\"> ***gekauft*** </span> werden (Large Caps).\n",
    "Bei Small- & Mid Caps sollten 7 Punkte beachtet werden, da kleine Unternehmen größeren Risiken ausgesetzt sind.\n",
    "\n"
   ]
  },
  {
   "cell_type": "markdown",
   "metadata": {},
   "source": [
    "## Importieren gängiger APIs zum Erstellen des Dashboardes"
   ]
  },
  {
   "cell_type": "code",
   "execution_count": 167,
   "metadata": {},
   "outputs": [],
   "source": [
    "# Zeitfenster definieren\n",
    "\n",
    "from datetime import date    \n",
    "\n",
    "# Beginn des Zeitfenster zur Ermittlung der Kennzahlen HEUTE vor einem Jahr\n",
    "start = (datetime.date.today() - datetime.timedelta(395)).isoformat()\n",
    "\n",
    "# Ende des Zeitfenster stellt der heutige Tag dar. ^^\n",
    "end = date.today().isoformat()"
   ]
  },
  {
   "cell_type": "code",
   "execution_count": null,
   "metadata": {},
   "outputs": [],
   "source": []
  },
  {
   "cell_type": "code",
   "execution_count": 168,
   "metadata": {},
   "outputs": [],
   "source": [
    "# Benötigte API laden\n",
    "\n",
    "import os\n",
    "from pathlib import Path\n",
    "import ipywidgets as widgets\n",
    "import pandas as pd\n",
    "import pandas_datareader.data as web\n",
    "from pandas.plotting import register_matplotlib_converters\n",
    "register_matplotlib_converters()\n",
    "import datetime as dt\n",
    "import numpy as np\n",
    "import seaborn as sns\n",
    "import matplotlib.pyplot as plt\n",
    "sns.set_style(\"whitegrid\")\n",
    "\n",
    "import yfinance as yf\n",
    "from pandas_datareader import data as pdr \n",
    "yf.pdr_override()"
   ]
  },
  {
   "cell_type": "code",
   "execution_count": 169,
   "metadata": {},
   "outputs": [],
   "source": [
    "# linienstaerke definieren\n",
    "\n",
    "paper_rc = {'lines.linewidth': 0.9, 'lines.markersize': 10}\n",
    "sns.set_context('paper', rc = paper_rc)"
   ]
  },
  {
   "cell_type": "markdown",
   "metadata": {},
   "source": [
    "## Datenbezug der Indizes DAX, TecDAX, MDAX erstellen"
   ]
  },
  {
   "cell_type": "markdown",
   "metadata": {},
   "source": [
    "### Aktien von DAX laden"
   ]
  },
  {
   "cell_type": "code",
   "execution_count": 170,
   "metadata": {},
   "outputs": [
    {
     "name": "stdout",
     "output_type": "stream",
     "text": [
      "[*********************100%***********************]  1 of 1 completed\n"
     ]
    }
   ],
   "source": [
    "\n",
    "# DAX Chart vom letzten Jahr laden.\n",
    "\n",
    "dax_m = pdr.get_data_yahoo(\"^GDAXI\", start=start, end= end, interval='1mo')"
   ]
  },
  {
   "cell_type": "code",
   "execution_count": 178,
   "metadata": {},
   "outputs": [
    {
     "data": {
      "image/png": "[encoded data removed]",
      "text/plain": [
       "<Figure size 432x288 with 1 Axes>"
      ]
     },
     "metadata": {},
     "output_type": "display_data"
    }
   ],
   "source": [
    "\n",
    "# DAX-Chart über den oben definierten Zeitraum plotten.\n",
    "plt.plot(dax_m['Adj Close'], lw=3)\n",
    "plt.xlabel('Datum')\n",
    "plt.ylabel('Kurs')\n",
    "plt.title('DAX-Chart von 01/2019 bis 01/2020')\n",
    "\n",
    "\n",
    "\n",
    "SMALL_SIZE = 12\n",
    "MEDIUM_SIZE = 18\n",
    "BIGGER_SIZE = 20\n",
    "\n",
    "plt.rc('font', size=SMALL_SIZE)          # controls default text sizes\n",
    "plt.rc('axes', titlesize=MEDIUM_SIZE)     # fontsize of the axes title\n",
    "plt.rc('axes', labelsize=MEDIUM_SIZE)    # fontsize of the x and y labels\n",
    "plt.rc('xtick', labelsize=SMALL_SIZE)    # fontsize of the tick labels\n",
    "plt.rc('ytick', labelsize=SMALL_SIZE)    # fontsize of the tick labels\n",
    "plt.rc('legend', fontsize=SMALL_SIZE)    # legend fontsize\n",
    "plt.rc('figure', titlesize=BIGGER_SIZE)\n"
   ]
  },
  {
   "cell_type": "code",
   "execution_count": 83,
   "metadata": {},
   "outputs": [
    {
     "name": "stdout",
     "output_type": "stream",
     "text": [
      "[*********************100%***********************]  1 of 1 completed\n",
      "[*********************100%***********************]  1 of 1 completed\n",
      "[*********************100%***********************]  1 of 1 completed\n",
      "[*********************100%***********************]  1 of 1 completed\n",
      "[*********************100%***********************]  1 of 1 completed\n",
      "[*********************100%***********************]  1 of 1 completed\n",
      "[*********************100%***********************]  1 of 1 completed\n",
      "[*********************100%***********************]  1 of 1 completed\n",
      "[*********************100%***********************]  1 of 1 completed\n",
      "[*********************100%***********************]  1 of 1 completed\n",
      "[*********************100%***********************]  1 of 1 completed\n",
      "[*********************100%***********************]  1 of 1 completed\n",
      "[*********************100%***********************]  1 of 1 completed\n",
      "[*********************100%***********************]  1 of 1 completed\n",
      "[*********************100%***********************]  1 of 1 completed\n",
      "[*********************100%***********************]  1 of 1 completed\n",
      "[*********************100%***********************]  1 of 1 completed\n",
      "[*********************100%***********************]  1 of 1 completed\n",
      "[*********************100%***********************]  1 of 1 completed\n",
      "[*********************100%***********************]  1 of 1 completed\n",
      "[*********************100%***********************]  1 of 1 completed\n",
      "[*********************100%***********************]  1 of 1 completed\n",
      "[*********************100%***********************]  1 of 1 completed\n",
      "[*********************100%***********************]  1 of 1 completed\n",
      "[*********************100%***********************]  1 of 1 completed\n",
      "[*********************100%***********************]  1 of 1 completed\n",
      "[*********************100%***********************]  1 of 1 completed\n",
      "[*********************100%***********************]  1 of 1 completed\n",
      "[*********************100%***********************]  1 of 1 completed\n",
      "[*********************100%***********************]  1 of 1 completed\n"
     ]
    }
   ],
   "source": [
    "\n",
    "# Über den Yahoo finance API mit den oben definierten Startwerten einlesen.\n",
    "\n",
    "adidas = pdr.get_data_yahoo('ADS.DE', start=start, end=end, interval= '1d')\n",
    "bmw = pdr.get_data_yahoo('BMW.DE', start=start, end=end, interval= '1d')\n",
    "heise = pdr.get_data_yahoo('HEI.DE', start=start, end=end, interval= '1d')\n",
    "ifx = pdr.get_data_yahoo('IFX.DE', start=start, end=end, interval= '1d')\n",
    "cov = pdr.get_data_yahoo('1COV.DE', start=start, end=end, interval= '1d')\n",
    "fme = pdr.get_data_yahoo('FME.DE', start=start, end=end, interval= '1d')\n",
    "fre = pdr.get_data_yahoo('FRE.DE', start=start, end=end, interval= '1d')\n",
    "sap = pdr.get_data_yahoo('SAP.DE', start=start, end=end, interval= '1d')\n",
    "dai = pdr.get_data_yahoo('DAI.DE', start=start, end=end, interval= '1d')\n",
    "muv2 = pdr.get_data_yahoo('MUV2.DE', start=start, end=end, interval= '1d')\n",
    "vow3 = pdr.get_data_yahoo('VOW3.DE', start=start, end=end, interval= '1d')\n",
    "alv = pdr.get_data_yahoo('ALV.DE', start=start, end=end, interval= '1d')\n",
    "bas = pdr.get_data_yahoo('BAS.DE', start=start, end=end, interval= '1d')\n",
    "lin = pdr.get_data_yahoo('LIN.DE', start=start, end=end, interval= '1d')\n",
    "bayn = pdr.get_data_yahoo('BAYN.DE', start=start, end=end, interval= '1d')\n",
    "dpw = pdr.get_data_yahoo('DPW.DE', start=start, end=end, interval= '1d')\n",
    "dte = pdr.get_data_yahoo('DTE.DE', start=start, end=end, interval= '1d')\n",
    "con = pdr.get_data_yahoo('CON.DE', start=start, end=end, interval= '1d')\n",
    "vna = pdr.get_data_yahoo('VNA.DE', start=start, end=end, interval= '1d')\n",
    "bei = pdr.get_data_yahoo('BEI.DE', start=start, end=end, interval= '1d')\n",
    "mrk = pdr.get_data_yahoo('MRK.DE', start=start, end=end, interval= '1d')\n",
    "rwe = pdr.get_data_yahoo('RWE.DE', start=start, end=end, interval= '1d')\n",
    "hen3 = pdr.get_data_yahoo('HEN3.DE', start=start, end=end, interval= '1d')\n",
    "lha = pdr.get_data_yahoo('LHA.DE', start=start, end=end, interval= '1d')\n",
    "eon = pdr.get_data_yahoo('EOAN.DE', start=start, end=end, interval= '1d')\n",
    "sie = pdr.get_data_yahoo('SIE.DE', start=start, end=end, interval= '1d')\n",
    "dbahn = pdr.get_data_yahoo('DB1.DE', start=start, end=end, interval= '1d')\n",
    "tka = pdr.get_data_yahoo('TKA.DE', start=start, end=end, interval= '1d')\n",
    "wdi = pdr.get_data_yahoo('WDI.DE', start=start, end=end, interval= '1d')\n",
    "arl = pdr.get_data_yahoo('ARL.DE', start=start, end=end, interval= '1d')\n"
   ]
  },
  {
   "cell_type": "markdown",
   "metadata": {},
   "source": [
    "### Aktien von MDAX laden"
   ]
  },
  {
   "cell_type": "code",
   "execution_count": 174,
   "metadata": {},
   "outputs": [
    {
     "name": "stdout",
     "output_type": "stream",
     "text": [
      "[*********************100%***********************]  1 of 1 completed\n"
     ]
    }
   ],
   "source": [
    "# DAX Chart vom letzten Jahr laden.\n",
    "\n",
    "mdax_m = pdr.get_data_yahoo(\"^MDAXI\", start=start, end= end, interval='1mo')"
   ]
  },
  {
   "cell_type": "code",
   "execution_count": 177,
   "metadata": {},
   "outputs": [
    {
     "data": {
      "image/png": "[encoded data removed]",
      "text/plain": [
       "<Figure size 432x288 with 1 Axes>"
      ]
     },
     "metadata": {},
     "output_type": "display_data"
    }
   ],
   "source": [
    "# MDAX-Chart über den oben definierten Zeitraum plotten.\n",
    "plt.plot(mdax_m['Adj Close'], lw=3)\n",
    "plt.xlabel('Datum')\n",
    "plt.ylabel('Kurs')\n",
    "plt.title('MDAX-Chart von 01/2019 bis 01/2020')\n",
    "\n",
    "\n",
    "\n",
    "SMALL_SIZE = 12\n",
    "MEDIUM_SIZE = 18\n",
    "BIGGER_SIZE = 20\n",
    "\n",
    "plt.rc('font', size=SMALL_SIZE)          # controls default text sizes\n",
    "plt.rc('axes', titlesize=MEDIUM_SIZE)     # fontsize of the axes title\n",
    "plt.rc('axes', labelsize=MEDIUM_SIZE)    # fontsize of the x and y labels\n",
    "plt.rc('xtick', labelsize=SMALL_SIZE)    # fontsize of the tick labels\n",
    "plt.rc('ytick', labelsize=SMALL_SIZE)    # fontsize of the tick labels\n",
    "plt.rc('legend', fontsize=SMALL_SIZE)    # legend fontsize\n",
    "plt.rc('figure', titlesize=BIGGER_SIZE)"
   ]
  },
  {
   "cell_type": "code",
   "execution_count": 84,
   "metadata": {},
   "outputs": [
    {
     "name": "stdout",
     "output_type": "stream",
     "text": [
      "[*********************100%***********************]  1 of 1 completed\n",
      "[*********************100%***********************]  1 of 1 completed\n",
      "[*********************100%***********************]  1 of 1 completed\n",
      "[*********************100%***********************]  1 of 1 completed\n",
      "[*********************100%***********************]  1 of 1 completed\n",
      "[*********************100%***********************]  1 of 1 completed\n",
      "[*********************100%***********************]  1 of 1 completed\n",
      "[*********************100%***********************]  1 of 1 completed\n",
      "[*********************100%***********************]  1 of 1 completed\n",
      "[*********************100%***********************]  1 of 1 completed\n",
      "[*********************100%***********************]  1 of 1 completed\n",
      "[*********************100%***********************]  1 of 1 completed\n",
      "[*********************100%***********************]  1 of 1 completed\n",
      "[*********************100%***********************]  1 of 1 completed\n",
      "[*********************100%***********************]  1 of 1 completed\n",
      "[*********************100%***********************]  1 of 1 completed\n",
      "[*********************100%***********************]  1 of 1 completed\n",
      "[*********************100%***********************]  1 of 1 completed\n",
      "[*********************100%***********************]  1 of 1 completed\n",
      "[*********************100%***********************]  1 of 1 completed\n",
      "[*********************100%***********************]  1 of 1 completed\n",
      "[*********************100%***********************]  1 of 1 completed\n",
      "[*********************100%***********************]  1 of 1 completed\n",
      "[*********************100%***********************]  1 of 1 completed\n",
      "[*********************100%***********************]  1 of 1 completed\n",
      "[*********************100%***********************]  1 of 1 completed\n"
     ]
    }
   ],
   "source": [
    "\n",
    "# Über den Yahoo finance API mit den oben definierten Startwerten einlesen.\n",
    "\n",
    "snh = pdr.get_data_yahoo('SNH.DE', start=start, end=end, interval= '1d')\n",
    "fie = pdr.get_data_yahoo('FIE.DE', start=start, end=end, interval= '1d')\n",
    "deq = pdr.get_data_yahoo('DEQ.DE', start=start, end=end, interval= '1d')\n",
    "evd = pdr.get_data_yahoo('EVD.DE', start=start, end=end, interval= '1d')\n",
    "sha = pdr.get_data_yahoo('SHA.DE', start=start, end=end, interval= '1d')\n",
    "gil = pdr.get_data_yahoo('GIL.DE', start=start, end=end, interval= '1d')\n",
    "osr = pdr.get_data_yahoo('OSR.DE', start=start, end=end, interval= '1d')\n",
    "hnr1 = pdr.get_data_yahoo('HNR1.DE', start=start, end=end, interval= '1d')\n",
    "jun = pdr.get_data_yahoo('JUN3.DE', start=start, end=end, interval= '1d')\n",
    "szu = pdr.get_data_yahoo('SZU.DE', start=start, end=end, interval= '1d')\n",
    "fpe3 = pdr.get_data_yahoo('FPE3.DE', start=start, end=end, interval= '1d')\n",
    "teg = pdr.get_data_yahoo('TEG.DE', start=start, end=end, interval= '1d')\n",
    "arl = pdr.get_data_yahoo('ARL.DE', start=start, end=end, interval= '1d')\n",
    "leg = pdr.get_data_yahoo('LEG.DE', start=start, end=end, interval= '1d')\n",
    "#saz = pdr.get_data_yahoo('SAZ.DE', start=start, end=end, interval= '1d')\n",
    "krn = pdr.get_data_yahoo('KRN.DE', start=start, end=end, interval= '1d')\n",
    "kgx = pdr.get_data_yahoo('KGX.DE', start=start, end=end, interval= '1d')\n",
    "zal = pdr.get_data_yahoo('ZAL.DE', start=start, end=end, interval= '1d')\n",
    "rrtl = pdr.get_data_yahoo('RRTL.DE', start=start, end=end, interval= '1d')\n",
    "boss = pdr.get_data_yahoo('BOSS.DE', start=start, end=end, interval= '1d')\n",
    "gxi = pdr.get_data_yahoo('GXI.DE', start=start, end=end, interval= '1d')\n",
    "evk = pdr.get_data_yahoo('EVK.DE', start=start, end=end, interval= '1d')\n",
    "hot = pdr.get_data_yahoo('HOT.DE', start=start, end=end, interval= '1d')\n",
    "noej = pdr.get_data_yahoo('NOEJ.DE', start=start, end=end, interval= '1d')\n",
    "lxs = pdr.get_data_yahoo('LXS.DE', start=start, end=end, interval= '1d')\n",
    "#meo = pdr.get_data_yahoo('MEO.DE', start=start, end=end, interval= '1d')\n",
    "rhk = pdr.get_data_yahoo('RHK.DE', start=start, end=end, interval= '1d')\n",
    "due = pdr.get_data_yahoo('DUE.DE', start=start, end=end, interval= '1d')\n"
   ]
  },
  {
   "cell_type": "markdown",
   "metadata": {},
   "source": [
    "### Aktien vom TecDax laden"
   ]
  },
  {
   "cell_type": "code",
   "execution_count": 179,
   "metadata": {},
   "outputs": [
    {
     "name": "stdout",
     "output_type": "stream",
     "text": [
      "[*********************100%***********************]  1 of 1 completed\n"
     ]
    }
   ],
   "source": [
    "# DAX Chart vom letzten Jahr laden.\n",
    "\n",
    "tecdax_m = pdr.get_data_yahoo(\"^TECDAX\", start=start, end= end, interval='1mo')"
   ]
  },
  {
   "cell_type": "code",
   "execution_count": 180,
   "metadata": {},
   "outputs": [
    {
     "data": {
      "image/png": "[encoded data removed]",
      "text/plain": [
       "<Figure size 432x288 with 1 Axes>"
      ]
     },
     "metadata": {},
     "output_type": "display_data"
    }
   ],
   "source": [
    "# TECDAX-Chart über den oben definierten Zeitraum plotten.\n",
    "plt.plot(tecdax_m['Adj Close'], lw=3)\n",
    "plt.xlabel('Datum')\n",
    "plt.ylabel('Kurs')\n",
    "plt.title('TECDAX-Chart von 01/2019 bis 01/2020')\n",
    "\n",
    "\n",
    "\n",
    "SMALL_SIZE = 12\n",
    "MEDIUM_SIZE = 18\n",
    "BIGGER_SIZE = 20\n",
    "\n",
    "plt.rc('font', size=SMALL_SIZE)          # controls default text sizes\n",
    "plt.rc('axes', titlesize=MEDIUM_SIZE)     # fontsize of the axes title\n",
    "plt.rc('axes', labelsize=MEDIUM_SIZE)    # fontsize of the x and y labels\n",
    "plt.rc('xtick', labelsize=SMALL_SIZE)    # fontsize of the tick labels\n",
    "plt.rc('ytick', labelsize=SMALL_SIZE)    # fontsize of the tick labels\n",
    "plt.rc('legend', fontsize=SMALL_SIZE)    # legend fontsize\n",
    "plt.rc('figure', titlesize=BIGGER_SIZE)"
   ]
  },
  {
   "cell_type": "code",
   "execution_count": 85,
   "metadata": {},
   "outputs": [
    {
     "name": "stdout",
     "output_type": "stream",
     "text": [
      "[*********************100%***********************]  1 of 1 completed\n",
      "[*********************100%***********************]  1 of 1 completed\n",
      "[*********************100%***********************]  1 of 1 completed\n",
      "[*********************100%***********************]  1 of 1 completed\n",
      "[*********************100%***********************]  1 of 1 completed\n",
      "[*********************100%***********************]  1 of 1 completed\n",
      "[*********************100%***********************]  1 of 1 completed\n",
      "[*********************100%***********************]  1 of 1 completed\n",
      "[*********************100%***********************]  1 of 1 completed\n",
      "[*********************100%***********************]  1 of 1 completed\n",
      "[*********************100%***********************]  1 of 1 completed\n",
      "[*********************100%***********************]  1 of 1 completed\n",
      "[*********************100%***********************]  1 of 1 completed\n",
      "[*********************100%***********************]  1 of 1 completed\n",
      "[*********************100%***********************]  1 of 1 completed\n",
      "[*********************100%***********************]  1 of 1 completed\n",
      "[*********************100%***********************]  1 of 1 completed\n",
      "[*********************100%***********************]  1 of 1 completed\n",
      "[*********************100%***********************]  1 of 1 completed\n",
      "[*********************100%***********************]  1 of 1 completed\n",
      "[*********************100%***********************]  1 of 1 completed\n",
      "[*********************100%***********************]  1 of 1 completed\n",
      "[*********************100%***********************]  1 of 1 completed\n",
      "[*********************100%***********************]  1 of 1 completed\n",
      "[*********************100%***********************]  1 of 1 completed\n",
      "[*********************100%***********************]  1 of 1 completed\n",
      "[*********************100%***********************]  1 of 1 completed\n",
      "[*********************100%***********************]  1 of 1 completed\n",
      "[*********************100%***********************]  1 of 1 completed\n"
     ]
    }
   ],
   "source": [
    "#o1bc = pdr.get_data_yahoo('O1BC.DE', start=start, end=end, interval= '1d')\n",
    "cok = pdr.get_data_yahoo('COK.DE', start=start, end=end, interval= '1d')\n",
    "drw3 = pdr.get_data_yahoo('DRW3.DE', start=start, end=end, interval= '1d')\n",
    "cop = pdr.get_data_yahoo('COP.DE', start=start, end=end, interval= '1d')\n",
    "afx = pdr.get_data_yahoo('AFX.DE', start=start, end=end, interval= '1d')\n",
    "nem = pdr.get_data_yahoo('NEM.DE', start=start, end=end, interval= '1d')\n",
    "qia = pdr.get_data_yahoo('QIA.DE', start=start, end=end, interval= '1d')\n",
    "wdi = pdr.get_data_yahoo('WDI.DE', start=start, end=end, interval= '1d')\n",
    "o2d = pdr.get_data_yahoo('O2D.DE', start=start, end=end, interval= '1d')\n",
    "pfv = pdr.get_data_yahoo('PFV.DE', start=start, end=end, interval= '1d')\n",
    "sbs = pdr.get_data_yahoo('SBS.DE', start=start, end=end, interval= '1d')\n",
    "srt3 = pdr.get_data_yahoo('SRT3.DE', start=start, end=end, interval= '1d')\n",
    "s92 = pdr.get_data_yahoo('S92.DE', start=start, end=end, interval= '1d')\n",
    "fntn = pdr.get_data_yahoo('FNTN.DE', start=start, end=end, interval= '1d')\n",
    "utdi = pdr.get_data_yahoo('UTDI.DE', start=start, end=end, interval= '1d')\n",
    "am3d = pdr.get_data_yahoo('AM3D.DE', start=start, end=end, interval= '1d')\n",
    "mor = pdr.get_data_yahoo('MOR.DE', start=start, end=end, interval= '1d')\n",
    "sow = pdr.get_data_yahoo('SOW.DE', start=start, end=end, interval= '1d')\n",
    "jen = pdr.get_data_yahoo('JEN.DE', start=start, end=end, interval= '1d')\n",
    "gft = pdr.get_data_yahoo('GFT.DE', start=start, end=end, interval= '1d')\n",
    "ndx1 = pdr.get_data_yahoo('NDX1.DE', start=start, end=end, interval= '1d')\n",
    "dlg = pdr.get_data_yahoo('DLG.DE', start=start, end=end, interval= '1d')\n",
    "dri = pdr.get_data_yahoo('DRI.DE', start=start, end=end, interval= '1d')\n",
    "smhn = pdr.get_data_yahoo('SMHN.DE', start=start, end=end, interval= '1d')\n",
    "bc8 = pdr.get_data_yahoo('BC8.DE', start=start, end=end, interval= '1d')\n",
    "aixa = pdr.get_data_yahoo('AIXA.DE', start=start, end=end, interval= '1d')\n",
    "adv = pdr.get_data_yahoo('ADV.DE', start=start, end=end, interval= '1d')\n",
    "evt = pdr.get_data_yahoo('EVT.DE', start=start, end=end, interval= '1d')\n",
    "waf = pdr.get_data_yahoo('WAF.DE', start=start, end=end, interval= '1d')\n",
    "rib = pdr.get_data_yahoo('RIB.DE', start=start, end=end, interval= '1d')\n"
   ]
  },
  {
   "cell_type": "markdown",
   "metadata": {},
   "source": [
    "### Aktien gesammelt implementieren "
   ]
  },
  {
   "cell_type": "code",
   "execution_count": 86,
   "metadata": {},
   "outputs": [],
   "source": [
    "Adidas = yf.Ticker('ADS.DE')\n",
    "Allianz = yf.Ticker('ALV.DE')\n",
    "BASF = yf.Ticker('BSF.DE')\n",
    "Bayer = yf.Ticker('BAYN.DE')\n",
    "Beiersdorf = yf.Ticker('BEI.DE')\n",
    "BMW = yf.Ticker('BMW.DE')\n",
    "Continental = yf.Ticker('CON.DE')\n",
    "Covestro = yf.Ticker('1COV.DE')\n",
    "Daimler = yf.Ticker('DAI.DE')\n",
    "DeutscheBank = yf.Ticker('DBK.DE')\n",
    "DeutscheBörse = yf.Ticker('DB1.DE')\n",
    "DeutschePost = yf.Ticker('DPW.DE')\n",
    "DeutscheTelekom = yf.Ticker('DTE.DE')\n",
    "EON = yf.Ticker('EOAN.DE')\n",
    "FreseniusMedCare = yf.Ticker('FME.DE')\n",
    "FreseniusSE = yf.Ticker('FRE.DE')\n",
    "HeidelbergZement = yf.Ticker('HEI.DE')\n",
    "Henkel = yf.Ticker('HEN3.DE')\n",
    "Infineon = yf.Ticker('IFX.DE')\n",
    "Linde = yf.Ticker('LIN.DE')\n",
    "Lufthansa = yf.Ticker('LHA.DE')\n",
    "Merck = yf.Ticker('MRK.DE')\n",
    "MTUAeroEngines = yf.Ticker('MTX.F')\n",
    "MünchnerRückversicherungsGesellschaft = yf.Ticker('MUV2.DE')\n",
    "RWE = yf.Ticker('RWE.DE')\n",
    "SAP = yf.Ticker('SAP.DE')\n",
    "Siemens = yf.Ticker('SIE.DE')\n",
    "Volkswagen = yf.Ticker('VOW3.DE')\n",
    "Venovia = yf.Ticker('VNA.DE')\n",
    "Wirecard = yf.Ticker('WDI.DE')"
   ]
  },
  {
   "cell_type": "code",
   "execution_count": 87,
   "metadata": {},
   "outputs": [
    {
     "name": "stdout",
     "output_type": "stream",
     "text": [
      "                 Open       High        Low      Close  Adj Close   Volume\n",
      "Date                                                                      \n",
      "2018-12-06  31.190001  31.190001  30.590000  30.840000  30.840000   551796\n",
      "2018-12-07  30.740000  31.580000  30.740000  31.150000  31.150000   592646\n",
      "2018-12-10  30.709999  31.219999  30.700001  30.719999  30.719999   514539\n",
      "2018-12-11  30.790001  31.270000  30.790001  30.990000  30.990000   397648\n",
      "2018-12-12  31.209999  31.370001  30.799999  31.280001  31.280001   413945\n",
      "2018-12-13  31.120001  31.230000  30.680000  30.799999  30.799999   355728\n",
      "2018-12-14  30.530001  30.730000  30.389999  30.600000  30.600000   495047\n",
      "2018-12-17  30.790001  30.790001  30.040001  30.290001  30.290001   414438\n",
      "2018-12-18  30.190001  30.190001  29.719999  29.840000  29.840000   742560\n",
      "2018-12-19  29.530001  29.940001  29.530001  29.799999  29.799999   637732\n",
      "2018-12-20  29.260000  29.700001  29.260000  29.379999  29.379999   581544\n",
      "2018-12-21  29.219999  30.010000  29.139999  29.480000  29.480000  1090093\n",
      "2018-12-27  29.440001  29.790001  29.010000  29.240000  29.240000   478468\n",
      "2018-12-28  29.389999  29.760000  29.320000  29.680000  29.680000   331627\n",
      "2019-01-02  29.620001  30.010000  29.190001  29.760000  29.760000   555388\n",
      "2019-01-03  29.740000  30.030001  29.440001  29.760000  29.760000   568689\n",
      "2019-01-04  30.059999  30.840000  29.690001  30.700001  30.700001   570127\n",
      "2019-01-07  30.700001  30.920000  30.510000  30.760000  30.760000   584390\n",
      "2019-01-08  30.799999  31.020000  30.480000  30.840000  30.840000   587740\n",
      "2019-01-09  31.110001  31.360001  30.969999  31.219999  31.219999   508816\n",
      "2019-01-10  31.180000  31.530001  31.030001  31.400000  31.400000   490705\n",
      "2019-01-11  31.420000  31.820000  31.320000  31.430000  31.430000   422926\n",
      "2019-01-14  31.660000  31.680000  31.219999  31.250000  31.250000   418751\n",
      "2019-01-15  31.520000  31.809999  31.230000  31.709999  31.709999   515521\n",
      "2019-01-16  31.870001  32.290001  31.770000  32.000000  32.000000   647705\n",
      "2019-01-17  32.000000  32.259998  31.860001  31.990000  31.990000   455924\n",
      "2019-01-18  32.250000  32.529999  32.009998  32.450001  32.450001   489230\n",
      "2019-01-21  32.369999  32.630001  32.220001  32.250000  32.250000   356890\n",
      "2019-01-22  32.759998  32.770000  32.250000  32.459999  32.459999   486157\n",
      "2019-01-23  32.200001  32.799999  32.160000  32.520000  32.520000   422898\n",
      "...               ...        ...        ...        ...        ...      ...\n",
      "2019-11-18  38.119999  38.599998  36.860001  36.900002  36.900002  2729750\n",
      "2019-11-19  37.000000  37.700001  36.990002  37.250000  37.250000  1417664\n",
      "2019-11-20  36.990002  37.250000  36.639999  36.910000  36.910000   748312\n",
      "2019-11-21  36.709999  37.189999  36.500000  37.110001  37.110001   972683\n",
      "2019-11-22  37.099998  38.189999  37.099998  37.779999  37.779999   913829\n",
      "2019-11-25  37.889999  38.029999  37.750000  37.959999  37.959999   597707\n",
      "2019-11-26  37.900002  38.799999  37.750000  38.590000  38.590000  1106261\n",
      "2019-11-27  38.680000  38.680000  38.259998  38.450001  38.450001   520433\n",
      "2019-11-28  38.430000  38.709999  38.389999  38.610001  38.610001   340893\n",
      "2019-11-29  38.400002  38.970001  38.349998  38.860001  38.860001   472764\n",
      "2019-12-02  38.970001  39.189999  38.020000  38.279999  38.279999   820781\n",
      "2019-12-03  38.630001  38.939999  38.340000  38.349998  38.349998   760422\n",
      "2019-12-04  38.180000  38.570000  37.740002  38.009998  38.009998   828580\n",
      "2019-12-05  37.959999  38.119999  37.599998  37.660000  37.660000   543550\n",
      "2019-12-06  37.650002  38.240002  37.500000  37.990002  37.990002   547584\n",
      "2019-12-09  37.840000  37.930000  37.450001  37.599998  37.599998   496389\n",
      "2019-12-10  37.529999  37.639999  37.009998  37.470001  37.470001   639048\n",
      "2019-12-11  37.509998  37.639999  37.049999  37.230000  37.230000   554128\n",
      "2019-12-12  37.169998  37.419998  37.070000  37.220001  37.220001   728302\n",
      "2019-12-13  37.209999  37.320000  36.830002  37.000000  37.000000   434833\n",
      "2019-12-16  37.000000  37.490002  36.939999  37.099998  37.099998   391974\n",
      "2019-12-17  37.060001  37.099998  36.730000  36.980000  36.980000   644267\n",
      "2019-12-18  36.910000  37.029999  36.560001  36.709999  36.709999   520860\n",
      "2019-12-19  36.720001  37.000000  36.630001  36.860001  36.860001   528966\n",
      "2019-12-20  37.200001  37.560001  36.750000  37.230000  37.230000  1071979\n",
      "2019-12-23  37.150002  37.590000  36.970001  37.029999  37.029999   309424\n",
      "2019-12-27  29.660000  30.590000  29.320000  30.299999  30.299999  2327944\n",
      "2019-12-30  30.559999  30.559999  30.000000  30.459999  30.459999   585623\n",
      "2020-01-02  30.410000  30.879999  30.200001  30.450001  30.450001  1075292\n",
      "2020-01-03  30.400000  30.620001  30.030001  30.580000  30.580000   659531\n",
      "\n",
      "[267 rows x 6 columns]\n"
     ]
    }
   ],
   "source": [
    "print(qia)"
   ]
  },
  {
   "cell_type": "code",
   "execution_count": 88,
   "metadata": {},
   "outputs": [
    {
     "data": {
      "text/plain": [
       "DatetimeIndex(['2018-12-06', '2018-12-07', '2018-12-10', '2018-12-11',\n",
       "               '2018-12-12', '2018-12-13', '2018-12-14', '2018-12-17',\n",
       "               '2018-12-18', '2018-12-19',\n",
       "               ...\n",
       "               '2019-12-16', '2019-12-17', '2019-12-18', '2019-12-19',\n",
       "               '2019-12-20', '2019-12-23', '2019-12-27', '2019-12-30',\n",
       "               '2020-01-02', '2020-01-03'],\n",
       "              dtype='datetime64[ns]', name='Date', length=267, freq=None)"
      ]
     },
     "execution_count": 88,
     "metadata": {},
     "output_type": "execute_result"
    }
   ],
   "source": [
    "qia.index"
   ]
  },
  {
   "cell_type": "code",
   "execution_count": 89,
   "metadata": {},
   "outputs": [
    {
     "data": {
      "text/plain": [
       "Index(['Open', 'High', 'Low', 'Close', 'Adj Close', 'Volume'], dtype='object')"
      ]
     },
     "execution_count": 89,
     "metadata": {},
     "output_type": "execute_result"
    }
   ],
   "source": [
    "qia.columns"
   ]
  },
  {
   "cell_type": "code",
   "execution_count": 90,
   "metadata": {},
   "outputs": [],
   "source": [
    "qiaclose = qia['Adj Close']"
   ]
  },
  {
   "cell_type": "code",
   "execution_count": 91,
   "metadata": {},
   "outputs": [
    {
     "name": "stdout",
     "output_type": "stream",
     "text": [
      "Date\n",
      "2018-12-06    30.840000\n",
      "2018-12-07    31.150000\n",
      "2018-12-10    30.719999\n",
      "2018-12-11    30.990000\n",
      "2018-12-12    31.280001\n",
      "2018-12-13    30.799999\n",
      "2018-12-14    30.600000\n",
      "2018-12-17    30.290001\n",
      "2018-12-18    29.840000\n",
      "2018-12-19    29.799999\n",
      "2018-12-20    29.379999\n",
      "2018-12-21    29.480000\n",
      "2018-12-27    29.240000\n",
      "2018-12-28    29.680000\n",
      "2019-01-02    29.760000\n",
      "2019-01-03    29.760000\n",
      "2019-01-04    30.700001\n",
      "2019-01-07    30.760000\n",
      "2019-01-08    30.840000\n",
      "2019-01-09    31.219999\n",
      "2019-01-10    31.400000\n",
      "2019-01-11    31.430000\n",
      "2019-01-14    31.250000\n",
      "2019-01-15    31.709999\n",
      "2019-01-16    32.000000\n",
      "2019-01-17    31.990000\n",
      "2019-01-18    32.450001\n",
      "2019-01-21    32.250000\n",
      "2019-01-22    32.459999\n",
      "2019-01-23    32.520000\n",
      "                ...    \n",
      "2019-11-18    36.900002\n",
      "2019-11-19    37.250000\n",
      "2019-11-20    36.910000\n",
      "2019-11-21    37.110001\n",
      "2019-11-22    37.779999\n",
      "2019-11-25    37.959999\n",
      "2019-11-26    38.590000\n",
      "2019-11-27    38.450001\n",
      "2019-11-28    38.610001\n",
      "2019-11-29    38.860001\n",
      "2019-12-02    38.279999\n",
      "2019-12-03    38.349998\n",
      "2019-12-04    38.009998\n",
      "2019-12-05    37.660000\n",
      "2019-12-06    37.990002\n",
      "2019-12-09    37.599998\n",
      "2019-12-10    37.470001\n",
      "2019-12-11    37.230000\n",
      "2019-12-12    37.220001\n",
      "2019-12-13    37.000000\n",
      "2019-12-16    37.099998\n",
      "2019-12-17    36.980000\n",
      "2019-12-18    36.709999\n",
      "2019-12-19    36.860001\n",
      "2019-12-20    37.230000\n",
      "2019-12-23    37.029999\n",
      "2019-12-27    30.299999\n",
      "2019-12-30    30.459999\n",
      "2020-01-02    30.450001\n",
      "2020-01-03    30.580000\n",
      "Name: Adj Close, Length: 267, dtype: float64\n"
     ]
    }
   ],
   "source": [
    "print(qiaclose)"
   ]
  },
  {
   "cell_type": "code",
   "execution_count": 100,
   "metadata": {},
   "outputs": [
    {
     "data": {
      "text/plain": [
       "30.84000015258789"
      ]
     },
     "execution_count": 100,
     "metadata": {},
     "output_type": "execute_result"
    }
   ],
   "source": [
    "# Nun kann mit den oberen Zeitfenster die Werte des Adj Close direkt geöffnet werden\n",
    "\n",
    "qiaclose[start]"
   ]
  },
  {
   "cell_type": "code",
   "execution_count": 95,
   "metadata": {},
   "outputs": [
    {
     "name": "stdout",
     "output_type": "stream",
     "text": [
      "                  Open        High         Low       Close   Adj Close  \\\n",
      "Date                                                                     \n",
      "2018-12-06  194.949997  195.949997  192.500000  193.550003  190.954865   \n",
      "2018-12-07  195.149994  200.800003  195.149994  195.449997  192.829391   \n",
      "2018-12-10  194.050003  194.800003  192.300003  192.800003  190.214935   \n",
      "2018-12-11  192.800003  198.399994  192.500000  197.500000  194.851913   \n",
      "2018-12-12  198.500000  200.300003  197.649994  199.100006  196.430466   \n",
      "2018-12-13  200.199997  201.100006  198.899994  200.000000  197.318390   \n",
      "2018-12-14  197.649994  198.600006  194.500000  195.500000  192.878723   \n",
      "2018-12-17  192.750000  194.000000  185.149994  186.850006  184.344711   \n",
      "2018-12-18  185.899994  188.699997  183.699997  186.199997  183.703415   \n",
      "2018-12-19  186.949997  189.050003  186.300003  187.050003  184.542023   \n",
      "2018-12-20  184.000000  185.300003  182.750000  183.750000  181.286270   \n",
      "2018-12-21  183.000000  185.550003  179.149994  184.750000  182.272858   \n",
      "2018-12-27  185.149994  185.250000  178.149994  180.100006  177.685211   \n",
      "2018-12-28  181.149994  183.649994  181.100006  182.399994  179.954361   \n",
      "2019-01-02  183.050003  186.899994  181.350006  184.399994  181.927551   \n",
      "2019-01-03  182.699997  186.899994  182.350006  183.949997  181.483582   \n",
      "2019-01-04  186.149994  191.300003  185.449997  191.050003  188.488388   \n",
      "2019-01-07  189.149994  191.300003  189.000000  189.699997  187.156494   \n",
      "2019-01-08  189.699997  197.100006  189.500000  194.300003  191.694809   \n",
      "2019-01-09  195.699997  198.149994  192.800003  193.850006  191.250854   \n",
      "2019-01-10  192.899994  196.199997  192.850006  195.500000  192.878723   \n",
      "2019-01-11  196.199997  198.149994  195.600006  197.000000  194.358612   \n",
      "2019-01-14  195.000000  198.000000  194.399994  197.300003  194.654587   \n",
      "2019-01-15  198.350006  199.250000  195.949997  199.250000  196.578445   \n",
      "2019-01-16  199.899994  200.199997  196.500000  198.100006  195.443863   \n",
      "2019-01-17  196.699997  200.199997  196.699997  200.000000  197.318390   \n",
      "2019-01-18  200.399994  205.500000  200.000000  204.000000  201.264755   \n",
      "2019-01-21  204.000000  206.000000  203.399994  206.000000  203.237946   \n",
      "2019-01-22  204.800003  208.399994  204.199997  205.800003  203.040619   \n",
      "2019-01-23  205.100006  207.699997  205.000000  207.300003  204.520508   \n",
      "...                ...         ...         ...         ...         ...   \n",
      "2019-11-18  271.549988  273.299988  269.200012  270.950012  270.950012   \n",
      "2019-11-19  271.600006  276.350006  270.799988  272.149994  272.149994   \n",
      "2019-11-20  272.299988  274.100006  267.899994  273.000000  273.000000   \n",
      "2019-11-21  272.000000  273.649994  270.200012  273.000000  273.000000   \n",
      "2019-11-22  273.549988  275.399994  272.049988  273.000000  273.000000   \n",
      "2019-11-25  274.850006  277.100006  274.250000  274.950012  274.950012   \n",
      "2019-11-26  275.700012  278.549988  273.549988  278.549988  278.549988   \n",
      "2019-11-27  279.250000  282.850006  278.450012  281.950012  281.950012   \n",
      "2019-11-28  281.149994  283.549988  280.299988  281.950012  281.950012   \n",
      "2019-11-29  281.500000  286.750000  280.750000  282.750000  282.750000   \n",
      "2019-12-02  284.000000  288.299988  273.899994  275.049988  275.049988   \n",
      "2019-12-03  276.549988  280.000000  275.700012  278.100006  278.100006   \n",
      "2019-12-04  279.000000  281.600006  276.500000  277.850006  277.850006   \n",
      "2019-12-05  279.200012  280.100006  275.750000  276.100006  276.100006   \n",
      "2019-12-06  277.250000  280.700012  276.399994  279.200012  279.200012   \n",
      "2019-12-09  278.149994  279.250000  273.899994  273.899994  273.899994   \n",
      "2019-12-10  273.000000  275.450012  268.750000  275.049988  275.049988   \n",
      "2019-12-11  275.450012  278.899994  274.450012  278.399994  278.399994   \n",
      "2019-12-12  279.100006  282.450012  277.000000  278.200012  278.200012   \n",
      "2019-12-13  282.950012  283.000000  277.450012  278.600006  278.600006   \n",
      "2019-12-16  279.950012  287.149994  279.100006  285.799988  285.799988   \n",
      "2019-12-17  285.799988  288.250000  283.899994  286.899994  286.899994   \n",
      "2019-12-18  286.200012  290.450012  285.299988  289.649994  289.649994   \n",
      "2019-12-19  289.700012  290.750000  287.750000  288.350006  288.350006   \n",
      "2019-12-20  288.649994  291.950012  286.399994  291.450012  291.450012   \n",
      "2019-12-23  292.299988  294.950012  291.000000  291.100006  291.100006   \n",
      "2019-12-27  293.299988  294.200012  290.549988  292.500000  292.500000   \n",
      "2019-12-30  291.299988  292.549988  289.549988  289.799988  289.799988   \n",
      "2020-01-02  289.200012  293.250000  289.200012  291.549988  291.549988   \n",
      "2020-01-03  290.000000  292.250000  288.350006  291.950012  291.950012   \n",
      "\n",
      "             Volume  \n",
      "Date                 \n",
      "2018-12-06   917708  \n",
      "2018-12-07   890022  \n",
      "2018-12-10   708975  \n",
      "2018-12-11   785219  \n",
      "2018-12-12   728347  \n",
      "2018-12-13   601006  \n",
      "2018-12-14   814498  \n",
      "2018-12-17  1756247  \n",
      "2018-12-18   985056  \n",
      "2018-12-19   697398  \n",
      "2018-12-20   820234  \n",
      "2018-12-21  2238677  \n",
      "2018-12-27   807876  \n",
      "2018-12-28   443391  \n",
      "2019-01-02   803984  \n",
      "2019-01-03   776471  \n",
      "2019-01-04   930881  \n",
      "2019-01-07   498239  \n",
      "2019-01-08   834170  \n",
      "2019-01-09   606721  \n",
      "2019-01-10   519016  \n",
      "2019-01-11   509076  \n",
      "2019-01-14   515239  \n",
      "2019-01-15   541177  \n",
      "2019-01-16   529723  \n",
      "2019-01-17   583021  \n",
      "2019-01-18  1061953  \n",
      "2019-01-21   452344  \n",
      "2019-01-22   725204  \n",
      "2019-01-23   565282  \n",
      "...             ...  \n",
      "2019-11-18   471228  \n",
      "2019-11-19   493404  \n",
      "2019-11-20   365220  \n",
      "2019-11-21   557479  \n",
      "2019-11-22   492051  \n",
      "2019-11-25   384628  \n",
      "2019-11-26   617866  \n",
      "2019-11-27   493428  \n",
      "2019-11-28   360716  \n",
      "2019-11-29   561777  \n",
      "2019-12-02   845570  \n",
      "2019-12-03   718508  \n",
      "2019-12-04   529477  \n",
      "2019-12-05   488334  \n",
      "2019-12-06   468252  \n",
      "2019-12-09   454827  \n",
      "2019-12-10   681361  \n",
      "2019-12-11   485418  \n",
      "2019-12-12   587392  \n",
      "2019-12-13   654339  \n",
      "2019-12-16   545036  \n",
      "2019-12-17   621667  \n",
      "2019-12-18   631156  \n",
      "2019-12-19   630018  \n",
      "2019-12-20  1393691  \n",
      "2019-12-23   349958  \n",
      "2019-12-27   326470  \n",
      "2019-12-30   215885  \n",
      "2020-01-02   429314  \n",
      "2020-01-03   440067  \n",
      "\n",
      "[267 rows x 6 columns]\n"
     ]
    }
   ],
   "source": []
  },
  {
   "cell_type": "code",
   "execution_count": 101,
   "metadata": {},
   "outputs": [],
   "source": [
    "adidasclose= adidas['Adj Close']"
   ]
  },
  {
   "cell_type": "code",
   "execution_count": null,
   "metadata": {},
   "outputs": [],
   "source": []
  },
  {
   "cell_type": "code",
   "execution_count": null,
   "metadata": {},
   "outputs": [],
   "source": []
  }
 ],
 "metadata": {
  "kernelspec": {
   "display_name": "Python 3",
   "language": "python",
   "name": "python3"
  },
  "language_info": {
   "codemirror_mode": {
    "name": "ipython",
    "version": 3
   },
   "file_extension": ".py",
   "mimetype": "text/x-python",
   "name": "python",
   "nbconvert_exporter": "python",
   "pygments_lexer": "ipython3",
   "version": "3.7.4"
  },
  "toc": {
   "base_numbering": 1,
   "nav_menu": {},
   "number_sections": true,
   "sideBar": true,
   "skip_h1_title": false,
   "title_cell": "Table of Contents",
   "title_sidebar": "Contents",
   "toc_cell": false,
   "toc_position": {},
   "toc_section_display": true,
   "toc_window_display": false
  },
  "varInspector": {
   "cols": {
    "lenName": 16,
    "lenType": 16,
    "lenVar": 40
   },
   "kernels_config": {
    "python": {
     "delete_cmd_postfix": "",
     "delete_cmd_prefix": "del ",
     "library": "var_list.py",
     "varRefreshCmd": "print(var_dic_list())"
    },
    "r": {
     "delete_cmd_postfix": ") ",
     "delete_cmd_prefix": "rm(",
     "library": "var_list.r",
     "varRefreshCmd": "cat(var_dic_list()) "
    }
   },
   "types_to_exclude": [
    "module",
    "function",
    "builtin_function_or_method",
    "instance",
    "_Feature"
   ],
   "window_display": false
  }
 },
 "nbformat": 4,
 "nbformat_minor": 2
}
