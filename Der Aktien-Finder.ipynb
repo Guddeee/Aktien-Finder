{
 "cells": [
  {
   "cell_type": "markdown",
   "metadata": {},
   "source": [
    "# <span style=\"color:blue\">**Der Aktien-Finder**</span> <br>\n",
    "\n",
    "Hierbei werden Aktien anhand einer von **Susan Levermann** entwickelten Methode nach unterschiedlichen KPIs bewertet und bepunktet. Frau Levermann hat dieses Bewertungsmodell in ihrem Buch _Der entspannte Weg zum Reichtum_ literarisch beschrieben.<br>\n",
    "\n",
    "Wir betrachten in der folgenden Applikation nur die deutschen Aktienindizes, welche nun wie folgt lauten: <br>\n",
    "\n",
    "1. <span style=\"color:blue\">**DAX**</span>\n",
    "2. <span style=\"color:black\">**TecDax**</span>\n",
    "3. <span style=\"color:red\">**MDAX**</span>\n",
    "<br>\n",
    "\n",
    "Die __key performance indicators__ (kurz: __KPI__) von Frau Levermann umfassen 13 Kennzahlen. \n",
    "Wir beschränken uns zunächst auf folgende vier: <br>\n",
    "\n",
    "1. Kurs heute gegenüber Kurs von vor 6 Monaten\n",
    "2. Kurs heute gegenüber Kurs von vor einem Jahr\n",
    "3. Kurs-Gewinn-Verhältnis (KGV) aktuell\n",
    "4. Kurs-Gewinn-Verhältnis (KGV) 5 Jahre\n",
    "<br>\n",
    "\n",
    "Für jedes dieser Kriterien gibt es folgende mögliche Punktevergaben **+1** ; **0** oder **-1** .\n",
    "Die Gesamtpunktzahl ergibt den ***LEVERMAN-SCORE***.\n",
    "Besitzt dieser Score mindestens 4 Punkte sollte die Aktie <span style=\"color:green\"> ***gekauft*** </span> werden (Large Caps).\n",
    "Bei Small- & Mid Caps sollten 7 Punkte beachtet werden, da kleine Unternehmen größeren Risiken ausgesetzt sind.\n",
    "\n"
   ]
  },
  {
   "cell_type": "markdown",
   "metadata": {},
   "source": [
    "## Importieren gängiger APIs zum Erstellen des Dashboardes"
   ]
  },
  {
   "cell_type": "code",
   "execution_count": 91,
   "metadata": {},
   "outputs": [],
   "source": [
    "# Zeitfenster definieren\n",
    "import datetime\n",
    "from datetime import date    \n",
    "\n",
    "# Beginn des Zeitfenster zur Ermittlung der Kennzahlen HEUTE vor einem Jahr\n",
    "start = (datetime.date.today() - datetime.timedelta(365)).isoformat()\n",
    "\n",
    "# Beginn des Zeitfenster zur Ermittlung der Kennzahlen HEUTE vor einem halben Jahr\n",
    "halftime = (datetime.date.today() - datetime.timedelta(182)).isoformat()\n",
    "\n",
    "# Ende des Zeitfenster stellt der heutige Tag dar. \n",
    "end = (datetime.date.today() - datetime.timedelta(4)).isoformat()\n",
    "\n",
    "# Von Heute zum Vorquartal für Kennzahl Eigenkapitalrendite erforderlich\n",
    "\n",
    "quarterly = (datetime.date.today() - datetime.timedelta(99))\n"
   ]
  },
  {
   "cell_type": "code",
   "execution_count": 92,
   "metadata": {},
   "outputs": [
    {
     "name": "stdout",
     "output_type": "stream",
     "text": [
      "2019-01-07\n",
      "2019-07-09\n",
      "2020-01-03\n",
      "2019-09-30\n"
     ]
    }
   ],
   "source": [
    "print(start)\n",
    "print(halftime)\n",
    "print(end)\n",
    "print(quarterly)"
   ]
  },
  {
   "cell_type": "code",
   "execution_count": 7,
   "metadata": {},
   "outputs": [],
   "source": [
    "# Benötigte API laden\n",
    "\n",
    "import os\n",
    "from pathlib import Path\n",
    "import ipywidgets as widgets\n",
    "import pandas as pd\n",
    "import pandas_datareader.data as web\n",
    "from pandas.plotting import register_matplotlib_converters\n",
    "register_matplotlib_converters()\n",
    "import datetime as dt\n",
    "import numpy as np\n",
    "import seaborn as sns\n",
    "import matplotlib.pyplot as plt\n",
    "sns.set_style(\"whitegrid\")\n",
    "\n",
    "import yfinance as yf\n",
    "from pandas_datareader import data as pdr \n",
    "yf.pdr_override()"
   ]
  },
  {
   "cell_type": "code",
   "execution_count": 8,
   "metadata": {},
   "outputs": [],
   "source": [
    "# linienstaerke definieren\n",
    "\n",
    "paper_rc = {'lines.linewidth': 0.9, 'lines.markersize': 10}\n",
    "sns.set_context('paper', rc = paper_rc)"
   ]
  },
  {
   "cell_type": "markdown",
   "metadata": {},
   "source": [
    "## Datenbezug der Indizes DAX, TecDAX, MDAX erstellen"
   ]
  },
  {
   "cell_type": "markdown",
   "metadata": {},
   "source": [
    "### Aktien von DAX laden"
   ]
  },
  {
   "cell_type": "code",
   "execution_count": 9,
   "metadata": {},
   "outputs": [
    {
     "name": "stdout",
     "output_type": "stream",
     "text": [
      "[*********************100%***********************]  1 of 1 completed\n"
     ]
    }
   ],
   "source": [
    "\n",
    "# DAX Chart vom letzten Jahr laden.\n",
    "\n",
    "dax_m = pdr.get_data_yahoo(\"^GDAXI\", start=start, end= end, interval='1mo')"
   ]
  },
  {
   "cell_type": "code",
   "execution_count": 10,
   "metadata": {},
   "outputs": [
    {
     "data": {
      "image/png": "[encoded data removed]",
      "text/plain": [
       "<Figure size 432x288 with 1 Axes>"
      ]
     },
     "metadata": {},
     "output_type": "display_data"
    }
   ],
   "source": [
    "\n",
    "# DAX-Chart über den oben definierten Zeitraum plotten.\n",
    "plt.plot(dax_m['Adj Close'], lw=3)\n",
    "plt.xlabel('Datum')\n",
    "plt.ylabel('Kurs')\n",
    "plt.title('DAX-Chart von 01/2019 bis 01/2020')\n",
    "\n",
    "\n",
    "\n",
    "SMALL_SIZE = 12\n",
    "MEDIUM_SIZE = 18\n",
    "BIGGER_SIZE = 20\n",
    "\n",
    "plt.rc('font', size=SMALL_SIZE)          # controls default text sizes\n",
    "plt.rc('axes', titlesize=MEDIUM_SIZE)     # fontsize of the axes title\n",
    "plt.rc('axes', labelsize=MEDIUM_SIZE)    # fontsize of the x and y labels\n",
    "plt.rc('xtick', labelsize=SMALL_SIZE)    # fontsize of the tick labels\n",
    "plt.rc('ytick', labelsize=SMALL_SIZE)    # fontsize of the tick labels\n",
    "plt.rc('legend', fontsize=SMALL_SIZE)    # legend fontsize\n",
    "plt.rc('figure', titlesize=BIGGER_SIZE)\n"
   ]
  },
  {
   "cell_type": "code",
   "execution_count": 11,
   "metadata": {},
   "outputs": [
    {
     "name": "stdout",
     "output_type": "stream",
     "text": [
      "[*********************100%***********************]  1 of 1 completed\n",
      "[*********************100%***********************]  1 of 1 completed\n",
      "[*********************100%***********************]  1 of 1 completed\n",
      "[*********************100%***********************]  1 of 1 completed\n",
      "[*********************100%***********************]  1 of 1 completed\n",
      "[*********************100%***********************]  1 of 1 completed\n",
      "[*********************100%***********************]  1 of 1 completed\n",
      "[*********************100%***********************]  1 of 1 completed\n",
      "[*********************100%***********************]  1 of 1 completed\n",
      "[*********************100%***********************]  1 of 1 completed\n",
      "[*********************100%***********************]  1 of 1 completed\n",
      "[*********************100%***********************]  1 of 1 completed\n",
      "[*********************100%***********************]  1 of 1 completed\n",
      "[*********************100%***********************]  1 of 1 completed\n",
      "[*********************100%***********************]  1 of 1 completed\n",
      "[*********************100%***********************]  1 of 1 completed\n",
      "[*********************100%***********************]  1 of 1 completed\n",
      "[*********************100%***********************]  1 of 1 completed\n",
      "[*********************100%***********************]  1 of 1 completed\n",
      "[*********************100%***********************]  1 of 1 completed\n",
      "[*********************100%***********************]  1 of 1 completed\n",
      "[*********************100%***********************]  1 of 1 completed\n",
      "[*********************100%***********************]  1 of 1 completed\n",
      "[*********************100%***********************]  1 of 1 completed\n",
      "[*********************100%***********************]  1 of 1 completed\n",
      "[*********************100%***********************]  1 of 1 completed\n",
      "[*********************100%***********************]  1 of 1 completed\n",
      "[*********************100%***********************]  1 of 1 completed\n",
      "[*********************100%***********************]  1 of 1 completed\n",
      "[*********************100%***********************]  1 of 1 completed\n"
     ]
    }
   ],
   "source": [
    "\n",
    "# MDAX-Aktien für die Berechnungen der Kursgegenüberstellungen\n",
    "\n",
    "adidas = pdr.get_data_yahoo('ADS.DE', start=start, end=end, interval= '1d')\n",
    "bmw = pdr.get_data_yahoo('BMW.DE', start=start, end=end, interval= '1d')\n",
    "heise = pdr.get_data_yahoo('HEI.DE', start=start, end=end, interval= '1d')\n",
    "ifx = pdr.get_data_yahoo('IFX.DE', start=start, end=end, interval= '1d')\n",
    "cov = pdr.get_data_yahoo('1COV.DE', start=start, end=end, interval= '1d')\n",
    "fme = pdr.get_data_yahoo('FME.DE', start=start, end=end, interval= '1d')\n",
    "fre = pdr.get_data_yahoo('FRE.DE', start=start, end=end, interval= '1d')\n",
    "sap = pdr.get_data_yahoo('SAP.DE', start=start, end=end, interval= '1d')\n",
    "dai = pdr.get_data_yahoo('DAI.DE', start=start, end=end, interval= '1d')\n",
    "muv2 = pdr.get_data_yahoo('MUV2.DE', start=start, end=end, interval= '1d')\n",
    "vow3 = pdr.get_data_yahoo('VOW3.DE', start=start, end=end, interval= '1d')\n",
    "alv = pdr.get_data_yahoo('ALV.DE', start=start, end=end, interval= '1d')\n",
    "bas = pdr.get_data_yahoo('BAS.DE', start=start, end=end, interval= '1d')\n",
    "lin = pdr.get_data_yahoo('LIN.DE', start=start, end=end, interval= '1d')\n",
    "bayn = pdr.get_data_yahoo('BAYN.DE', start=start, end=end, interval= '1d')\n",
    "dpw = pdr.get_data_yahoo('DPW.DE', start=start, end=end, interval= '1d')\n",
    "dte = pdr.get_data_yahoo('DTE.DE', start=start, end=end, interval= '1d')\n",
    "con = pdr.get_data_yahoo('CON.DE', start=start, end=end, interval= '1d')\n",
    "vna = pdr.get_data_yahoo('VNA.DE', start=start, end=end, interval= '1d')\n",
    "bei = pdr.get_data_yahoo('BEI.DE', start=start, end=end, interval= '1d')\n",
    "mrk = pdr.get_data_yahoo('MRK.DE', start=start, end=end, interval= '1d')\n",
    "rwe = pdr.get_data_yahoo('RWE.DE', start=start, end=end, interval= '1d')\n",
    "hen3 = pdr.get_data_yahoo('HEN3.DE', start=start, end=end, interval= '1d')\n",
    "lha = pdr.get_data_yahoo('LHA.DE', start=start, end=end, interval= '1d')\n",
    "eon = pdr.get_data_yahoo('EOAN.DE', start=start, end=end, interval= '1d')\n",
    "sie = pdr.get_data_yahoo('SIE.DE', start=start, end=end, interval= '1d')\n",
    "dbahn = pdr.get_data_yahoo('DB1.DE', start=start, end=end, interval= '1d')\n",
    "tka = pdr.get_data_yahoo('TKA.DE', start=start, end=end, interval= '1d')\n",
    "wdi = pdr.get_data_yahoo('WDI.DE', start=start, end=end, interval= '1d')\n",
    "arl = pdr.get_data_yahoo('ARL.DE', start=start, end=end, interval= '1d')\n"
   ]
  },
  {
   "cell_type": "code",
   "execution_count": 107,
   "metadata": {},
   "outputs": [],
   "source": [
    "# DAX: Aktien-Ticker für die Berechnung der Eigenkapitalrendite\n",
    "\n",
    "adidas_tck= yf.Ticker('ADS.DE')\n",
    "allianz_tck= yf.Ticker('ALV.DE')\n",
    "basf_tck= yf.Ticker('BSF.DE')\n",
    "bayer_tck= yf.Ticker('BAYN.DE')\n",
    "beiersdorf_tck= yf.Ticker('BEI.DE')\n",
    "bmw_tck= yf.Ticker('BMW.DE')\n",
    "continental_tck= yf.Ticker('CON.DE')\n",
    "covestro_tck= yf.Ticker('1COV.DE')\n",
    "daimler_tck= yf.Ticker('DAI.DE')\n",
    "deutschebank_tck= yf.Ticker('DBK.DE')\n",
    "deutschebörse_tck= yf.Ticker('DB1.DE')\n",
    "deutschepost_tck= yf.Ticker('DPW.DE')\n",
    "deutschetelekom_tck= yf.Ticker('DTE.DE')\n",
    "eon_tck= yf.Ticker('EOAN.DE')\n",
    "freseniusmedcare_tck= yf.Ticker('FME.DE')\n",
    "freseniusse_tck= yf.Ticker('FRE.DE')\n",
    "heidelbergzement_tck= yf.Ticker('HEI.DE')\n",
    "henkel_tck= yf.Ticker('HEN3.DE')\n",
    "infineon_tck= yf.Ticker('IFX.DE')\n",
    "linde_tck= yf.Ticker('LIN.DE')\n",
    "lufthansa_tck= yf.Ticker('LHA.DE')\n",
    "merck_tck= yf.Ticker('MRK.DE')\n",
    "mtuaeroengines_tck= yf.Ticker('MTX.F')\n",
    "münchnerrückversicherungsgesellschaft_tck= yf.Ticker('MUV2.DE')\n",
    "rwe_tck= yf.Ticker('RWE.DE')\n",
    "sap_tck= yf.Ticker('SAP.DE')\n",
    "siemens_tck= yf.Ticker('SIE.DE')\n",
    "volkswagen_tck= yf.Ticker('VOW3.DE')\n",
    "venovia_tck= yf.Ticker('VNA.DE')\n",
    "wirecard_tck= yf.Ticker('WDI.DE')\n"
   ]
  },
  {
   "cell_type": "markdown",
   "metadata": {},
   "source": [
    "### Aktien von MDAX laden"
   ]
  },
  {
   "cell_type": "code",
   "execution_count": 12,
   "metadata": {},
   "outputs": [
    {
     "name": "stdout",
     "output_type": "stream",
     "text": [
      "[*********************100%***********************]  1 of 1 completed\n"
     ]
    }
   ],
   "source": [
    "# DAX Chart vom letzten Jahr laden.\n",
    "\n",
    "mdax_m = pdr.get_data_yahoo(\"^MDAXI\", start=start, end= end, interval='1mo')"
   ]
  },
  {
   "cell_type": "code",
   "execution_count": 13,
   "metadata": {},
   "outputs": [
    {
     "data": {
      "image/png": "[encoded data removed]",
      "text/plain": [
       "<Figure size 432x288 with 1 Axes>"
      ]
     },
     "metadata": {},
     "output_type": "display_data"
    }
   ],
   "source": [
    "# MDAX-Chart über den oben definierten Zeitraum plotten.\n",
    "plt.plot(mdax_m['Adj Close'], lw=3)\n",
    "plt.xlabel('Datum')\n",
    "plt.ylabel('Kurs')\n",
    "plt.title('MDAX-Chart von 01/2019 bis 01/2020')\n",
    "\n",
    "\n",
    "\n",
    "SMALL_SIZE = 12\n",
    "MEDIUM_SIZE = 18\n",
    "BIGGER_SIZE = 20\n",
    "\n",
    "plt.rc('font', size=SMALL_SIZE)          # controls default text sizes\n",
    "plt.rc('axes', titlesize=MEDIUM_SIZE)     # fontsize of the axes title\n",
    "plt.rc('axes', labelsize=MEDIUM_SIZE)    # fontsize of the x and y labels\n",
    "plt.rc('xtick', labelsize=SMALL_SIZE)    # fontsize of the tick labels\n",
    "plt.rc('ytick', labelsize=SMALL_SIZE)    # fontsize of the tick labels\n",
    "plt.rc('legend', fontsize=SMALL_SIZE)    # legend fontsize\n",
    "plt.rc('figure', titlesize=BIGGER_SIZE)"
   ]
  },
  {
   "cell_type": "code",
   "execution_count": 14,
   "metadata": {},
   "outputs": [
    {
     "name": "stdout",
     "output_type": "stream",
     "text": [
      "[*********************100%***********************]  1 of 1 completed\n",
      "[*********************100%***********************]  1 of 1 completed\n",
      "[*********************100%***********************]  1 of 1 completed\n",
      "[*********************100%***********************]  1 of 1 completed\n",
      "[*********************100%***********************]  1 of 1 completed\n",
      "[*********************100%***********************]  1 of 1 completed\n",
      "[*********************100%***********************]  1 of 1 completed\n",
      "[*********************100%***********************]  1 of 1 completed\n",
      "[*********************100%***********************]  1 of 1 completed\n",
      "[*********************100%***********************]  1 of 1 completed\n",
      "[*********************100%***********************]  1 of 1 completed\n",
      "[*********************100%***********************]  1 of 1 completed\n",
      "[*********************100%***********************]  1 of 1 completed\n",
      "[*********************100%***********************]  1 of 1 completed\n",
      "[*********************100%***********************]  1 of 1 completed\n",
      "[*********************100%***********************]  1 of 1 completed\n",
      "[*********************100%***********************]  1 of 1 completed\n",
      "[*********************100%***********************]  1 of 1 completed\n",
      "[*********************100%***********************]  1 of 1 completed\n",
      "[*********************100%***********************]  1 of 1 completed\n",
      "[*********************100%***********************]  1 of 1 completed\n",
      "[*********************100%***********************]  1 of 1 completed\n",
      "[*********************100%***********************]  1 of 1 completed\n",
      "[*********************100%***********************]  1 of 1 completed\n",
      "[*********************100%***********************]  1 of 1 completed\n",
      "[*********************100%***********************]  1 of 1 completed\n",
      "[*********************100%***********************]  1 of 1 completed\n"
     ]
    }
   ],
   "source": [
    "\n",
    "# Über den Yahoo finance API mit den oben definierten Startwerten einlesen.\n",
    "\n",
    "snh = pdr.get_data_yahoo('SNH.DE', start=start, end=end, interval= '1d')\n",
    "fie = pdr.get_data_yahoo('FIE.DE', start=start, end=end, interval= '1d')\n",
    "deq = pdr.get_data_yahoo('DEQ.DE', start=start, end=end, interval= '1d')\n",
    "evd = pdr.get_data_yahoo('EVD.DE', start=start, end=end, interval= '1d')\n",
    "sha = pdr.get_data_yahoo('SHA.DE', start=start, end=end, interval= '1d')\n",
    "gil = pdr.get_data_yahoo('GIL.DE', start=start, end=end, interval= '1d')\n",
    "osr = pdr.get_data_yahoo('OSR.DE', start=start, end=end, interval= '1d')\n",
    "hnr1 = pdr.get_data_yahoo('HNR1.DE', start=start, end=end, interval= '1d')\n",
    "jun = pdr.get_data_yahoo('JUN3.DE', start=start, end=end, interval= '1d')\n",
    "szu = pdr.get_data_yahoo('SZU.DE', start=start, end=end, interval= '1d')\n",
    "fpe3 = pdr.get_data_yahoo('FPE3.DE', start=start, end=end, interval= '1d')\n",
    "teg = pdr.get_data_yahoo('TEG.DE', start=start, end=end, interval= '1d')\n",
    "arl = pdr.get_data_yahoo('ARL.DE', start=start, end=end, interval= '1d')\n",
    "leg = pdr.get_data_yahoo('LEG.DE', start=start, end=end, interval= '1d')\n",
    "#saz = pdr.get_data_yahoo('SAZ.DE', start=start, end=end, interval= '1d')\n",
    "krn = pdr.get_data_yahoo('KRN.DE', start=start, end=end, interval= '1d')\n",
    "kgx = pdr.get_data_yahoo('KGX.DE', start=start, end=end, interval= '1d')\n",
    "zal = pdr.get_data_yahoo('ZAL.DE', start=start, end=end, interval= '1d')\n",
    "rrtl = pdr.get_data_yahoo('RRTL.DE', start=start, end=end, interval= '1d')\n",
    "boss = pdr.get_data_yahoo('BOSS.DE', start=start, end=end, interval= '1d')\n",
    "gxi = pdr.get_data_yahoo('GXI.DE', start=start, end=end, interval= '1d')\n",
    "evk = pdr.get_data_yahoo('EVK.DE', start=start, end=end, interval= '1d')\n",
    "hot = pdr.get_data_yahoo('HOT.DE', start=start, end=end, interval= '1d')\n",
    "noej = pdr.get_data_yahoo('NOEJ.DE', start=start, end=end, interval= '1d')\n",
    "lxs = pdr.get_data_yahoo('LXS.DE', start=start, end=end, interval= '1d')\n",
    "#meo = pdr.get_data_yahoo('MEO.DE', start=start, end=end, interval= '1d')\n",
    "rhk = pdr.get_data_yahoo('RHK.DE', start=start, end=end, interval= '1d')\n",
    "due = pdr.get_data_yahoo('DUE.DE', start=start, end=end, interval= '1d')\n",
    "fra = pdr.get_data_yahoo(('FRA.DE'), start=start, end=end, interval='1d')"
   ]
  },
  {
   "cell_type": "code",
   "execution_count": 111,
   "metadata": {},
   "outputs": [],
   "source": [
    "# MDAX: Aktien-Ticker für die Berechnung der Eigenkapitalrendite\n",
    "\n",
    "snh_tck=yf.Ticker('SNH.DE')\n",
    "fie_tck=yf.Ticker('FIE.DE')\n",
    "deq_tck=yf.Ticker('DEQ.DE')\n",
    "evd_tck=yf.Ticker('EVD.DE')\n",
    "sha_tck=yf.Ticker('SHA.DE')\n",
    "gil_tck=yf.Ticker('GIL.DE')\n",
    "osr_tck=yf.Ticker('OSR.DE')\n",
    "hnr1_tck=yf.Ticker('HNR1.DE')\n",
    "jun3_tck=yf.Ticker('JUN3.DE')\n",
    "szu_tck=yf.Ticker('SZU.DE')\n",
    "fpe3_tck=yf.Ticker('FPE3.DE')\n",
    "teg_tck=yf.Ticker('TEG.DE')\n",
    "arl_tck=yf.Ticker('ARL.DE')\n",
    "#1cov_tck=yf.Ticker('1COV.DE')\n",
    "leg_tck=yf.Ticker('LEG.DE')\n",
    "saz_tck=yf.Ticker('SAZ.DE')\n",
    "krn_tck=yf.Ticker('KRN.DE')\n",
    "kgx_tck=yf.Ticker('KGX.DE')\n",
    "zal_tck=yf.Ticker('ZAL.DE')\n",
    "rrtl_tck=yf.Ticker('RRTL.DE')\n",
    "boss_tck=yf.Ticker('BOSS.DE')\n",
    "gxi_tck=yf.Ticker('GXI.DE')\n",
    "evk_tck=yf.Ticker('EVK.DE')\n",
    "hot_tck=yf.Ticker('HOT.DE')\n",
    "noej_tck=yf.Ticker('NOEJ.DE')\n",
    "lxs_tck=yf.Ticker('LXS.DE')\n",
    "#meo_tck=yf.Ticker('MEO.DE')\n",
    "rhk_tck=yf.Ticker('RHK.DE')\n",
    "due_tck=yf.Ticker('DUE.DE')\n",
    "fra_tck=yf.Ticker('FRA.DE')\n",
    "\n"
   ]
  },
  {
   "cell_type": "markdown",
   "metadata": {},
   "source": [
    "### Aktien vom TecDax laden"
   ]
  },
  {
   "cell_type": "code",
   "execution_count": 15,
   "metadata": {},
   "outputs": [
    {
     "name": "stdout",
     "output_type": "stream",
     "text": [
      "[*********************100%***********************]  1 of 1 completed\n"
     ]
    }
   ],
   "source": [
    "# DAX Chart vom letzten Jahr laden.\n",
    "\n",
    "tecdax_m = pdr.get_data_yahoo(\"^TECDAX\", start=start, end= end, interval='1mo')"
   ]
  },
  {
   "cell_type": "code",
   "execution_count": 16,
   "metadata": {},
   "outputs": [
    {
     "data": {
      "image/png": "[encoded data removed]",
      "text/plain": [
       "<Figure size 432x288 with 1 Axes>"
      ]
     },
     "metadata": {},
     "output_type": "display_data"
    }
   ],
   "source": [
    "# TECDAX-Chart über den oben definierten Zeitraum plotten.\n",
    "plt.plot(tecdax_m['Adj Close'], lw=3)\n",
    "plt.xlabel('Datum')\n",
    "plt.ylabel('Kurs')\n",
    "plt.title('TECDAX-Chart von 01/2019 bis 01/2020')\n",
    "\n",
    "\n",
    "\n",
    "SMALL_SIZE = 12\n",
    "MEDIUM_SIZE = 18\n",
    "BIGGER_SIZE = 20\n",
    "\n",
    "plt.rc('font', size=SMALL_SIZE)          # controls default text sizes\n",
    "plt.rc('axes', titlesize=MEDIUM_SIZE)     # fontsize of the axes title\n",
    "plt.rc('axes', labelsize=MEDIUM_SIZE)    # fontsize of the x and y labels\n",
    "plt.rc('xtick', labelsize=SMALL_SIZE)    # fontsize of the tick labels\n",
    "plt.rc('ytick', labelsize=SMALL_SIZE)    # fontsize of the tick labels\n",
    "plt.rc('legend', fontsize=SMALL_SIZE)    # legend fontsize\n",
    "plt.rc('figure', titlesize=BIGGER_SIZE)"
   ]
  },
  {
   "cell_type": "code",
   "execution_count": 17,
   "metadata": {},
   "outputs": [
    {
     "name": "stdout",
     "output_type": "stream",
     "text": [
      "[*********************100%***********************]  1 of 1 completed\n",
      "[*********************100%***********************]  1 of 1 completed\n",
      "[*********************100%***********************]  1 of 1 completed\n",
      "[*********************100%***********************]  1 of 1 completed\n",
      "[*********************100%***********************]  1 of 1 completed\n",
      "[*********************100%***********************]  1 of 1 completed\n",
      "[*********************100%***********************]  1 of 1 completed\n",
      "[*********************100%***********************]  1 of 1 completed\n",
      "[*********************100%***********************]  1 of 1 completed\n",
      "[*********************100%***********************]  1 of 1 completed\n",
      "[*********************100%***********************]  1 of 1 completed\n",
      "[*********************100%***********************]  1 of 1 completed\n",
      "[*********************100%***********************]  1 of 1 completed\n",
      "[*********************100%***********************]  1 of 1 completed\n",
      "[*********************100%***********************]  1 of 1 completed\n",
      "[*********************100%***********************]  1 of 1 completed\n",
      "[*********************100%***********************]  1 of 1 completed\n",
      "[*********************100%***********************]  1 of 1 completed\n",
      "[*********************100%***********************]  1 of 1 completed\n",
      "[*********************100%***********************]  1 of 1 completed\n",
      "[*********************100%***********************]  1 of 1 completed\n",
      "[*********************100%***********************]  1 of 1 completed\n",
      "[*********************100%***********************]  1 of 1 completed\n",
      "[*********************100%***********************]  1 of 1 completed\n",
      "[*********************100%***********************]  1 of 1 completed\n",
      "[*********************100%***********************]  1 of 1 completed\n",
      "[*********************100%***********************]  1 of 1 completed\n",
      "[*********************100%***********************]  1 of 1 completed\n",
      "[*********************100%***********************]  1 of 1 completed\n"
     ]
    }
   ],
   "source": [
    "#o1bc = pdr.get_data_yahoo('O1BC.DE', start=start, end=end, interval= '1d')\n",
    "cok = pdr.get_data_yahoo('COK.DE', start=start, end=end, interval= '1d')\n",
    "drw3 = pdr.get_data_yahoo('DRW3.DE', start=start, end=end, interval= '1d')\n",
    "cop = pdr.get_data_yahoo('COP.DE', start=start, end=end, interval= '1d')\n",
    "afx = pdr.get_data_yahoo('AFX.DE', start=start, end=end, interval= '1d')\n",
    "nem = pdr.get_data_yahoo('NEM.DE', start=start, end=end, interval= '1d')\n",
    "qia = pdr.get_data_yahoo('QIA.DE', start=start, end=end, interval= '1d')\n",
    "wdi = pdr.get_data_yahoo('WDI.DE', start=start, end=end, interval= '1d')\n",
    "o2d = pdr.get_data_yahoo('O2D.DE', start=start, end=end, interval= '1d')\n",
    "pfv = pdr.get_data_yahoo('PFV.DE', start=start, end=end, interval= '1d')\n",
    "sbs = pdr.get_data_yahoo('SBS.DE', start=start, end=end, interval= '1d')\n",
    "srt3 = pdr.get_data_yahoo('SRT3.DE', start=start, end=end, interval= '1d')\n",
    "s92 = pdr.get_data_yahoo('S92.DE', start=start, end=end, interval= '1d')\n",
    "fntn = pdr.get_data_yahoo('FNTN.DE', start=start, end=end, interval= '1d')\n",
    "utdi = pdr.get_data_yahoo('UTDI.DE', start=start, end=end, interval= '1d')\n",
    "am3d = pdr.get_data_yahoo('AM3D.DE', start=start, end=end, interval= '1d')\n",
    "mor = pdr.get_data_yahoo('MOR.DE', start=start, end=end, interval= '1d')\n",
    "sow = pdr.get_data_yahoo('SOW.DE', start=start, end=end, interval= '1d')\n",
    "jen = pdr.get_data_yahoo('JEN.DE', start=start, end=end, interval= '1d')\n",
    "gft = pdr.get_data_yahoo('GFT.DE', start=start, end=end, interval= '1d')\n",
    "ndx1 = pdr.get_data_yahoo('NDX1.DE', start=start, end=end, interval= '1d')\n",
    "dlg = pdr.get_data_yahoo('DLG.DE', start=start, end=end, interval= '1d')\n",
    "dri = pdr.get_data_yahoo('DRI.DE', start=start, end=end, interval= '1d')\n",
    "smhn = pdr.get_data_yahoo('SMHN.DE', start=start, end=end, interval= '1d')\n",
    "bc8 = pdr.get_data_yahoo('BC8.DE', start=start, end=end, interval= '1d')\n",
    "aixa = pdr.get_data_yahoo('AIXA.DE', start=start, end=end, interval= '1d')\n",
    "adv = pdr.get_data_yahoo('ADV.DE', start=start, end=end, interval= '1d')\n",
    "evt = pdr.get_data_yahoo('EVT.DE', start=start, end=end, interval= '1d')\n",
    "waf = pdr.get_data_yahoo('WAF.DE', start=start, end=end, interval= '1d')\n",
    "rib = pdr.get_data_yahoo('RIB.DE', start=start, end=end, interval= '1d')\n"
   ]
  },
  {
   "cell_type": "code",
   "execution_count": 112,
   "metadata": {},
   "outputs": [],
   "source": [
    "# TecDAX: Aktien-Ticker für die Berechnung der Eigenkapitalrendite\n",
    "\n",
    "o1bc_tck=yf.Ticker('O1BC.DE ')\n",
    "cok_tck=yf.Ticker('COK.DE ')\n",
    "drw3_tck=yf.Ticker('DRW3.DE ')\n",
    "cop_tck=yf.Ticker('COP.DE ')\n",
    "afx_tck=yf.Ticker('AFX.DE ')\n",
    "nem_tck=yf.Ticker('NEM.DE ')\n",
    "qia_tck=yf.Ticker('QIA.DE ')\n",
    "wdi_tck=yf.Ticker('WDI.DE ')\n",
    "o2d_tck=yf.Ticker('O2D.DE ')\n",
    "pfv_tck=yf.Ticker('PFV.DE ')\n",
    "sbs_tck=yf.Ticker('SBS.DE ')\n",
    "srt3_tck=yf.Ticker('SRT3.DE ')\n",
    "s92_tck=yf.Ticker('S92.DE ')\n",
    "fntn_tck=yf.Ticker('FNTN.DE ')\n",
    "utdi_tck=yf.Ticker('UTDI.DE ')\n",
    "am3d_tck=yf.Ticker('AM3D.DE ')\n",
    "mor_tck=yf.Ticker('MOR.DE ')\n",
    "sow_tck=yf.Ticker('SOW.DE ')\n",
    "jen_tck=yf.Ticker('JEN.DE ')\n",
    "gft_tck=yf.Ticker('GFT.DE ')\n",
    "ndx1_tck=yf.Ticker('NDX1.DE ')\n",
    "dlg_tck=yf.Ticker('DLG.DE ')\n",
    "dri_tck=yf.Ticker('DRI.DE ')\n",
    "smhn_tck=yf.Ticker('SMHN.DE ')\n",
    "bc8_tck=yf.Ticker('BC8.DE ')\n",
    "aixa_tck=yf.Ticker('AIXA.DE ')\n",
    "adv_tck=yf.Ticker('ADV.DE ')\n",
    "evt_tck=yf.Ticker('EVT.DE ')\n",
    "waf_tck=yf.Ticker('WAF.DE ')\n",
    "rib_tck=yf.Ticker('RIB.DE ')"
   ]
  },
  {
   "cell_type": "code",
   "execution_count": 115,
   "metadata": {},
   "outputs": [
    {
     "ename": "KeyError",
     "evalue": "'QuoteSummaryStore'",
     "output_type": "error",
     "traceback": [
      "\u001b[1;31m---------------------------------------------------------------------------\u001b[0m",
      "\u001b[1;31mKeyError\u001b[0m                                  Traceback (most recent call last)",
      "\u001b[1;32m<ipython-input-115-b96aa17a16d0>\u001b[0m in \u001b[0;36m<module>\u001b[1;34m\u001b[0m\n\u001b[1;32m----> 1\u001b[1;33m \u001b[0mrib_tck\u001b[0m\u001b[1;33m.\u001b[0m\u001b[0mbalance_sheet\u001b[0m\u001b[1;33m\u001b[0m\u001b[1;33m\u001b[0m\u001b[0m\n\u001b[0m",
      "\u001b[1;32mD:\\WIN_SKRIPTE\\4.1 Semester\\Python\\Python\\python-3.7.4.amd64\\lib\\site-packages\\yfinance\\ticker.py\u001b[0m in \u001b[0;36mbalance_sheet\u001b[1;34m(self)\u001b[0m\n\u001b[0;32m    148\u001b[0m     \u001b[1;33m@\u001b[0m\u001b[0mproperty\u001b[0m\u001b[1;33m\u001b[0m\u001b[1;33m\u001b[0m\u001b[0m\n\u001b[0;32m    149\u001b[0m     \u001b[1;32mdef\u001b[0m \u001b[0mbalance_sheet\u001b[0m\u001b[1;33m(\u001b[0m\u001b[0mself\u001b[0m\u001b[1;33m)\u001b[0m\u001b[1;33m:\u001b[0m\u001b[1;33m\u001b[0m\u001b[1;33m\u001b[0m\u001b[0m\n\u001b[1;32m--> 150\u001b[1;33m         \u001b[1;32mreturn\u001b[0m \u001b[0mself\u001b[0m\u001b[1;33m.\u001b[0m\u001b[0mget_balancesheet\u001b[0m\u001b[1;33m(\u001b[0m\u001b[1;33m)\u001b[0m\u001b[1;33m\u001b[0m\u001b[1;33m\u001b[0m\u001b[0m\n\u001b[0m\u001b[0;32m    151\u001b[0m \u001b[1;33m\u001b[0m\u001b[0m\n\u001b[0;32m    152\u001b[0m     \u001b[1;33m@\u001b[0m\u001b[0mproperty\u001b[0m\u001b[1;33m\u001b[0m\u001b[1;33m\u001b[0m\u001b[0m\n",
      "\u001b[1;32mD:\\WIN_SKRIPTE\\4.1 Semester\\Python\\Python\\python-3.7.4.amd64\\lib\\site-packages\\yfinance\\base.py\u001b[0m in \u001b[0;36mget_balancesheet\u001b[1;34m(self, proxy, as_dict, freq)\u001b[0m\n\u001b[0;32m    386\u001b[0m \u001b[1;33m\u001b[0m\u001b[0m\n\u001b[0;32m    387\u001b[0m     \u001b[1;32mdef\u001b[0m \u001b[0mget_balancesheet\u001b[0m\u001b[1;33m(\u001b[0m\u001b[0mself\u001b[0m\u001b[1;33m,\u001b[0m \u001b[0mproxy\u001b[0m\u001b[1;33m=\u001b[0m\u001b[1;32mNone\u001b[0m\u001b[1;33m,\u001b[0m \u001b[0mas_dict\u001b[0m\u001b[1;33m=\u001b[0m\u001b[1;32mFalse\u001b[0m\u001b[1;33m,\u001b[0m \u001b[0mfreq\u001b[0m\u001b[1;33m=\u001b[0m\u001b[1;34m\"yearly\"\u001b[0m\u001b[1;33m)\u001b[0m\u001b[1;33m:\u001b[0m\u001b[1;33m\u001b[0m\u001b[1;33m\u001b[0m\u001b[0m\n\u001b[1;32m--> 388\u001b[1;33m         \u001b[0mself\u001b[0m\u001b[1;33m.\u001b[0m\u001b[0m_get_fundamentals\u001b[0m\u001b[1;33m(\u001b[0m\u001b[0mproxy\u001b[0m\u001b[1;33m)\u001b[0m\u001b[1;33m\u001b[0m\u001b[1;33m\u001b[0m\u001b[0m\n\u001b[0m\u001b[0;32m    389\u001b[0m         \u001b[0mdata\u001b[0m \u001b[1;33m=\u001b[0m \u001b[0mself\u001b[0m\u001b[1;33m.\u001b[0m\u001b[0m_balancesheet\u001b[0m\u001b[1;33m[\u001b[0m\u001b[0mfreq\u001b[0m\u001b[1;33m]\u001b[0m\u001b[1;33m\u001b[0m\u001b[1;33m\u001b[0m\u001b[0m\n\u001b[0;32m    390\u001b[0m         \u001b[1;32mif\u001b[0m \u001b[0mas_dict\u001b[0m\u001b[1;33m:\u001b[0m\u001b[1;33m\u001b[0m\u001b[1;33m\u001b[0m\u001b[0m\n",
      "\u001b[1;32mD:\\WIN_SKRIPTE\\4.1 Semester\\Python\\Python\\python-3.7.4.amd64\\lib\\site-packages\\yfinance\\base.py\u001b[0m in \u001b[0;36m_get_fundamentals\u001b[1;34m(self, kind, proxy)\u001b[0m\n\u001b[0;32m    258\u001b[0m         \u001b[1;31m# get info and sustainability\u001b[0m\u001b[1;33m\u001b[0m\u001b[1;33m\u001b[0m\u001b[1;33m\u001b[0m\u001b[0m\n\u001b[0;32m    259\u001b[0m         \u001b[0murl\u001b[0m \u001b[1;33m=\u001b[0m \u001b[1;34m'%s/%s'\u001b[0m \u001b[1;33m%\u001b[0m \u001b[1;33m(\u001b[0m\u001b[0mself\u001b[0m\u001b[1;33m.\u001b[0m\u001b[0m_scrape_url\u001b[0m\u001b[1;33m,\u001b[0m \u001b[0mself\u001b[0m\u001b[1;33m.\u001b[0m\u001b[0mticker\u001b[0m\u001b[1;33m)\u001b[0m\u001b[1;33m\u001b[0m\u001b[1;33m\u001b[0m\u001b[0m\n\u001b[1;32m--> 260\u001b[1;33m         \u001b[0mdata\u001b[0m \u001b[1;33m=\u001b[0m \u001b[0mutils\u001b[0m\u001b[1;33m.\u001b[0m\u001b[0mget_json\u001b[0m\u001b[1;33m(\u001b[0m\u001b[0murl\u001b[0m\u001b[1;33m,\u001b[0m \u001b[0mproxy\u001b[0m\u001b[1;33m)\u001b[0m\u001b[1;33m\u001b[0m\u001b[1;33m\u001b[0m\u001b[0m\n\u001b[0m\u001b[0;32m    261\u001b[0m \u001b[1;33m\u001b[0m\u001b[0m\n\u001b[0;32m    262\u001b[0m         \u001b[1;31m# sustainability\u001b[0m\u001b[1;33m\u001b[0m\u001b[1;33m\u001b[0m\u001b[1;33m\u001b[0m\u001b[0m\n",
      "\u001b[1;32mD:\\WIN_SKRIPTE\\4.1 Semester\\Python\\Python\\python-3.7.4.amd64\\lib\\site-packages\\yfinance\\utils.py\u001b[0m in \u001b[0;36mget_json\u001b[1;34m(url, proxy)\u001b[0m\n\u001b[0;32m     43\u001b[0m         '(this)')[0].split(';\\n}')[0].strip()\n\u001b[0;32m     44\u001b[0m     data = _json.loads(json_str)[\n\u001b[1;32m---> 45\u001b[1;33m         'context']['dispatcher']['stores']['QuoteSummaryStore']\n\u001b[0m\u001b[0;32m     46\u001b[0m \u001b[1;33m\u001b[0m\u001b[0m\n\u001b[0;32m     47\u001b[0m     \u001b[0mnew_data\u001b[0m \u001b[1;33m=\u001b[0m \u001b[1;34m''\u001b[0m\u001b[1;33m\u001b[0m\u001b[1;33m\u001b[0m\u001b[0m\n",
      "\u001b[1;31mKeyError\u001b[0m: 'QuoteSummaryStore'"
     ]
    }
   ],
   "source": []
  },
  {
   "cell_type": "markdown",
   "metadata": {},
   "source": [
    "# DAX: Selektieren nach der Spalte Adj Close"
   ]
  },
  {
   "cell_type": "code",
   "execution_count": 18,
   "metadata": {},
   "outputs": [],
   "source": [
    "# Selektieren nach dem Adj Close \n",
    "\n",
    "adidasclose=adidas['Adj Close']\n",
    "bmwclose=bmw['Adj Close']\n",
    "heiseclose=heise['Adj Close']\n",
    "ifxclose=ifx['Adj Close']\n",
    "covclose=cov['Adj Close']\n",
    "fmeclose=fme['Adj Close']\n",
    "freclose=fre['Adj Close']\n",
    "sapclose=sap['Adj Close']\n",
    "daiclose=dai['Adj Close']\n",
    "muv2close=muv2['Adj Close']\n",
    "vow3close=vow3['Adj Close']\n",
    "alvclose=alv['Adj Close']\n",
    "basclose=bas['Adj Close']\n",
    "linclose=lin['Adj Close']\n",
    "baynclose=bayn['Adj Close']\n",
    "dpwclose=dpw['Adj Close']\n",
    "dteclose=dte['Adj Close']\n",
    "conclose=con['Adj Close']\n",
    "vnaclose=vna['Adj Close']\n",
    "beiclose=bei['Adj Close']\n",
    "mrkclose=mrk['Adj Close']\n",
    "rweclose=rwe['Adj Close']\n",
    "hen3close=hen3['Adj Close']\n",
    "lhaclose=lha['Adj Close']\n",
    "eonclose=eon['Adj Close']\n",
    "sieclose=sie['Adj Close']\n",
    "dbahnclose=dbahn['Adj Close']\n",
    "tkaclose=tka['Adj Close']\n",
    "wdiclose=wdi['Adj Close']\n",
    "arlclose=arl['Adj Close']\n",
    "\n",
    "\n"
   ]
  },
  {
   "cell_type": "markdown",
   "metadata": {},
   "source": [
    "## MDAX: Selektieren nach der Spalte Adj Close"
   ]
  },
  {
   "cell_type": "code",
   "execution_count": 25,
   "metadata": {},
   "outputs": [],
   "source": [
    "snhclose = snh['Adj Close']\n",
    "fieclose = fie['Adj Close']\n",
    "deqclose = deq['Adj Close']\n",
    "evdclose = evd['Adj Close']\n",
    "shaclose = sha['Adj Close']\n",
    "gilclose = gil['Adj Close']\n",
    "osrclose = osr['Adj Close']\n",
    "hnr1close = hnr1['Adj Close']\n",
    "junclose = jun['Adj Close']\n",
    "szuclose = szu['Adj Close']\n",
    "fpe3close = fpe3['Adj Close']\n",
    "tegclose = teg['Adj Close']\n",
    "arlclose = arl['Adj Close']\n",
    "#1covclose = 1cov['Adj Close']\n",
    "legclose = leg['Adj Close']\n",
    "#sazclose = saz['Adj Close']\n",
    "krnclose = krn['Adj Close']\n",
    "kgxclose = kgx['Adj Close']\n",
    "zalclose = zal['Adj Close']\n",
    "rrtlclose = rrtl['Adj Close']\n",
    "bossclose = boss['Adj Close']\n",
    "gxiclose = gxi['Adj Close']\n",
    "evkclose = evk['Adj Close']\n",
    "hotclose = hot['Adj Close']\n",
    "noejclose = noej['Adj Close']\n",
    "lxsclose = lxs['Adj Close']\n",
    "#meoclose = meo['Adj Close']\n",
    "rhkclose = rhk['Adj Close']\n",
    "dueclose = due['Adj Close']\n",
    "fraclose = fra['Adj Close']\n"
   ]
  },
  {
   "cell_type": "markdown",
   "metadata": {},
   "source": [
    "## TecDax: Selektieren nach der Spalte Adj Close"
   ]
  },
  {
   "cell_type": "code",
   "execution_count": 27,
   "metadata": {},
   "outputs": [],
   "source": [
    "#o1bcclose = o1bc['Adj Close']\n",
    "cokclose = cok['Adj Close']\n",
    "drw3close = drw3['Adj Close']\n",
    "copclose = cop['Adj Close']\n",
    "afxclose = afx['Adj Close']\n",
    "nemclose = nem['Adj Close']\n",
    "qiaclose = qia['Adj Close']\n",
    "wdiclose = wdi['Adj Close']\n",
    "o2dclose = o2d['Adj Close']\n",
    "pfvclose = pfv['Adj Close']\n",
    "sbsclose = sbs['Adj Close']\n",
    "srt3close = srt3['Adj Close']\n",
    "s92close = s92['Adj Close']\n",
    "fntnclose = fntn['Adj Close']\n",
    "utdiclose = utdi['Adj Close']\n",
    "am3dclose = am3d['Adj Close']\n",
    "morclose = mor['Adj Close']\n",
    "sowclose = sow['Adj Close']\n",
    "jenclose = jen['Adj Close']\n",
    "gftclose = gft['Adj Close']\n",
    "ndx1close = ndx1['Adj Close']\n",
    "dlgclose = dlg['Adj Close']\n",
    "driclose = dri['Adj Close']\n",
    "smhnclose = smhn['Adj Close']\n",
    "bc8close = bc8['Adj Close']\n",
    "aixaclose = aixa['Adj Close']\n",
    "advclose = adv['Adj Close']\n",
    "evtclose = evt['Adj Close']\n",
    "wafclose = waf['Adj Close']\n",
    "ribclose = rib['Adj Close']\n"
   ]
  },
  {
   "cell_type": "markdown",
   "metadata": {},
   "source": [
    "# DAX: Berechnungen der Kursgegenüberstellung von Heute zu vor einem Jahr"
   ]
  },
  {
   "cell_type": "code",
   "execution_count": 142,
   "metadata": {},
   "outputs": [],
   "source": [
    "adidas_1y=((adidasclose[end]-adidasclose[start])/adidasclose[start]* 100)\n",
    "bmw_1y=((bmwclose[end]-bmwclose[start])/bmwclose[start]* 100)\n",
    "heise_1y=((heiseclose[end]-heiseclose[start])/heiseclose[start]* 100)\n",
    "ifx_1y=((ifxclose[end]-ifxclose[start])/ifxclose[start]* 100)\n",
    "cov_1y=((covclose[end]-covclose[start])/covclose[start]* 100)\n",
    "fme_1y=((fmeclose[end]-fmeclose[start])/fmeclose[start]* 100)\n",
    "#fre_1y=((freclose[end]-freclose[start])/freclose[start]* 100)\n",
    "sap_1y=((sapclose[end]-sapclose[start])/sapclose[start]* 100)\n",
    "dai_1y=((daiclose[end]-daiclose[start])/daiclose[start]* 100)\n",
    "muv2_1y=((muv2close[end]-muv2close[start])/muv2close[start]* 100)\n",
    "vow3_1y=((vow3close[end]-vow3close[start])/vow3close[start]* 100)\n",
    "alv_1y=((alvclose[end]-alvclose[start])/alvclose[start]* 100)\n",
    "bas_1y=((basclose[end]-basclose[start])/basclose[start]* 100)\n",
    "lin_1y=((linclose[end]-linclose[start])/linclose[start]* 100)\n",
    "bayn_1y=((baynclose[end]-baynclose[start])/baynclose[start]* 100)\n",
    "dpw_1y=((dpwclose[end]-dpwclose[start])/dpwclose[start]* 100)\n",
    "dte_1y=((dteclose[end]-dteclose[start])/dteclose[start]* 100)\n",
    "con_1y=((conclose[end]-conclose[start])/conclose[start]* 100)\n",
    "vna_1y=((vnaclose[end]-vnaclose[start])/vnaclose[start]* 100)\n",
    "bei_1y=((beiclose[end]-beiclose[start])/beiclose[start]* 100)\n",
    "mrk_1y=((mrkclose[end]-mrkclose[start])/mrkclose[start]* 100)\n",
    "rwe_1y=((rweclose[end]-rweclose[start])/rweclose[start]* 100)\n",
    "hen3_1y=((hen3close[end]-hen3close[start])/hen3close[start]* 100)\n",
    "lha_1y=((lhaclose[end]-lhaclose[start])/lhaclose[start]* 100)\n",
    "#eon_1y=((eonclose[end]-eonclose[start])/eonclose[start]* 100)\n",
    "sie_1y=((sieclose[end]-sieclose[start])/sieclose[start]* 100)\n",
    "dbahn_1y=((dbahnclose[end]-dbahnclose[start])/dbahnclose[start]* 100)\n",
    "tka_1y=((tkaclose[end]-tkaclose[start])/tkaclose[start]* 100)\n",
    "wdi_1y=((wdiclose[end]-wdiclose[start])/wdiclose[start]* 100)\n",
    "arl_1y=((arlclose[end]-arlclose[start])/arlclose[start]* 100)\n"
   ]
  },
  {
   "cell_type": "code",
   "execution_count": 163,
   "metadata": {},
   "outputs": [
    {
     "name": "stdout",
     "output_type": "stream",
     "text": [
      "                  Open        High         Low       Close   Adj Close  \\\n",
      "Date                                                                     \n",
      "2018-12-10  194.050003  194.800003  192.300003  192.800003  190.214935   \n",
      "2018-12-11  192.800003  198.399994  192.500000  197.500000  194.851913   \n",
      "2018-12-12  198.500000  200.300003  197.649994  199.100006  196.430466   \n",
      "2018-12-13  200.199997  201.100006  198.899994  200.000000  197.318390   \n",
      "2018-12-14  197.649994  198.600006  194.500000  195.500000  192.878723   \n",
      "2018-12-17  192.750000  194.000000  185.149994  186.850006  184.344711   \n",
      "2018-12-18  185.899994  188.699997  183.699997  186.199997  183.703415   \n",
      "2018-12-19  186.949997  189.050003  186.300003  187.050003  184.542023   \n",
      "2018-12-20  184.000000  185.300003  182.750000  183.750000  181.286270   \n",
      "2018-12-21  183.000000  185.550003  179.149994  184.750000  182.272858   \n",
      "2018-12-27  185.149994  185.250000  178.149994  180.100006  177.685211   \n",
      "2018-12-28  181.149994  183.649994  181.100006  182.399994  179.954361   \n",
      "2019-01-02  183.050003  186.899994  181.350006  184.399994  181.927551   \n",
      "2019-01-03  182.699997  186.899994  182.350006  183.949997  181.483582   \n",
      "2019-01-04  186.149994  191.300003  185.449997  191.050003  188.488388   \n",
      "2019-01-07  189.149994  191.300003  189.000000  189.699997  187.156494   \n",
      "2019-01-08  189.699997  197.100006  189.500000  194.300003  191.694809   \n",
      "2019-01-09  195.699997  198.149994  192.800003  193.850006  191.250854   \n",
      "2019-01-10  192.899994  196.199997  192.850006  195.500000  192.878723   \n",
      "2019-01-11  196.199997  198.149994  195.600006  197.000000  194.358612   \n",
      "2019-01-14  195.000000  198.000000  194.399994  197.300003  194.654587   \n",
      "2019-01-15  198.350006  199.250000  195.949997  199.250000  196.578445   \n",
      "2019-01-16  199.899994  200.199997  196.500000  198.100006  195.443863   \n",
      "2019-01-17  196.699997  200.199997  196.699997  200.000000  197.318390   \n",
      "2019-01-18  200.399994  205.500000  200.000000  204.000000  201.264755   \n",
      "2019-01-21  204.000000  206.000000  203.399994  206.000000  203.237946   \n",
      "2019-01-22  204.800003  208.399994  204.199997  205.800003  203.040619   \n",
      "2019-01-23  205.100006  207.699997  205.000000  207.300003  204.520508   \n",
      "2019-01-24  201.100006  203.500000  200.199997  202.300003  199.587555   \n",
      "2019-01-25  204.300003  206.899994  203.600006  204.000000  201.264755   \n",
      "...                ...         ...         ...         ...         ...   \n",
      "2019-11-18  271.549988  273.299988  269.200012  270.950012  270.950012   \n",
      "2019-11-19  271.600006  276.350006  270.799988  272.149994  272.149994   \n",
      "2019-11-20  272.299988  274.100006  267.899994  273.000000  273.000000   \n",
      "2019-11-21  272.000000  273.649994  270.200012  273.000000  273.000000   \n",
      "2019-11-22  273.549988  275.399994  272.049988  273.000000  273.000000   \n",
      "2019-11-25  274.850006  277.100006  274.250000  274.950012  274.950012   \n",
      "2019-11-26  275.700012  278.549988  273.549988  278.549988  278.549988   \n",
      "2019-11-27  279.250000  282.850006  278.450012  281.950012  281.950012   \n",
      "2019-11-28  281.149994  283.549988  280.299988  281.950012  281.950012   \n",
      "2019-11-29  281.500000  286.750000  280.750000  282.750000  282.750000   \n",
      "2019-12-02  284.000000  288.299988  273.899994  275.049988  275.049988   \n",
      "2019-12-03  276.549988  280.000000  275.700012  278.100006  278.100006   \n",
      "2019-12-04  279.000000  281.600006  276.500000  277.850006  277.850006   \n",
      "2019-12-05  279.200012  280.100006  275.750000  276.100006  276.100006   \n",
      "2019-12-06  277.250000  280.700012  276.399994  279.200012  279.200012   \n",
      "2019-12-09  278.149994  279.250000  273.899994  273.899994  273.899994   \n",
      "2019-12-10  273.000000  275.450012  268.750000  275.049988  275.049988   \n",
      "2019-12-11  275.450012  278.899994  274.450012  278.399994  278.399994   \n",
      "2019-12-12  279.100006  282.450012  277.000000  278.200012  278.200012   \n",
      "2019-12-13  282.950012  283.000000  277.450012  278.600006  278.600006   \n",
      "2019-12-16  279.950012  287.149994  279.100006  285.799988  285.799988   \n",
      "2019-12-17  285.799988  288.250000  283.899994  286.899994  286.899994   \n",
      "2019-12-18  286.200012  290.450012  285.299988  289.649994  289.649994   \n",
      "2019-12-19  289.700012  290.750000  287.750000  288.350006  288.350006   \n",
      "2019-12-20  288.649994  291.950012  286.399994  291.450012  291.450012   \n",
      "2019-12-23  292.299988  294.950012  291.000000  291.100006  291.100006   \n",
      "2019-12-27  293.299988  294.200012  290.549988  292.500000  292.500000   \n",
      "2019-12-30  291.299988  292.549988  289.549988  289.799988  289.799988   \n",
      "2020-01-02  289.200012  293.250000  289.200012  291.549988  291.549988   \n",
      "2020-01-03  290.000000  292.250000  288.350006  291.950012  291.950012   \n",
      "\n",
      "             Volume  \n",
      "Date                 \n",
      "2018-12-10   708975  \n",
      "2018-12-11   785219  \n",
      "2018-12-12   728347  \n",
      "2018-12-13   601006  \n",
      "2018-12-14   814498  \n",
      "2018-12-17  1756247  \n",
      "2018-12-18   985056  \n",
      "2018-12-19   697398  \n",
      "2018-12-20   820234  \n",
      "2018-12-21  2238677  \n",
      "2018-12-27   807876  \n",
      "2018-12-28   443391  \n",
      "2019-01-02   803984  \n",
      "2019-01-03   776471  \n",
      "2019-01-04   930881  \n",
      "2019-01-07   498239  \n",
      "2019-01-08   834170  \n",
      "2019-01-09   606721  \n",
      "2019-01-10   519016  \n",
      "2019-01-11   509076  \n",
      "2019-01-14   515239  \n",
      "2019-01-15   541177  \n",
      "2019-01-16   529723  \n",
      "2019-01-17   583021  \n",
      "2019-01-18  1061953  \n",
      "2019-01-21   452344  \n",
      "2019-01-22   725204  \n",
      "2019-01-23   565282  \n",
      "2019-01-24  1008541  \n",
      "2019-01-25   742469  \n",
      "...             ...  \n",
      "2019-11-18   471228  \n",
      "2019-11-19   493404  \n",
      "2019-11-20   365220  \n",
      "2019-11-21   557479  \n",
      "2019-11-22   492051  \n",
      "2019-11-25   384628  \n",
      "2019-11-26   617866  \n",
      "2019-11-27   493428  \n",
      "2019-11-28   360716  \n",
      "2019-11-29   561777  \n",
      "2019-12-02   845570  \n",
      "2019-12-03   718508  \n",
      "2019-12-04   529477  \n",
      "2019-12-05   488334  \n",
      "2019-12-06   468252  \n",
      "2019-12-09   454827  \n",
      "2019-12-10   681361  \n",
      "2019-12-11   485418  \n",
      "2019-12-12   587392  \n",
      "2019-12-13   654339  \n",
      "2019-12-16   545036  \n",
      "2019-12-17   621667  \n",
      "2019-12-18   631156  \n",
      "2019-12-19   630018  \n",
      "2019-12-20  1393691  \n",
      "2019-12-23   349958  \n",
      "2019-12-27   326470  \n",
      "2019-12-30   215885  \n",
      "2020-01-02   429314  \n",
      "2020-01-03   440067  \n",
      "\n",
      "[265 rows x 6 columns]\n"
     ]
    },
    {
     "ename": "TypeError",
     "evalue": "'NoneType' object is not subscriptable",
     "output_type": "error",
     "traceback": [
      "\u001b[1;31m---------------------------------------------------------------------------\u001b[0m",
      "\u001b[1;31mTypeError\u001b[0m                                 Traceback (most recent call last)",
      "\u001b[1;32m<ipython-input-163-08f87bd44f88>\u001b[0m in \u001b[0;36m<module>\u001b[1;34m\u001b[0m\n\u001b[1;32m----> 1\u001b[1;33m \u001b[0mprint\u001b[0m\u001b[1;33m(\u001b[0m\u001b[0madidas\u001b[0m\u001b[1;33m)\u001b[0m\u001b[1;33m[\u001b[0m\u001b[1;34m'2019-06-03'\u001b[0m\u001b[1;33m]\u001b[0m\u001b[1;33m\u001b[0m\u001b[1;33m\u001b[0m\u001b[0m\n\u001b[0m",
      "\u001b[1;31mTypeError\u001b[0m: 'NoneType' object is not subscriptable"
     ]
    }
   ],
   "source": [
    "print(adidas)['2019-06-03']"
   ]
  },
  {
   "cell_type": "code",
   "execution_count": 143,
   "metadata": {
    "scrolled": true
   },
   "outputs": [
    {
     "name": "stdout",
     "output_type": "stream",
     "text": [
      "55.992456231664\n",
      "7.030761964170941\n",
      "19.888478944820477\n",
      "16.407644407953658\n",
      "-2.7957700653350797\n",
      "15.160834121732602\n",
      "40.93871527687894\n",
      "11.157288604745695\n",
      "45.41613648728909\n",
      "29.831471013658106\n",
      "30.12008474864323\n",
      "11.859717069117853\n",
      "38.43385952426795\n",
      "19.053891837882972\n",
      "43.20468568187819\n",
      "1.585168246836495\n",
      "-6.941786491772187\n",
      "23.40179960420989\n",
      "16.623611406811314\n",
      "21.691602782235268\n",
      "39.191344588810104\n",
      "-2.021338430636989\n",
      "-18.105968641278363\n",
      "23.574292948816474\n",
      "32.95198685748835\n",
      "-20.75604981029093\n",
      "18.802263238317096\n"
     ]
    }
   ],
   "source": [
    "print(adidas_1y)\n",
    "print(bmw_1y)\n",
    "print(heise_1y)\n",
    "print(ifx_1y)\n",
    "print(cov_1y)\n",
    "print(fme_1y)\n",
    "#print(fre_1y) <-- 2019-05-15 NaN Eintrag\n",
    "print(sap_1y)\n",
    "print(dai_1y)\n",
    "print(muv2_1y)\n",
    "print(vow3_1y)\n",
    "print(alv_1y)\n",
    "print(bas_1y)\n",
    "print(lin_1y)\n",
    "print(bayn_1y)\n",
    "print(dpw_1y)\n",
    "print(dte_1y)\n",
    "print(con_1y)\n",
    "print(vna_1y)\n",
    "print(bei_1y)\n",
    "print(mrk_1y)\n",
    "print(rwe_1y)\n",
    "print(hen3_1y)\n",
    "print(lha_1y)\n",
    "#print(eon_1y) <-- 2019-05-15 NaN Eintrag\n",
    "print(sie_1y)\n",
    "print(dbahn_1y)\n",
    "print(tka_1y)\n",
    "#print(wdi_1y) <-- 2019-05-15 NaN Eintrag\n",
    "print(arl_1y)"
   ]
  },
  {
   "cell_type": "markdown",
   "metadata": {},
   "source": [
    "## DAX: Berechnungen der Kursgegenüberstellung von Heute zu 6 Monaten"
   ]
  },
  {
   "cell_type": "code",
   "execution_count": 145,
   "metadata": {},
   "outputs": [],
   "source": [
    "adidas_6mo =((adidasclose[end]-adidasclose[halftime])/adidasclose[halftime]*100)\n",
    "bmw_6mo =((bmwclose[end]-bmwclose[halftime])/bmwclose[halftime]*100)\n",
    "heise_6mo =((heiseclose[end]-heiseclose[halftime])/heiseclose[halftime]*100)\n",
    "ifx_6mo =((ifxclose[end]-ifxclose[halftime])/ifxclose[halftime]*100)\n",
    "cov_6mo =((covclose[end]-covclose[halftime])/covclose[halftime]*100)\n",
    "fme_6mo =((fmeclose[end]-fmeclose[halftime])/fmeclose[halftime]*100)\n",
    "fre_6mo =((freclose[end]-freclose[halftime])/freclose[halftime]*100)\n",
    "sap_6mo =((sapclose[end]-sapclose[halftime])/sapclose[halftime]*100)\n",
    "dai_6mo =((daiclose[end]-daiclose[halftime])/daiclose[halftime]*100)\n",
    "muv2_6mo =((muv2close[end]-muv2close[halftime])/muv2close[halftime]*100)\n",
    "vow3_6mo =((vow3close[end]-vow3close[halftime])/vow3close[halftime]*100)\n",
    "alv_6mo =((alvclose[end]-alvclose[halftime])/alvclose[halftime]*100)\n",
    "bas_6mo =((basclose[end]-basclose[halftime])/basclose[halftime]*100)\n",
    "lin_6mo =((linclose[end]-linclose[halftime])/linclose[halftime]*100)\n",
    "bayn_6mo =((baynclose[end]-baynclose[halftime])/baynclose[halftime]*100)\n",
    "dpw_6mo =((dpwclose[end]-dpwclose[halftime])/dpwclose[halftime]*100)\n",
    "dte_6mo =((dteclose[end]-dteclose[halftime])/dteclose[halftime]*100)\n",
    "con_6mo =((conclose[end]-conclose[halftime])/conclose[halftime]*100)\n",
    "vna_6mo =((vnaclose[end]-vnaclose[halftime])/vnaclose[halftime]*100)\n",
    "bei_6mo =((beiclose[end]-beiclose[halftime])/beiclose[halftime]*100)\n",
    "mrk_6mo =((mrkclose[end]-mrkclose[halftime])/mrkclose[halftime]*100)\n",
    "rwe_6mo =((rweclose[end]-rweclose[halftime])/rweclose[halftime]*100)\n",
    "hen3_6mo =((hen3close[end]-hen3close[halftime])/hen3close[halftime]*100)\n",
    "lha_6mo =((lhaclose[end]-lhaclose[halftime])/lhaclose[halftime]*100)\n",
    "eon_6mo =((eonclose[end]-eonclose[halftime])/eonclose[halftime]*100)\n",
    "sie_6mo =((sieclose[end]-sieclose[halftime])/sieclose[halftime]*100)\n",
    "dbahn_6mo =((dbahnclose[end]-dbahnclose[halftime])/dbahnclose[halftime]*100)\n",
    "tka_6mo =((tkaclose[end]-tkaclose[halftime])/tkaclose[halftime]*100)\n",
    "wdi_6mo =((wdiclose[end]-wdiclose[halftime])/wdiclose[halftime]*100)\n",
    "arl_6mo =((arlclose[end]-arlclose[halftime])/arlclose[halftime]*100)\n",
    "\n"
   ]
  },
  {
   "cell_type": "code",
   "execution_count": 146,
   "metadata": {},
   "outputs": [
    {
     "name": "stdout",
     "output_type": "stream",
     "text": [
      "3.638622490533268\n"
     ]
    }
   ],
   "source": [
    "print(adidas_6mo)"
   ]
  },
  {
   "cell_type": "markdown",
   "metadata": {},
   "source": [
    "## DAX: Berechnung der Bepunktung"
   ]
  },
  {
   "cell_type": "code",
   "execution_count": null,
   "metadata": {},
   "outputs": [],
   "source": [
    "if ddd"
   ]
  },
  {
   "cell_type": "markdown",
   "metadata": {},
   "source": [
    "## MDAX: Berechnungen der Kursgegenüberstellung von Heute zu einem Jahr"
   ]
  },
  {
   "cell_type": "code",
   "execution_count": 150,
   "metadata": {},
   "outputs": [],
   "source": [
    "#snhclose_1y = ((snhclose[end]-snhclose[start])/snhclose[start]*100)\n",
    "fieclose_1y = ((fieclose[end]-fieclose[start])/fieclose[start]*100)\n",
    "deqclose_1y = ((deqclose[end]-deqclose[start])/deqclose[start]*100)\n",
    "evdclose_1y = ((evdclose[end]-evdclose[start])/evdclose[start]*100)\n",
    "#shaclose_1y = ((shaclose[end]-shaclose[start])/shaclose[start]*100)\n",
    "#gilclose_1y = ((gilclose[end]-gilclose[start])/gilclose[start]*100)\n",
    "osrclose_1y = ((osrclose[end]-osrclose[start])/osrclose[start]*100)\n",
    "hnr1close_1y = ((hnr1close[end]-hnr1close[start])/hnr1close[start]*100)\n",
    "junclose_1y = ((junclose[end]-junclose[start])/junclose[start]*100)\n",
    "szuclose_1y = ((szuclose[end]-szuclose[start])/szuclose[start]*100)\n",
    "fpe3close_1y = ((fpe3close[end]-fpe3close[start])/fpe3close[start]*100)\n",
    "tegclose_1y = ((tegclose[end]-tegclose[start])/tegclose[start]*100)\n",
    "arlclose_1y = ((arlclose[end]-arlclose[start])/arlclose[start]*100)\n",
    "#1covclose_1y = ((1covclose[end]-1covclose[start])/1covclose[start]*100)\n",
    "legclose_1y = ((legclose[end]-legclose[start])/legclose[start]*100)\n",
    "#sazclose_1y = ((sazclose[end]-sazclose[start])/sazclose[start]*100)\n",
    "krnclose_1y = ((krnclose[end]-krnclose[start])/krnclose[start]*100)\n",
    "kgxclose_1y = ((kgxclose[end]-kgxclose[start])/kgxclose[start]*100)\n",
    "#zalclose_1y = ((zalclose[end]-zalclose[start])/zalclose[start]*100)\n",
    "rrtlclose_1y = ((rrtlclose[end]-rrtlclose[start])/rrtlclose[start]*100)\n",
    "bossclose_1y = ((bossclose[end]-bossclose[start])/bossclose[start]*100)\n",
    "gxiclose_1y = ((gxiclose[end]-gxiclose[start])/gxiclose[start]*100)\n",
    "evkclose_1y = ((evkclose[end]-evkclose[start])/evkclose[start]*100)\n",
    "hotclose_1y = ((hotclose[end]-hotclose[start])/hotclose[start]*100)\n",
    "noejclose_1y = ((noejclose[end]-noejclose[start])/noejclose[start]*100)\n",
    "lxsclose_1y = ((lxsclose[end]-lxsclose[start])/lxsclose[start]*100)\n",
    "#meoclose_1y = ((meoclose[end]-meoclose[start])/meoclose[start]*100)\n",
    "rhkclose_1y = ((rhkclose[end]-rhkclose[start])/rhkclose[start]*100)\n",
    "dueclose_1y = ((dueclose[end]-dueclose[start])/dueclose[start]*100)\n",
    "fraclose_1y = ((fraclose[end]-fraclose[start])/fraclose[start]*100)\n"
   ]
  },
  {
   "cell_type": "code",
   "execution_count": 151,
   "metadata": {},
   "outputs": [
    {
     "name": "stdout",
     "output_type": "stream",
     "text": [
      "33.05211527297928\n",
      "10.183994062246644\n",
      "62.856178005880636\n",
      "24.328821535728977\n",
      "51.195930275636115\n",
      "-7.785140948625113\n",
      "47.65328603570224\n",
      "23.715117119836517\n",
      "12.827515020579948\n",
      "18.802263238317096\n",
      "15.620283689775746\n",
      "-0.1261327331711819\n",
      "38.231912983138066\n",
      "-3.216907777579391\n",
      "-18.009980761913756\n",
      "23.75950340212644\n",
      "25.12994282737322\n",
      "-0.1021983879543321\n",
      "-11.819725761560836\n",
      "41.89395856274515\n",
      "-23.602741598810262\n",
      "-4.613240579207443\n",
      "17.785987169767452\n"
     ]
    }
   ],
   "source": [
    "#print(snhclose_1y)\n",
    "print(fieclose_1y)\n",
    "print(deqclose_1y)\n",
    "print(evdclose_1y)\n",
    "#print(shaclose_1y)\n",
    "#print(gilclose_1y)\n",
    "print(osrclose_1y)\n",
    "print(hnr1close_1y)\n",
    "print(junclose_1y)\n",
    "print(szuclose_1y)\n",
    "print(fpe3close_1y)\n",
    "print(tegclose_1y)\n",
    "print(arlclose_1y)\n",
    "#print(1covclose_1y)\n",
    "print(legclose_1y)\n",
    "#print(sazclose_1y)\n",
    "print(krnclose_1y)\n",
    "print(kgxclose_1y)\n",
    "#print(zalclose_1y)\n",
    "print(rrtlclose_1y)\n",
    "print(bossclose_1y)\n",
    "print(gxiclose_1y)\n",
    "print(evkclose_1y)\n",
    "print(hotclose_1y)\n",
    "print(noejclose_1y)\n",
    "print(lxsclose_1y)\n",
    "#print(meoclose_1y)\n",
    "print(rhkclose_1y)\n",
    "print(dueclose_1y)\n",
    "print(fraclose_1y)\n"
   ]
  },
  {
   "cell_type": "markdown",
   "metadata": {},
   "source": [
    "## MDAX: Berechnung der Kursgegenüberstellung von Heute zu 6 Monate"
   ]
  },
  {
   "cell_type": "code",
   "execution_count": 155,
   "metadata": {},
   "outputs": [],
   "source": [
    "snh_6mo =((snhclose[end]-snhclose[halftime])/snhclose[halftime]*100)\n",
    "fie_6mo =((fieclose[end]-fieclose[halftime])/fieclose[halftime]*100)\n",
    "deq_6mo =((deqclose[end]-deqclose[halftime])/deqclose[halftime]*100)\n",
    "evd_6mo =((evdclose[end]-evdclose[halftime])/evdclose[halftime]*100)\n",
    "#sha_6mo =((shaclose[end]-shaclose[halftime])/shaclose[halftime]*100)\n",
    "#gil_6mo =((gilclose[end]-gilclose[halftime])/gilclose[halftime]*100)\n",
    "osr_6mo =((osrclose[end]-osrclose[halftime])/osrclose[halftime]*100)\n",
    "hnr1_6mo =((hnr1close[end]-hnr1close[halftime])/hnr1close[halftime]*100)\n",
    "jun_6mo =((junclose[end]-junclose[halftime])/junclose[halftime]*100)\n",
    "szu_6mo =((szuclose[end]-szuclose[halftime])/szuclose[halftime]*100)\n",
    "fpe3_6mo =((fpe3close[end]-fpe3close[halftime])/fpe3close[halftime]*100)\n",
    "teg_6mo =((tegclose[end]-tegclose[halftime])/tegclose[halftime]*100)\n",
    "arl_6mo =((arlclose[end]-arlclose[halftime])/arlclose[halftime]*100)\n",
    "#1cov_6mo =((1covclose[end]-1covclose[halftime])/1covclose[halftime]*100)\n",
    "leg_6mo =((legclose[end]-legclose[halftime])/legclose[halftime]*100)\n",
    "#saz_6mo =((sazclose[end]-sazclose[halftime])/sazclose[halftime]*100)\n",
    "krn_6mo =((krnclose[end]-krnclose[halftime])/krnclose[halftime]*100)\n",
    "kgx_6mo =((kgxclose[end]-kgxclose[halftime])/kgxclose[halftime]*100)\n",
    "zal_6mo =((zalclose[end]-zalclose[halftime])/zalclose[halftime]*100)\n",
    "rrtl_6mo =((rrtlclose[end]-rrtlclose[halftime])/rrtlclose[halftime]*100)\n",
    "boss_6mo =((bossclose[end]-bossclose[halftime])/bossclose[halftime]*100)\n",
    "gxi_6mo =((gxiclose[end]-gxiclose[halftime])/gxiclose[halftime]*100)\n",
    "evk_6mo =((evkclose[end]-evkclose[halftime])/evkclose[halftime]*100)\n",
    "hot_6mo =((hotclose[end]-hotclose[halftime])/hotclose[halftime]*100)\n",
    "noej_6mo =((noejclose[end]-noejclose[halftime])/noejclose[halftime]*100)\n",
    "lxs_6mo =((lxsclose[end]-lxsclose[halftime])/lxsclose[halftime]*100)\n",
    "#meo_6mo =((meoclose[end]-meoclose[halftime])/meoclose[halftime]*100)\n",
    "rhk_6mo =((rhkclose[end]-rhkclose[halftime])/rhkclose[halftime]*100)\n",
    "due_6mo =((dueclose[end]-dueclose[halftime])/dueclose[halftime]*100)\n",
    "fra_6mo =((fraclose[end]-fraclose[halftime])/fraclose[halftime]*100)"
   ]
  },
  {
   "cell_type": "code",
   "execution_count": 156,
   "metadata": {},
   "outputs": [
    {
     "name": "stdout",
     "output_type": "stream",
     "text": [
      "-52.23047941022425\n",
      "14.444323783616053\n",
      "5.538335836158609\n",
      "29.851528650808547\n",
      "29.964719589755767\n",
      "-2.9342724055714644\n",
      "43.534967571213976\n",
      "19.723972971146935\n",
      "-22.62773297084428\n",
      "16.63539375514463\n",
      "21.498660474674587\n",
      "8.622224595811632\n",
      "17.975337647745256\n",
      "2.845145064543114\n",
      "-2.4282584252884067\n",
      "19.69456084618068\n",
      "20.12370337581745\n",
      "-1.523545364869808\n",
      "-24.697671934615734\n",
      "7.168979986205697\n",
      "10.070602377700395\n",
      "5.146402466210311\n",
      "5.329146201366594\n",
      "22.341496030622512\n",
      "-44.1647678654084\n",
      "-3.785390249003178\n",
      "-2.532337249041653\n"
     ]
    }
   ],
   "source": [
    "print(snhclose_6mo)\n",
    "print(fieclose_6mo)\n",
    "print(deqclose_6mo)\n",
    "print(evdclose_6mo)\n",
    "print(shaclose_6mo)\n",
    "print(gilclose_6mo)\n",
    "print(osrclose_6mo)\n",
    "print(hnr1close_6mo)\n",
    "print(junclose_6mo)\n",
    "print(szuclose_6mo)\n",
    "print(fpe3close_6mo)\n",
    "print(tegclose_6mo)\n",
    "print(arlclose_6mo)\n",
    "#print(1covclose_6mo)\n",
    "print(legclose_6mo)\n",
    "#print(sazclose_6mo)\n",
    "print(krnclose_6mo)\n",
    "print(kgxclose_6mo)\n",
    "print(zalclose_6mo)\n",
    "print(rrtlclose_6mo)\n",
    "print(bossclose_6mo)\n",
    "print(gxiclose_6mo)\n",
    "print(evkclose_6mo)\n",
    "print(hotclose_6mo)\n",
    "print(noejclose_6mo)\n",
    "print(lxsclose_6mo)\n",
    "#print(meoclose_6mo)\n",
    "print(rhkclose_6mo)\n",
    "print(dueclose_6mo)\n",
    "print(fraclose_6mo)\n"
   ]
  },
  {
   "cell_type": "markdown",
   "metadata": {},
   "source": [
    "## TecDAX: Berechnungen der Kursgegenüberstellung von Heute zu 1 Jahr"
   ]
  },
  {
   "cell_type": "code",
   "execution_count": 158,
   "metadata": {},
   "outputs": [],
   "source": [
    "#o1bc_1y =((o1bcclose[end] -o1bcclose[start])/o1bcclose[start]*100)\n",
    "cok_1y =((cokclose[end] -cokclose[start])/cokclose[start]*100)\n",
    "drw3_1y =((drw3close[end] -drw3close[start])/drw3close[start]*100)\n",
    "cop_1y =((copclose[end] -copclose[start])/copclose[start]*100)\n",
    "afx_1y =((afxclose[end] -afxclose[start])/afxclose[start]*100)\n",
    "nem_1y =((nemclose[end] -nemclose[start])/nemclose[start]*100)\n",
    "qia_1y =((qiaclose[end] -qiaclose[start])/qiaclose[start]*100)\n",
    "wdi_1y =((wdiclose[end] -wdiclose[start])/wdiclose[start]*100)\n",
    "o2d_1y =((o2dclose[end] -o2dclose[start])/o2dclose[start]*100)\n",
    "pfv_1y =((pfvclose[end] -pfvclose[start])/pfvclose[start]*100)\n",
    "sbs_1y =((sbsclose[end] -sbsclose[start])/sbsclose[start]*100)\n",
    "srt3_1y =((srt3close[end] -srt3close[start])/srt3close[start]*100)\n",
    "s92_1y =((s92close[end] -s92close[start])/s92close[start]*100)\n",
    "fntn_1y =((fntnclose[end] -fntnclose[start])/fntnclose[start]*100)\n",
    "utdi_1y =((utdiclose[end] -utdiclose[start])/utdiclose[start]*100)\n",
    "am3d_1y =((am3dclose[end] -am3dclose[start])/am3dclose[start]*100)\n",
    "mor_1y =((morclose[end] -morclose[start])/morclose[start]*100)\n",
    "#sow_1y =((sowclose[end] -sowclose[start])/sowclose[start]*100)\n",
    "jen_1y =((jenclose[end] -jenclose[start])/jenclose[start]*100)\n",
    "gft_1y =((gftclose[end] -gftclose[start])/gftclose[start]*100)\n",
    "ndx1_1y =((ndx1close[end] -ndx1close[start])/ndx1close[start]*100)\n",
    "dlg_1y =((dlgclose[end] -dlgclose[start])/dlgclose[start]*100)\n",
    "dri_1y =((driclose[end] -driclose[start])/driclose[start]*100)\n",
    "smhn_1y =((smhnclose[end] -smhnclose[start])/smhnclose[start]*100)\n",
    "bc8_1y =((bc8close[end] -bc8close[start])/bc8close[start]*100)\n",
    "aixa_1y =((aixaclose[end] -aixaclose[start])/aixaclose[start]*100)\n",
    "adv_1y =((advclose[end] -advclose[start])/advclose[start]*100)\n",
    "evt_1y =((evtclose[end] -evtclose[start])/evtclose[start]*100)\n",
    "waf_1y =((wafclose[end] -wafclose[start])/wafclose[start]*100)\n",
    "rib_1y =((ribclose[end] -ribclose[start])/ribclose[start]*100)\n",
    "\n"
   ]
  },
  {
   "cell_type": "code",
   "execution_count": 159,
   "metadata": {},
   "outputs": [
    {
     "name": "stdout",
     "output_type": "stream",
     "text": [
      "82.5832433989216\n",
      "5.10398287236957\n",
      "56.24417963108086\n",
      "57.291345558691106\n",
      "90.34896727174225\n",
      "-0.5851765404304891\n",
      "-14.532405514483637\n",
      "43.81812582768728\n",
      "20.120801030338363\n",
      "68.96127566588135\n",
      "102.63157377871308\n",
      "25.541196642713448\n",
      "79.17917946585455\n",
      "28.142495191734255\n",
      "9.241741829321958\n",
      "65.03029961968998\n",
      "53.42639564727557\n",
      "109.98625887675078\n",
      "-51.66501208180914\n",
      "51.30434803211975\n",
      "89.54247080595925\n",
      "1.381733384597981\n",
      "23.100546770846258\n",
      "24.67672443692878\n",
      "27.378801234386685\n",
      "88.61533486680564\n"
     ]
    }
   ],
   "source": [
    "#print(o1bc_1y)\n",
    "print(cok_1y)\n",
    "print(drw3_1y)\n",
    "print(cop_1y)\n",
    "print(afx_1y)\n",
    "print(nem_1y)\n",
    "print(qia_1y)\n",
    "#print(wdi_1y)\n",
    "print(o2d_1y)\n",
    "print(pfv_1y)\n",
    "print(sbs_1y)\n",
    "print(srt3_1y)\n",
    "print(s92_1y)\n",
    "print(fntn_1y)\n",
    "#print(utdi_1y)\n",
    "print(am3d_1y)\n",
    "print(mor_1y)\n",
    "#print(sow_1y)\n",
    "print(jen_1y)\n",
    "print(gft_1y)\n",
    "print(ndx1_1y)\n",
    "print(dlg_1y)\n",
    "print(dri_1y)\n",
    "print(smhn_1y)\n",
    "print(bc8_1y)\n",
    "print(aixa_1y)\n",
    "print(adv_1y)\n",
    "print(evt_1y)\n",
    "print(waf_1y)\n",
    "print(rib_1y)\n",
    "\n"
   ]
  },
  {
   "cell_type": "markdown",
   "metadata": {},
   "source": [
    "## TecDax: Berechnungen der Kursgegenüberstellung von Heute zu 6 Monaten"
   ]
  },
  {
   "cell_type": "code",
   "execution_count": 160,
   "metadata": {},
   "outputs": [],
   "source": [
    "#o1bc_6mo =((o1bcclose[end] -o1bcclose[halftime])/o1bcclose[halftime]*100)\n",
    "cok_6mo =((cokclose[end] -cokclose[halftime])/cokclose[halftime]*100)\n",
    "drw3_6mo =((drw3close[end] -drw3close[halftime])/drw3close[halftime]*100)\n",
    "cop_6mo =((copclose[end] -copclose[halftime])/copclose[halftime]*100)\n",
    "afx_6mo =((afxclose[end] -afxclose[halftime])/afxclose[halftime]*100)\n",
    "nem_6mo =((nemclose[end] -nemclose[halftime])/nemclose[halftime]*100)\n",
    "qia_6mo =((qiaclose[end] -qiaclose[halftime])/qiaclose[halftime]*100)\n",
    "#wdi_6mo =((wdiclose[end] -wdiclose[halftime])/wdiclose[halftime]*100)\n",
    "o2d_6mo =((o2dclose[end] -o2dclose[halftime])/o2dclose[halftime]*100)\n",
    "pfv_6mo =((pfvclose[end] -pfvclose[halftime])/pfvclose[halftime]*100)\n",
    "sbs_6mo =((sbsclose[end] -sbsclose[halftime])/sbsclose[halftime]*100)\n",
    "srt3_6mo =((srt3close[end] -srt3close[halftime])/srt3close[halftime]*100)\n",
    "s92_6mo =((s92close[end] -s92close[halftime])/s92close[halftime]*100)\n",
    "fntn_6mo =((fntnclose[end] -fntnclose[halftime])/fntnclose[halftime]*100)\n",
    "#utdi_6mo =((utdiclose[end] -utdiclose[halftime])/utdiclose[halftime]*100)\n",
    "am3d_6mo =((am3dclose[end] -am3dclose[halftime])/am3dclose[halftime]*100)\n",
    "mor_6mo =((morclose[end] -morclose[halftime])/morclose[halftime]*100)\n",
    "sow_6mo =((sowclose[end] -sowclose[halftime])/sowclose[halftime]*100)\n",
    "jen_6mo =((jenclose[end] -jenclose[halftime])/jenclose[halftime]*100)\n",
    "gft_6mo =((gftclose[end] -gftclose[halftime])/gftclose[halftime]*100)\n",
    "ndx1_6mo =((ndx1close[end] -ndx1close[halftime])/ndx1close[halftime]*100)\n",
    "dlg_6mo =((dlgclose[end] -dlgclose[halftime])/dlgclose[halftime]*100)\n",
    "dri_6mo =((driclose[end] -driclose[halftime])/driclose[halftime]*100)\n",
    "smhn_6mo =((smhnclose[end] -smhnclose[halftime])/smhnclose[halftime]*100)\n",
    "bc8_6mo =((bc8close[end] -bc8close[halftime])/bc8close[halftime]*100)\n",
    "aixa_6mo =((aixaclose[end] -aixaclose[halftime])/aixaclose[halftime]*100)\n",
    "adv_6mo =((advclose[end] -advclose[halftime])/advclose[halftime]*100)\n",
    "evt_6mo =((evtclose[end] -evtclose[halftime])/evtclose[halftime]*100)\n",
    "waf_6mo =((wafclose[end] -wafclose[halftime])/wafclose[halftime]*100)\n",
    "rib_6mo =((ribclose[end] -ribclose[halftime])/ribclose[halftime]*100)\n"
   ]
  },
  {
   "cell_type": "code",
   "execution_count": 161,
   "metadata": {},
   "outputs": [
    {
     "name": "stdout",
     "output_type": "stream",
     "text": [
      "11.286252049658088\n",
      "6.853280481364725\n",
      "-8.321487694970092\n",
      "31.554530789564474\n",
      "9.901872100991678\n",
      "-14.076988500708222\n",
      "6.329122796769812\n",
      "27.26543771617893\n",
      "14.742449999176758\n",
      "7.262569832402235\n",
      "44.926339586559564\n",
      "13.031549795822128\n",
      "37.48079100762793\n",
      "44.46356778145702\n",
      "4.021630712812084\n",
      "-1.0769257178673377\n",
      "57.61588500532226\n",
      "-15.69037640208079\n",
      "29.199551138716178\n",
      "-28.379240544099005\n",
      "30.96774253091007\n",
      "22.910524828841243\n",
      "7.955105962485641\n",
      "15.395693206668914\n",
      "-9.040884811814646\n",
      "47.68101213072485\n",
      "14.86784573582591\n"
     ]
    }
   ],
   "source": [
    "#print(o1bc_6mo)\n",
    "print(cok_6mo)\n",
    "print(drw3_6mo)\n",
    "print(cop_6mo)\n",
    "print(afx_6mo)\n",
    "print(nem_6mo)\n",
    "print(qia_6mo)\n",
    "#print(wdi_6mo)\n",
    "print(o2d_6mo)\n",
    "print(pfv_6mo)\n",
    "print(sbs_6mo)\n",
    "print(srt3_6mo)\n",
    "print(s92_6mo)\n",
    "print(fntn_6mo)\n",
    "#print(utdi_6mo)\n",
    "print(am3d_6mo)\n",
    "print(mor_6mo)\n",
    "print(sow_6mo)\n",
    "print(jen_6mo)\n",
    "print(gft_6mo)\n",
    "print(ndx1_6mo)\n",
    "print(dlg_6mo)\n",
    "print(dri_6mo)\n",
    "print(smhn_6mo)\n",
    "print(bc8_6mo)\n",
    "print(aixa_6mo)\n",
    "print(adv_6mo)\n",
    "print(evt_6mo)\n",
    "print(waf_6mo)\n",
    "print(rib_6mo)\n",
    "\n"
   ]
  },
  {
   "cell_type": "markdown",
   "metadata": {},
   "source": [
    "# Kennzahl: Eigenkapitalrendite"
   ]
  },
  {
   "cell_type": "code",
   "execution_count": 102,
   "metadata": {},
   "outputs": [],
   "source": [
    "wc = Wirecard.quarterly_balance_sheet\n",
    "wcearning = Wirecard.quarterly_earnings"
   ]
  },
  {
   "cell_type": "code",
   "execution_count": 87,
   "metadata": {},
   "outputs": [
    {
     "name": "stdout",
     "output_type": "stream",
     "text": [
      "                                    2019-09-30    2019-06-30    2019-03-31  \\\n",
      "Accounts Payable                  7.880000e+07  6.590000e+07  6.870000e+07   \n",
      "Cash                              3.287400e+09  3.047700e+09  2.829600e+09   \n",
      "Common Stock                      1.236000e+08  1.236000e+08  1.236000e+08   \n",
      "Deferred Long Term Asset Charges  1.190000e+07  1.310000e+07  1.210000e+07   \n",
      "Good Will                         7.259000e+08  7.135000e+08  7.197000e+08   \n",
      "Intangible Assets                 7.147000e+08  6.997000e+08  7.029000e+08   \n",
      "Inventory                         7.100000e+06  7.600000e+06  8.100000e+06   \n",
      "Long Term Debt                    1.657700e+09  1.594600e+09  1.498700e+09   \n",
      "Long Term Investments             1.408000e+08  1.472000e+08  1.667000e+08   \n",
      "Net Receivables                   1.197600e+09  1.203800e+09  1.182000e+09   \n",
      "Net Tangible Assets               8.742000e+08  7.319000e+08  6.252000e+08   \n",
      "Other Assets                      2.712000e+08  2.525000e+08  2.613000e+08   \n",
      "Other Current Assets              1.000000e+05  1.500000e+06 -1.000000e+05   \n",
      "Other Current Liab                2.500200e+09  2.442700e+09  2.406100e+09   \n",
      "Other Liab                        1.820000e+08  1.924000e+08  2.075000e+08   \n",
      "Other Stockholder Equity          4.535000e+08  4.330000e+08  4.422000e+08   \n",
      "Property Plant Equipment          1.051000e+08  1.098000e+08  1.132000e+08   \n",
      "Retained Earnings                 1.737700e+09  1.588500e+09  1.482000e+09   \n",
      "Short Long Term Debt              1.277000e+08  1.014000e+08  1.123000e+08   \n",
      "Short Term Investments            5.516000e+08  5.143000e+08  5.063000e+08   \n",
      "Total Assets                      7.001500e+09  6.697600e+09  6.489700e+09   \n",
      "Total Current Assets              5.043800e+09  4.774900e+09  4.525900e+09   \n",
      "Total Current Liabilities         2.805400e+09  2.722500e+09  2.688100e+09   \n",
      "Total Liab                        4.686700e+09  4.552500e+09  4.441900e+09   \n",
      "Total Stockholder Equity          2.314800e+09  2.145100e+09  2.047800e+09   \n",
      "Treasury Stock                    4.535000e+08  4.330000e+08  4.422000e+08   \n",
      "\n",
      "                                    2018-12-31  \n",
      "Accounts Payable                  6.340000e+07  \n",
      "Cash                              2.719800e+09  \n",
      "Common Stock                      1.236000e+08  \n",
      "Deferred Long Term Asset Charges  1.080000e+07  \n",
      "Good Will                         7.059000e+08  \n",
      "Intangible Assets                 7.036000e+08  \n",
      "Inventory                         1.060000e+07  \n",
      "Long Term Debt                    1.348700e+09  \n",
      "Long Term Investments             1.712000e+08  \n",
      "Net Receivables                   1.055400e+09  \n",
      "Net Tangible Assets               5.132000e+08  \n",
      "Other Assets                      2.672000e+08  \n",
      "Other Current Assets              1.300000e+06  \n",
      "Other Current Liab                2.071600e+09  \n",
      "Other Liab                        2.167000e+08  \n",
      "Other Stockholder Equity          4.234000e+08  \n",
      "Property Plant Equipment          8.150000e+07  \n",
      "Retained Earnings                 1.375700e+09  \n",
      "Short Long Term Debt              1.001000e+08  \n",
      "Short Term Investments            1.384000e+08  \n",
      "Total Assets                      5.854900e+09  \n",
      "Total Current Assets              3.925500e+09  \n",
      "Total Current Liabilities         2.339600e+09  \n",
      "Total Liab                        3.932200e+09  \n",
      "Total Stockholder Equity          1.922700e+09  \n",
      "Treasury Stock                    4.234000e+08  \n"
     ]
    }
   ],
   "source": [
    "print(wc)"
   ]
  },
  {
   "cell_type": "code",
   "execution_count": 93,
   "metadata": {},
   "outputs": [],
   "source": [
    "wctest = wc[quarterly]"
   ]
  },
  {
   "cell_type": "code",
   "execution_count": 94,
   "metadata": {},
   "outputs": [
    {
     "name": "stdout",
     "output_type": "stream",
     "text": [
      "Accounts Payable                    7.880000e+07\n",
      "Cash                                3.287400e+09\n",
      "Common Stock                        1.236000e+08\n",
      "Deferred Long Term Asset Charges    1.190000e+07\n",
      "Good Will                           7.259000e+08\n",
      "Intangible Assets                   7.147000e+08\n",
      "Inventory                           7.100000e+06\n",
      "Long Term Debt                      1.657700e+09\n",
      "Long Term Investments               1.408000e+08\n",
      "Net Receivables                     1.197600e+09\n",
      "Net Tangible Assets                 8.742000e+08\n",
      "Other Assets                        2.712000e+08\n",
      "Other Current Assets                1.000000e+05\n",
      "Other Current Liab                  2.500200e+09\n",
      "Other Liab                          1.820000e+08\n",
      "Other Stockholder Equity            4.535000e+08\n",
      "Property Plant Equipment            1.051000e+08\n",
      "Retained Earnings                   1.737700e+09\n",
      "Short Long Term Debt                1.277000e+08\n",
      "Short Term Investments              5.516000e+08\n",
      "Total Assets                        7.001500e+09\n",
      "Total Current Assets                5.043800e+09\n",
      "Total Current Liabilities           2.805400e+09\n",
      "Total Liab                          4.686700e+09\n",
      "Total Stockholder Equity            2.314800e+09\n",
      "Treasury Stock                      4.535000e+08\n",
      "Name: 2019-09-30 00:00:00, dtype: float64\n"
     ]
    }
   ],
   "source": [
    "print(wctest)"
   ]
  },
  {
   "cell_type": "code",
   "execution_count": 97,
   "metadata": {},
   "outputs": [
    {
     "data": {
      "text/plain": [
       "2314800000.0"
      ]
     },
     "execution_count": 97,
     "metadata": {},
     "output_type": "execute_result"
    }
   ],
   "source": [
    "wctest[24]"
   ]
  },
  {
   "cell_type": "code",
   "execution_count": 103,
   "metadata": {},
   "outputs": [
    {
     "name": "stdout",
     "output_type": "stream",
     "text": [
      "          Earnings    Revenue\n",
      "Quarter                      \n",
      "4Q2018    97200000  585500000\n",
      "1Q2019   106300000  576500000\n",
      "2Q2019   131400000  655400000\n",
      "3Q2019   149200000  741600000\n"
     ]
    }
   ],
   "source": [
    "print(wcearning)"
   ]
  },
  {
   "cell_type": "code",
   "execution_count": null,
   "metadata": {},
   "outputs": [],
   "source": []
  }
 ],
 "metadata": {
  "kernelspec": {
   "display_name": "Python 3",
   "language": "python",
   "name": "python3"
  },
  "language_info": {
   "codemirror_mode": {
    "name": "ipython",
    "version": 3
   },
   "file_extension": ".py",
   "mimetype": "text/x-python",
   "name": "python",
   "nbconvert_exporter": "python",
   "pygments_lexer": "ipython3",
   "version": "3.7.4"
  },
  "toc": {
   "base_numbering": 1,
   "nav_menu": {},
   "number_sections": true,
   "sideBar": true,
   "skip_h1_title": false,
   "title_cell": "Table of Contents",
   "title_sidebar": "Contents",
   "toc_cell": false,
   "toc_position": {},
   "toc_section_display": true,
   "toc_window_display": false
  },
  "varInspector": {
   "cols": {
    "lenName": 16,
    "lenType": 16,
    "lenVar": 40
   },
   "kernels_config": {
    "python": {
     "delete_cmd_postfix": "",
     "delete_cmd_prefix": "del ",
     "library": "var_list.py",
     "varRefreshCmd": "print(var_dic_list())"
    },
    "r": {
     "delete_cmd_postfix": ") ",
     "delete_cmd_prefix": "rm(",
     "library": "var_list.r",
     "varRefreshCmd": "cat(var_dic_list()) "
    }
   },
   "types_to_exclude": [
    "module",
    "function",
    "builtin_function_or_method",
    "instance",
    "_Feature"
   ],
   "window_display": false
  }
 },
 "nbformat": 4,
 "nbformat_minor": 2
}
