{
 "cells": [
  {
   "cell_type": "markdown",
   "metadata": {},
   "source": [
    "# <span style=\"color:blue\">**Der Aktien-Finder**</span> <br>\n",
    "\n",
    "Hierbei werden Aktien anhand einer von **Susan Levermann** entwickelten Methode nach unterschiedlichen KPIs bewertet und bepunktet. Frau Levermann hat dieses Bewertungsmodell in ihrem Buch _Der entspannte Weg zum Reichtum_ literarisch beschrieben.<br>\n",
    "\n",
    "Wir betrachten in der folgenden Applikation nur die deutschen Aktienindizes, welche nun wie folgt lauten: <br>\n",
    "\n",
    "1. <span style=\"color:blue\">**DAX**</span>\n",
    "2. <span style=\"color:black\">**TecDax**</span>\n",
    "3. <span style=\"color:red\">**MDAX**</span>\n",
    "<br>\n",
    "\n",
    "Die __key performance indicators__ (kurz: __KPI__) von Frau Levermann umfassen 13 Kennzahlen. \n",
    "Wir beschränken uns zunächst auf folgende vier: <br>\n",
    "\n",
    "1. Kurs heute gegenüber Kurs von vor 6 Monaten\n",
    "2. Kurs heute gegenüber Kurs von vor einem Jahr\n",
    "3. Kurs-Gewinn-Verhältnis (KGV) aktuell\n",
    "4. Kurs-Gewinn-Verhältnis (KGV) 5 Jahre\n",
    "<br>\n",
    "\n",
    "Für jedes dieser Kriterien gibt es folgende mögliche Punktevergaben **+1** ; **0** oder **-1** .\n",
    "Die Gesamtpunktzahl ergibt den ***LEVERMAN-SCORE***.\n",
    "Besitzt dieser Score mindestens 4 Punkte sollte die Aktie <span style=\"color:green\"> ***gekauft*** </span> werden (Large Caps).\n",
    "Bei Small- & Mid Caps sollten 7 Punkte beachtet werden, da kleine Unternehmen größeren Risiken ausgesetzt sind.\n",
    "\n"
   ]
  },
  {
   "cell_type": "markdown",
   "metadata": {},
   "source": [
    "## Importieren gängiger APIs zum Erstellen des Dashboardes"
   ]
  },
  {
   "cell_type": "code",
   "execution_count": 295,
   "metadata": {},
   "outputs": [],
   "source": [
    "# Zeitfenster definieren\n",
    "\n",
    "from datetime import date    \n",
    "\n",
    "# Beginn des Zeitfenster zur Ermittlung der Kennzahlen HEUTE vor einem Jahr\n",
    "start = (datetime.date.today() - datetime.timedelta(395)).isoformat()\n",
    "\n",
    "# Beginn des Zeitfenster zur Ermittlung der Kennzahlen HEUTE vor einem halben Jahr\n",
    "halftime = (datetime.date.today() - datetime.timedelta(214)).isoformat()\n",
    "\n",
    "# Ende des Zeitfenster stellt der heutige Tag dar. ^^\n",
    "#end = date.today().isoformat()\n",
    "end = '2020-01-03'"
   ]
  },
  {
   "cell_type": "code",
   "execution_count": 296,
   "metadata": {},
   "outputs": [],
   "source": [
    "# Benötigte API laden\n",
    "\n",
    "import os\n",
    "from pathlib import Path\n",
    "import ipywidgets as widgets\n",
    "import pandas as pd\n",
    "import pandas_datareader.data as web\n",
    "from pandas.plotting import register_matplotlib_converters\n",
    "register_matplotlib_converters()\n",
    "import datetime as dt\n",
    "import numpy as np\n",
    "import seaborn as sns\n",
    "import matplotlib.pyplot as plt\n",
    "sns.set_style(\"whitegrid\")\n",
    "\n",
    "import yfinance as yf\n",
    "from pandas_datareader import data as pdr \n",
    "yf.pdr_override()"
   ]
  },
  {
   "cell_type": "code",
   "execution_count": 297,
   "metadata": {},
   "outputs": [],
   "source": [
    "# linienstaerke definieren\n",
    "\n",
    "paper_rc = {'lines.linewidth': 0.9, 'lines.markersize': 10}\n",
    "sns.set_context('paper', rc = paper_rc)"
   ]
  },
  {
   "cell_type": "markdown",
   "metadata": {},
   "source": [
    "## Datenbezug der Indizes DAX, TecDAX, MDAX erstellen"
   ]
  },
  {
   "cell_type": "markdown",
   "metadata": {},
   "source": [
    "### Aktien von DAX laden"
   ]
  },
  {
   "cell_type": "code",
   "execution_count": 298,
   "metadata": {},
   "outputs": [
    {
     "name": "stdout",
     "output_type": "stream",
     "text": [
      "[*********************100%***********************]  1 of 1 completed\n"
     ]
    }
   ],
   "source": [
    "\n",
    "# DAX Chart vom letzten Jahr laden.\n",
    "\n",
    "dax_m = pdr.get_data_yahoo(\"^GDAXI\", start=start, end= end, interval='1mo')"
   ]
  },
  {
   "cell_type": "code",
   "execution_count": 299,
   "metadata": {},
   "outputs": [
    {
     "data": {
      "image/png": "[encoded data removed]",
      "text/plain": [
       "<Figure size 432x288 with 1 Axes>"
      ]
     },
     "metadata": {},
     "output_type": "display_data"
    }
   ],
   "source": [
    "\n",
    "# DAX-Chart über den oben definierten Zeitraum plotten.\n",
    "plt.plot(dax_m['Adj Close'], lw=3)\n",
    "plt.xlabel('Datum')\n",
    "plt.ylabel('Kurs')\n",
    "plt.title('DAX-Chart von 01/2019 bis 01/2020')\n",
    "\n",
    "\n",
    "\n",
    "SMALL_SIZE = 12\n",
    "MEDIUM_SIZE = 18\n",
    "BIGGER_SIZE = 20\n",
    "\n",
    "plt.rc('font', size=SMALL_SIZE)          # controls default text sizes\n",
    "plt.rc('axes', titlesize=MEDIUM_SIZE)     # fontsize of the axes title\n",
    "plt.rc('axes', labelsize=MEDIUM_SIZE)    # fontsize of the x and y labels\n",
    "plt.rc('xtick', labelsize=SMALL_SIZE)    # fontsize of the tick labels\n",
    "plt.rc('ytick', labelsize=SMALL_SIZE)    # fontsize of the tick labels\n",
    "plt.rc('legend', fontsize=SMALL_SIZE)    # legend fontsize\n",
    "plt.rc('figure', titlesize=BIGGER_SIZE)\n"
   ]
  },
  {
   "cell_type": "code",
   "execution_count": 300,
   "metadata": {},
   "outputs": [
    {
     "name": "stdout",
     "output_type": "stream",
     "text": [
      "[*********************100%***********************]  1 of 1 completed\n",
      "[*********************100%***********************]  1 of 1 completed\n",
      "[*********************100%***********************]  1 of 1 completed\n",
      "[*********************100%***********************]  1 of 1 completed\n",
      "[*********************100%***********************]  1 of 1 completed\n",
      "[*********************100%***********************]  1 of 1 completed\n",
      "[*********************100%***********************]  1 of 1 completed\n",
      "[*********************100%***********************]  1 of 1 completed\n",
      "[*********************100%***********************]  1 of 1 completed\n",
      "[*********************100%***********************]  1 of 1 completed\n",
      "[*********************100%***********************]  1 of 1 completed\n",
      "[*********************100%***********************]  1 of 1 completed\n",
      "[*********************100%***********************]  1 of 1 completed\n",
      "[*********************100%***********************]  1 of 1 completed\n",
      "[*********************100%***********************]  1 of 1 completed\n",
      "[*********************100%***********************]  1 of 1 completed\n",
      "[*********************100%***********************]  1 of 1 completed\n",
      "[*********************100%***********************]  1 of 1 completed\n",
      "[*********************100%***********************]  1 of 1 completed\n",
      "[*********************100%***********************]  1 of 1 completed\n",
      "[*********************100%***********************]  1 of 1 completed\n",
      "[*********************100%***********************]  1 of 1 completed\n",
      "[*********************100%***********************]  1 of 1 completed\n",
      "[*********************100%***********************]  1 of 1 completed\n",
      "[*********************100%***********************]  1 of 1 completed\n",
      "[*********************100%***********************]  1 of 1 completed\n",
      "[*********************100%***********************]  1 of 1 completed\n",
      "[*********************100%***********************]  1 of 1 completed\n",
      "[*********************100%***********************]  1 of 1 completed\n",
      "[*********************100%***********************]  1 of 1 completed\n"
     ]
    }
   ],
   "source": [
    "\n",
    "# Über den Yahoo finance API mit den oben definierten Startwerten einlesen.\n",
    "\n",
    "adidas = pdr.get_data_yahoo('ADS.DE', start=start, end=end, interval= '1d')\n",
    "bmw = pdr.get_data_yahoo('BMW.DE', start=start, end=end, interval= '1d')\n",
    "heise = pdr.get_data_yahoo('HEI.DE', start=start, end=end, interval= '1d')\n",
    "ifx = pdr.get_data_yahoo('IFX.DE', start=start, end=end, interval= '1d')\n",
    "cov = pdr.get_data_yahoo('1COV.DE', start=start, end=end, interval= '1d')\n",
    "fme = pdr.get_data_yahoo('FME.DE', start=start, end=end, interval= '1d')\n",
    "fre = pdr.get_data_yahoo('FRE.DE', start=start, end=end, interval= '1d')\n",
    "sap = pdr.get_data_yahoo('SAP.DE', start=start, end=end, interval= '1d')\n",
    "dai = pdr.get_data_yahoo('DAI.DE', start=start, end=end, interval= '1d')\n",
    "muv2 = pdr.get_data_yahoo('MUV2.DE', start=start, end=end, interval= '1d')\n",
    "vow3 = pdr.get_data_yahoo('VOW3.DE', start=start, end=end, interval= '1d')\n",
    "alv = pdr.get_data_yahoo('ALV.DE', start=start, end=end, interval= '1d')\n",
    "bas = pdr.get_data_yahoo('BAS.DE', start=start, end=end, interval= '1d')\n",
    "lin = pdr.get_data_yahoo('LIN.DE', start=start, end=end, interval= '1d')\n",
    "bayn = pdr.get_data_yahoo('BAYN.DE', start=start, end=end, interval= '1d')\n",
    "dpw = pdr.get_data_yahoo('DPW.DE', start=start, end=end, interval= '1d')\n",
    "dte = pdr.get_data_yahoo('DTE.DE', start=start, end=end, interval= '1d')\n",
    "con = pdr.get_data_yahoo('CON.DE', start=start, end=end, interval= '1d')\n",
    "vna = pdr.get_data_yahoo('VNA.DE', start=start, end=end, interval= '1d')\n",
    "bei = pdr.get_data_yahoo('BEI.DE', start=start, end=end, interval= '1d')\n",
    "mrk = pdr.get_data_yahoo('MRK.DE', start=start, end=end, interval= '1d')\n",
    "rwe = pdr.get_data_yahoo('RWE.DE', start=start, end=end, interval= '1d')\n",
    "hen3 = pdr.get_data_yahoo('HEN3.DE', start=start, end=end, interval= '1d')\n",
    "lha = pdr.get_data_yahoo('LHA.DE', start=start, end=end, interval= '1d')\n",
    "eon = pdr.get_data_yahoo('EOAN.DE', start=start, end=end, interval= '1d')\n",
    "sie = pdr.get_data_yahoo('SIE.DE', start=start, end=end, interval= '1d')\n",
    "dbahn = pdr.get_data_yahoo('DB1.DE', start=start, end=end, interval= '1d')\n",
    "tka = pdr.get_data_yahoo('TKA.DE', start=start, end=end, interval= '1d')\n",
    "wdi = pdr.get_data_yahoo('WDI.DE', start=start, end=end, interval= '1d')\n",
    "arl = pdr.get_data_yahoo('ARL.DE', start=start, end=end, interval= '1d')\n"
   ]
  },
  {
   "cell_type": "markdown",
   "metadata": {},
   "source": [
    "### Aktien von MDAX laden"
   ]
  },
  {
   "cell_type": "code",
   "execution_count": 301,
   "metadata": {},
   "outputs": [
    {
     "name": "stdout",
     "output_type": "stream",
     "text": [
      "[*********************100%***********************]  1 of 1 completed\n"
     ]
    }
   ],
   "source": [
    "# DAX Chart vom letzten Jahr laden.\n",
    "\n",
    "mdax_m = pdr.get_data_yahoo(\"^MDAXI\", start=start, end= end, interval='1mo')"
   ]
  },
  {
   "cell_type": "code",
   "execution_count": 302,
   "metadata": {},
   "outputs": [
    {
     "data": {
      "image/png": "[encoded data removed]",
      "text/plain": [
       "<Figure size 432x288 with 1 Axes>"
      ]
     },
     "metadata": {},
     "output_type": "display_data"
    }
   ],
   "source": [
    "# MDAX-Chart über den oben definierten Zeitraum plotten.\n",
    "plt.plot(mdax_m['Adj Close'], lw=3)\n",
    "plt.xlabel('Datum')\n",
    "plt.ylabel('Kurs')\n",
    "plt.title('MDAX-Chart von 01/2019 bis 01/2020')\n",
    "\n",
    "\n",
    "\n",
    "SMALL_SIZE = 12\n",
    "MEDIUM_SIZE = 18\n",
    "BIGGER_SIZE = 20\n",
    "\n",
    "plt.rc('font', size=SMALL_SIZE)          # controls default text sizes\n",
    "plt.rc('axes', titlesize=MEDIUM_SIZE)     # fontsize of the axes title\n",
    "plt.rc('axes', labelsize=MEDIUM_SIZE)    # fontsize of the x and y labels\n",
    "plt.rc('xtick', labelsize=SMALL_SIZE)    # fontsize of the tick labels\n",
    "plt.rc('ytick', labelsize=SMALL_SIZE)    # fontsize of the tick labels\n",
    "plt.rc('legend', fontsize=SMALL_SIZE)    # legend fontsize\n",
    "plt.rc('figure', titlesize=BIGGER_SIZE)"
   ]
  },
  {
   "cell_type": "code",
   "execution_count": 303,
   "metadata": {},
   "outputs": [
    {
     "name": "stdout",
     "output_type": "stream",
     "text": [
      "[*********************100%***********************]  1 of 1 completed\n",
      "[*********************100%***********************]  1 of 1 completed\n",
      "[*********************100%***********************]  1 of 1 completed\n",
      "[*********************100%***********************]  1 of 1 completed\n",
      "[*********************100%***********************]  1 of 1 completed\n",
      "[*********************100%***********************]  1 of 1 completed\n",
      "[*********************100%***********************]  1 of 1 completed\n",
      "[*********************100%***********************]  1 of 1 completed\n",
      "[*********************100%***********************]  1 of 1 completed\n",
      "[*********************100%***********************]  1 of 1 completed\n",
      "[*********************100%***********************]  1 of 1 completed\n",
      "[*********************100%***********************]  1 of 1 completed\n",
      "[*********************100%***********************]  1 of 1 completed\n",
      "[*********************100%***********************]  1 of 1 completed\n",
      "[*********************100%***********************]  1 of 1 completed\n",
      "[*********************100%***********************]  1 of 1 completed\n",
      "[*********************100%***********************]  1 of 1 completed\n",
      "[*********************100%***********************]  1 of 1 completed\n",
      "[*********************100%***********************]  1 of 1 completed\n",
      "[*********************100%***********************]  1 of 1 completed\n",
      "[*********************100%***********************]  1 of 1 completed\n",
      "[*********************100%***********************]  1 of 1 completed\n",
      "[*********************100%***********************]  1 of 1 completed\n",
      "[*********************100%***********************]  1 of 1 completed\n",
      "[*********************100%***********************]  1 of 1 completed\n",
      "[*********************100%***********************]  1 of 1 completed\n"
     ]
    }
   ],
   "source": [
    "\n",
    "# Über den Yahoo finance API mit den oben definierten Startwerten einlesen.\n",
    "\n",
    "snh = pdr.get_data_yahoo('SNH.DE', start=start, end=end, interval= '1d')\n",
    "fie = pdr.get_data_yahoo('FIE.DE', start=start, end=end, interval= '1d')\n",
    "deq = pdr.get_data_yahoo('DEQ.DE', start=start, end=end, interval= '1d')\n",
    "evd = pdr.get_data_yahoo('EVD.DE', start=start, end=end, interval= '1d')\n",
    "sha = pdr.get_data_yahoo('SHA.DE', start=start, end=end, interval= '1d')\n",
    "gil = pdr.get_data_yahoo('GIL.DE', start=start, end=end, interval= '1d')\n",
    "osr = pdr.get_data_yahoo('OSR.DE', start=start, end=end, interval= '1d')\n",
    "hnr1 = pdr.get_data_yahoo('HNR1.DE', start=start, end=end, interval= '1d')\n",
    "jun = pdr.get_data_yahoo('JUN3.DE', start=start, end=end, interval= '1d')\n",
    "szu = pdr.get_data_yahoo('SZU.DE', start=start, end=end, interval= '1d')\n",
    "fpe3 = pdr.get_data_yahoo('FPE3.DE', start=start, end=end, interval= '1d')\n",
    "teg = pdr.get_data_yahoo('TEG.DE', start=start, end=end, interval= '1d')\n",
    "arl = pdr.get_data_yahoo('ARL.DE', start=start, end=end, interval= '1d')\n",
    "leg = pdr.get_data_yahoo('LEG.DE', start=start, end=end, interval= '1d')\n",
    "#saz = pdr.get_data_yahoo('SAZ.DE', start=start, end=end, interval= '1d')\n",
    "krn = pdr.get_data_yahoo('KRN.DE', start=start, end=end, interval= '1d')\n",
    "kgx = pdr.get_data_yahoo('KGX.DE', start=start, end=end, interval= '1d')\n",
    "zal = pdr.get_data_yahoo('ZAL.DE', start=start, end=end, interval= '1d')\n",
    "rrtl = pdr.get_data_yahoo('RRTL.DE', start=start, end=end, interval= '1d')\n",
    "boss = pdr.get_data_yahoo('BOSS.DE', start=start, end=end, interval= '1d')\n",
    "gxi = pdr.get_data_yahoo('GXI.DE', start=start, end=end, interval= '1d')\n",
    "evk = pdr.get_data_yahoo('EVK.DE', start=start, end=end, interval= '1d')\n",
    "hot = pdr.get_data_yahoo('HOT.DE', start=start, end=end, interval= '1d')\n",
    "noej = pdr.get_data_yahoo('NOEJ.DE', start=start, end=end, interval= '1d')\n",
    "lxs = pdr.get_data_yahoo('LXS.DE', start=start, end=end, interval= '1d')\n",
    "#meo = pdr.get_data_yahoo('MEO.DE', start=start, end=end, interval= '1d')\n",
    "rhk = pdr.get_data_yahoo('RHK.DE', start=start, end=end, interval= '1d')\n",
    "due = pdr.get_data_yahoo('DUE.DE', start=start, end=end, interval= '1d')\n"
   ]
  },
  {
   "cell_type": "markdown",
   "metadata": {},
   "source": [
    "### Aktien vom TecDax laden"
   ]
  },
  {
   "cell_type": "code",
   "execution_count": 304,
   "metadata": {},
   "outputs": [
    {
     "name": "stdout",
     "output_type": "stream",
     "text": [
      "[*********************100%***********************]  1 of 1 completed\n"
     ]
    }
   ],
   "source": [
    "# DAX Chart vom letzten Jahr laden.\n",
    "\n",
    "tecdax_m = pdr.get_data_yahoo(\"^TECDAX\", start=start, end= end, interval='1mo')"
   ]
  },
  {
   "cell_type": "code",
   "execution_count": 305,
   "metadata": {},
   "outputs": [
    {
     "data": {
      "image/png": "[encoded data removed]",
      "text/plain": [
       "<Figure size 432x288 with 1 Axes>"
      ]
     },
     "metadata": {},
     "output_type": "display_data"
    }
   ],
   "source": [
    "# TECDAX-Chart über den oben definierten Zeitraum plotten.\n",
    "plt.plot(tecdax_m['Adj Close'], lw=3)\n",
    "plt.xlabel('Datum')\n",
    "plt.ylabel('Kurs')\n",
    "plt.title('TECDAX-Chart von 01/2019 bis 01/2020')\n",
    "\n",
    "\n",
    "\n",
    "SMALL_SIZE = 12\n",
    "MEDIUM_SIZE = 18\n",
    "BIGGER_SIZE = 20\n",
    "\n",
    "plt.rc('font', size=SMALL_SIZE)          # controls default text sizes\n",
    "plt.rc('axes', titlesize=MEDIUM_SIZE)     # fontsize of the axes title\n",
    "plt.rc('axes', labelsize=MEDIUM_SIZE)    # fontsize of the x and y labels\n",
    "plt.rc('xtick', labelsize=SMALL_SIZE)    # fontsize of the tick labels\n",
    "plt.rc('ytick', labelsize=SMALL_SIZE)    # fontsize of the tick labels\n",
    "plt.rc('legend', fontsize=SMALL_SIZE)    # legend fontsize\n",
    "plt.rc('figure', titlesize=BIGGER_SIZE)"
   ]
  },
  {
   "cell_type": "code",
   "execution_count": 306,
   "metadata": {},
   "outputs": [
    {
     "name": "stdout",
     "output_type": "stream",
     "text": [
      "[*********************100%***********************]  1 of 1 completed\n",
      "[*********************100%***********************]  1 of 1 completed\n",
      "[*********************100%***********************]  1 of 1 completed\n",
      "[*********************100%***********************]  1 of 1 completed\n",
      "[*********************100%***********************]  1 of 1 completed\n",
      "[*********************100%***********************]  1 of 1 completed\n",
      "[*********************100%***********************]  1 of 1 completed\n",
      "[*********************100%***********************]  1 of 1 completed\n",
      "[*********************100%***********************]  1 of 1 completed\n",
      "[*********************100%***********************]  1 of 1 completed\n",
      "[*********************100%***********************]  1 of 1 completed\n",
      "[*********************100%***********************]  1 of 1 completed\n",
      "[*********************100%***********************]  1 of 1 completed\n",
      "[*********************100%***********************]  1 of 1 completed\n",
      "[*********************100%***********************]  1 of 1 completed\n",
      "[*********************100%***********************]  1 of 1 completed\n",
      "[*********************100%***********************]  1 of 1 completed\n",
      "[*********************100%***********************]  1 of 1 completed\n",
      "[*********************100%***********************]  1 of 1 completed\n",
      "[*********************100%***********************]  1 of 1 completed\n",
      "[*********************100%***********************]  1 of 1 completed\n",
      "[*********************100%***********************]  1 of 1 completed\n",
      "[*********************100%***********************]  1 of 1 completed\n",
      "[*********************100%***********************]  1 of 1 completed\n",
      "[*********************100%***********************]  1 of 1 completed\n",
      "[*********************100%***********************]  1 of 1 completed\n",
      "[*********************100%***********************]  1 of 1 completed\n",
      "[*********************100%***********************]  1 of 1 completed\n",
      "[*********************100%***********************]  1 of 1 completed\n"
     ]
    }
   ],
   "source": [
    "#o1bc = pdr.get_data_yahoo('O1BC.DE', start=start, end=end, interval= '1d')\n",
    "cok = pdr.get_data_yahoo('COK.DE', start=start, end=end, interval= '1d')\n",
    "drw3 = pdr.get_data_yahoo('DRW3.DE', start=start, end=end, interval= '1d')\n",
    "cop = pdr.get_data_yahoo('COP.DE', start=start, end=end, interval= '1d')\n",
    "afx = pdr.get_data_yahoo('AFX.DE', start=start, end=end, interval= '1d')\n",
    "nem = pdr.get_data_yahoo('NEM.DE', start=start, end=end, interval= '1d')\n",
    "qia = pdr.get_data_yahoo('QIA.DE', start=start, end=end, interval= '1d')\n",
    "wdi = pdr.get_data_yahoo('WDI.DE', start=start, end=end, interval= '1d')\n",
    "o2d = pdr.get_data_yahoo('O2D.DE', start=start, end=end, interval= '1d')\n",
    "pfv = pdr.get_data_yahoo('PFV.DE', start=start, end=end, interval= '1d')\n",
    "sbs = pdr.get_data_yahoo('SBS.DE', start=start, end=end, interval= '1d')\n",
    "srt3 = pdr.get_data_yahoo('SRT3.DE', start=start, end=end, interval= '1d')\n",
    "s92 = pdr.get_data_yahoo('S92.DE', start=start, end=end, interval= '1d')\n",
    "fntn = pdr.get_data_yahoo('FNTN.DE', start=start, end=end, interval= '1d')\n",
    "utdi = pdr.get_data_yahoo('UTDI.DE', start=start, end=end, interval= '1d')\n",
    "am3d = pdr.get_data_yahoo('AM3D.DE', start=start, end=end, interval= '1d')\n",
    "mor = pdr.get_data_yahoo('MOR.DE', start=start, end=end, interval= '1d')\n",
    "sow = pdr.get_data_yahoo('SOW.DE', start=start, end=end, interval= '1d')\n",
    "jen = pdr.get_data_yahoo('JEN.DE', start=start, end=end, interval= '1d')\n",
    "gft = pdr.get_data_yahoo('GFT.DE', start=start, end=end, interval= '1d')\n",
    "ndx1 = pdr.get_data_yahoo('NDX1.DE', start=start, end=end, interval= '1d')\n",
    "dlg = pdr.get_data_yahoo('DLG.DE', start=start, end=end, interval= '1d')\n",
    "dri = pdr.get_data_yahoo('DRI.DE', start=start, end=end, interval= '1d')\n",
    "smhn = pdr.get_data_yahoo('SMHN.DE', start=start, end=end, interval= '1d')\n",
    "bc8 = pdr.get_data_yahoo('BC8.DE', start=start, end=end, interval= '1d')\n",
    "aixa = pdr.get_data_yahoo('AIXA.DE', start=start, end=end, interval= '1d')\n",
    "adv = pdr.get_data_yahoo('ADV.DE', start=start, end=end, interval= '1d')\n",
    "evt = pdr.get_data_yahoo('EVT.DE', start=start, end=end, interval= '1d')\n",
    "waf = pdr.get_data_yahoo('WAF.DE', start=start, end=end, interval= '1d')\n",
    "rib = pdr.get_data_yahoo('RIB.DE', start=start, end=end, interval= '1d')\n"
   ]
  },
  {
   "cell_type": "code",
   "execution_count": 307,
   "metadata": {},
   "outputs": [],
   "source": [
    "# Selektieren nach dem Adj Close \n",
    "\n",
    "adidasclose=adidas['Adj Close']\n",
    "bmwclose=bmw['Adj Close']\n",
    "heiseclose=heise['Adj Close']\n",
    "ifxclose=ifx['Adj Close']\n",
    "covclose=cov['Adj Close']\n",
    "fmeclose=fme['Adj Close']\n",
    "freclose=fre['Adj Close']\n",
    "sapclose=sap['Adj Close']\n",
    "daiclose=dai['Adj Close']\n",
    "muv2close=muv2['Adj Close']\n",
    "vow3close=vow3['Adj Close']\n",
    "alvclose=alv['Adj Close']\n",
    "basclose=bas['Adj Close']\n",
    "linclose=lin['Adj Close']\n",
    "baynclose=bayn['Adj Close']\n",
    "dpwclose=dpw['Adj Close']\n",
    "dteclose=dte['Adj Close']\n",
    "conclose=con['Adj Close']\n",
    "vnaclose=vna['Adj Close']\n",
    "beiclose=bei['Adj Close']\n",
    "mrkclose=mrk['Adj Close']\n",
    "rweclose=rwe['Adj Close']\n",
    "hen3close=hen3['Adj Close']\n",
    "lhaclose=lha['Adj Close']\n",
    "eonclose=eon['Adj Close']\n",
    "sieclose=sie['Adj Close']\n",
    "dbahnclose=dbahn['Adj Close']\n",
    "tkaclose=tka['Adj Close']\n",
    "wdiclose=wdi['Adj Close']\n",
    "arlclose=arl['Adj Close']\n",
    "\n",
    "\n"
   ]
  },
  {
   "cell_type": "code",
   "execution_count": 308,
   "metadata": {},
   "outputs": [
    {
     "name": "stdout",
     "output_type": "stream",
     "text": [
      "Date\n",
      "2018-12-06    190.954865\n",
      "2018-12-07    192.829391\n",
      "2018-12-10    190.214935\n",
      "2018-12-11    194.851913\n",
      "2018-12-12    196.430466\n",
      "2018-12-13    197.318390\n",
      "2018-12-14    192.878723\n",
      "2018-12-17    184.344711\n",
      "2018-12-18    183.703415\n",
      "2018-12-19    184.542023\n",
      "2018-12-20    181.286270\n",
      "2018-12-21    182.272858\n",
      "2018-12-27    177.685211\n",
      "2018-12-28    179.954361\n",
      "2019-01-02    181.927551\n",
      "2019-01-03    181.483582\n",
      "2019-01-04    188.488388\n",
      "2019-01-07    187.156494\n",
      "2019-01-08    191.694809\n",
      "2019-01-09    191.250854\n",
      "2019-01-10    192.878723\n",
      "2019-01-11    194.358612\n",
      "2019-01-14    194.654587\n",
      "2019-01-15    196.578445\n",
      "2019-01-16    195.443863\n",
      "2019-01-17    197.318390\n",
      "2019-01-18    201.264755\n",
      "2019-01-21    203.237946\n",
      "2019-01-22    203.040619\n",
      "2019-01-23    204.520508\n",
      "                 ...    \n",
      "2019-11-18    270.950012\n",
      "2019-11-19    272.149994\n",
      "2019-11-20    273.000000\n",
      "2019-11-21    273.000000\n",
      "2019-11-22    273.000000\n",
      "2019-11-25    274.950012\n",
      "2019-11-26    278.549988\n",
      "2019-11-27    281.950012\n",
      "2019-11-28    281.950012\n",
      "2019-11-29    282.750000\n",
      "2019-12-02    275.049988\n",
      "2019-12-03    278.100006\n",
      "2019-12-04    277.850006\n",
      "2019-12-05    276.100006\n",
      "2019-12-06    279.200012\n",
      "2019-12-09    273.899994\n",
      "2019-12-10    275.049988\n",
      "2019-12-11    278.399994\n",
      "2019-12-12    278.200012\n",
      "2019-12-13    278.600006\n",
      "2019-12-16    285.799988\n",
      "2019-12-17    286.899994\n",
      "2019-12-18    289.649994\n",
      "2019-12-19    288.350006\n",
      "2019-12-20    291.450012\n",
      "2019-12-23    291.100006\n",
      "2019-12-27    292.500000\n",
      "2019-12-30    289.799988\n",
      "2020-01-02    291.549988\n",
      "2020-01-03    291.950012\n",
      "Name: Adj Close, Length: 267, dtype: float64\n"
     ]
    }
   ],
   "source": [
    "print(adidasclose)"
   ]
  },
  {
   "cell_type": "code",
   "execution_count": 328,
   "metadata": {},
   "outputs": [],
   "source": [
    "adidas_1y=((adidasclose[end]-adidasclose[start])/adidasclose[end]*100)\n",
    "bmw_1y=((bmwclose[end]-bmwclose[start])/bmwclose[end]*100)\n",
    "heise_1y=((heiseclose[end]-heiseclose[start])/heiseclose[end]*100)\n",
    "ifx_1y=((ifxclose[end]-ifxclose[start])/ifxclose[end]*100)\n",
    "cov_1y=((covclose[end]-covclose[start])/covclose[end]*100)\n",
    "fme_1y=((fmeclose[end]-fmeclose[start])/fmeclose[end]*100)\n",
    "#fre_1y=((freclose[end]-freclose[start])/freclose[end]*100)<-- 2019-05-15 NaN Eintrag\n",
    "sap_1y=((sapclose[end]-sapclose[start])/sapclose[end]*100)\n",
    "dai_1y=((daiclose[end]-daiclose[start])/daiclose[end]*100)\n",
    "muv2_1y=((muv2close[end]-muv2close[start])/muv2close[end]*100)\n",
    "vow3_1y=((vow3close[end]-vow3close[start])/vow3close[end]*100)\n",
    "alv_1y=((alvclose[end]-alvclose[start])/alvclose[end]*100)\n",
    "bas_1y=((basclose[end]-basclose[start])/basclose[end]*100)\n",
    "lin_1y=((linclose[end]-linclose[start])/linclose[end]*100)\n",
    "bayn_1y=((baynclose[end]-baynclose[start])/baynclose[end]*100)\n",
    "dpw_1y=((dpwclose[end]-dpwclose[start])/dpwclose[end]*100)\n",
    "dte_1y=((dteclose[end]-dteclose[start])/dteclose[end]*100)\n",
    "con_1y=((conclose[end]-conclose[start])/conclose[end]*100)\n",
    "vna_1y=((vnaclose[end]-vnaclose[start])/vnaclose[end]*100)\n",
    "bei_1y=((beiclose[end]-beiclose[start])/beiclose[end]*100)\n",
    "mrk_1y=((mrkclose[end]-mrkclose[start])/mrkclose[end]*100)\n",
    "rwe_1y=((rweclose[end]-rweclose[start])/rweclose[end]*100)\n",
    "hen3_1y=((hen3close[end]-hen3close[start])/hen3close[end]*100)\n",
    "lha_1y=((lhaclose[end]-lhaclose[start])/lhaclose[end]*100)\n",
    "#eon_1y=((eonclose[end]-eonclose[start])/eonclose[end]*100)<-- 2019-05-15 NaN Eintrag\n",
    "sie_1y=((sieclose[end]-sieclose[start])/sieclose[end]*100)\n",
    "dbahn_1y=((dbahnclose[end]-dbahnclose[start])/dbahnclose[end]*100)\n",
    "tka_1y=((tkaclose[end]-tkaclose[start])/tkaclose[end]*100)\n",
    "#wdi_1y=((wdiclose[end]-wdiclose[start])/wdiclose[end]*100) <-- 2019-05-15 NaN Eintrag\n",
    "arl_1y=((arlclose[end]-arlclose[start])/arlclose[end]*100)\n",
    "\n"
   ]
  },
  {
   "cell_type": "code",
   "execution_count": 332,
   "metadata": {},
   "outputs": [
    {
     "name": "stdout",
     "output_type": "stream",
     "text": [
      "34.59330141540093\n",
      "6.633691976617757\n",
      "16.558707303768195\n",
      "13.828951513867988\n",
      "-4.360180607245157\n",
      "-0.4215153119036259\n",
      "27.98230887419688\n",
      "10.514283697490384\n",
      "32.107861623123725\n",
      "21.68459312357624\n",
      "23.104223483683544\n",
      "13.37378375684017\n",
      "28.952847707488445\n",
      "17.97708364561852\n",
      "24.914155201977504\n",
      "1.7891279564131561\n",
      "-6.099365397450411\n",
      "15.968488087861743\n",
      "13.126819022026456\n",
      "12.800701292522582\n",
      "31.983294354916076\n",
      "-6.100889332129402\n",
      "-20.10621937567672\n",
      "19.258890480422366\n",
      "22.470565531904555\n",
      "-29.640478842918906\n",
      "17.181238224504714\n"
     ]
    }
   ],
   "source": [
    "print(adidas_1y)\n",
    "print(bmw_1y)\n",
    "print(heise_1y)\n",
    "print(ifx_1y)\n",
    "print(cov_1y)\n",
    "print(fme_1y)\n",
    "#print(fre_1y) <-- 2019-05-15 NaN Eintrag\n",
    "print(sap_1y)\n",
    "print(dai_1y)\n",
    "print(muv2_1y)\n",
    "print(vow3_1y)\n",
    "print(alv_1y)\n",
    "print(bas_1y)\n",
    "print(lin_1y)\n",
    "print(bayn_1y)\n",
    "print(dpw_1y)\n",
    "print(dte_1y)\n",
    "print(con_1y)\n",
    "print(vna_1y)\n",
    "print(bei_1y)\n",
    "print(mrk_1y)\n",
    "print(rwe_1y)\n",
    "print(hen3_1y)\n",
    "print(lha_1y)\n",
    "#print(eon_1y) <-- 2019-05-15 NaN Eintrag\n",
    "print(sie_1y)\n",
    "print(dbahn_1y)\n",
    "print(tka_1y)\n",
    "#print(wdi_1y) <-- 2019-05-15 NaN Eintrag\n",
    "print(arl_1y)"
   ]
  },
  {
   "cell_type": "code",
   "execution_count": 327,
   "metadata": {},
   "outputs": [
    {
     "name": "stdout",
     "output_type": "stream",
     "text": [
      "                  Open        High         Low       Close   Adj Close  \\\n",
      "Date                                                                     \n",
      "2019-06-03  144.300003  145.199997  139.449997  145.199997  145.012650   \n",
      "2019-06-04  143.500000  146.699997  142.100006  145.149994  144.962708   \n",
      "2019-06-05  146.899994  150.399994  145.899994  148.800003  148.608002   \n",
      "2019-06-06  149.199997  149.449997  140.550003  145.050003  144.862839   \n",
      "2019-06-07  146.800003  147.399994  140.300003  146.550003  146.360901   \n",
      "2019-06-11  148.500000  149.750000  145.800003  149.649994  149.456894   \n",
      "2019-06-12  148.300003  149.050003  146.050003  147.250000  147.059998   \n",
      "2019-06-13  148.600006  152.800003  148.100006  150.899994  150.705292   \n",
      "2019-06-14  151.250000  151.649994  148.500000  149.449997  149.257156   \n",
      "2019-06-17  151.300003  152.000000  149.600006  151.300003  151.104782   \n",
      "2019-06-18  152.050003  156.000000  150.300003  155.000000  154.800003   \n",
      "2019-06-19  154.600006  154.949997  150.649994  151.050003  151.050003   \n",
      "2019-06-20  152.899994  153.250000  150.149994  150.600006  150.600006   \n",
      "2019-06-21  149.600006  152.500000  147.600006  151.250000  151.250000   \n",
      "2019-06-24  152.199997  153.850006  150.500000  151.500000  151.500000   \n",
      "2019-06-25  150.899994  152.100006  148.750000  148.750000  148.750000   \n",
      "2019-06-26  148.449997  149.399994  144.399994  146.300003  146.300003   \n",
      "2019-06-27  147.649994  149.550003  147.199997  148.800003  148.800003   \n",
      "2019-06-28  149.100006  150.449997  147.350006  148.050003  148.050003   \n",
      "2019-07-01  151.000000  152.850006  149.550003  152.850006  152.850006   \n",
      "2019-07-02  153.250000  155.350006  151.050003  151.300003  151.300003   \n",
      "2019-07-03  151.500000  153.350006  150.800003  153.100006  153.100006   \n",
      "2019-07-04  153.300003  153.949997  152.250000  153.949997  153.949997   \n",
      "2019-07-05  153.800003  155.100006  151.250000  151.899994  151.899994   \n",
      "2019-07-08  152.000000  153.899994  151.399994  152.800003  152.800003   \n",
      "2019-07-09  152.250000  152.750000  147.600006  149.350006  149.350006   \n",
      "2019-07-10  150.100006  150.500000  148.500000  149.500000  149.500000   \n",
      "2019-07-11  149.750000  150.199997  146.250000  146.300003  146.300003   \n",
      "2019-07-12  144.350006  145.300003  141.300003  144.399994  144.399994   \n",
      "2019-07-15  145.000000  149.649994  144.050003  149.649994  149.649994   \n",
      "...                ...         ...         ...         ...         ...   \n",
      "2019-11-18  122.500000  122.500000  119.550003  121.199997  121.199997   \n",
      "2019-11-19  121.349998  122.150002  120.650002  121.250000  121.250000   \n",
      "2019-11-20  114.000000  118.349998  112.050003  117.250000  117.250000   \n",
      "2019-11-21  116.550003  119.099998  114.199997  117.199997  117.199997   \n",
      "2019-11-22  117.550003  117.949997  115.900002  117.199997  117.199997   \n",
      "2019-11-25  117.900002  119.250000  117.199997  119.000000  119.000000   \n",
      "2019-11-26  119.250000  119.750000  118.500000  119.050003  119.050003   \n",
      "2019-11-27  119.400002  119.800003  118.500000  119.500000  119.500000   \n",
      "2019-11-28  119.150002  119.599998  118.150002  118.550003  118.550003   \n",
      "2019-11-29  118.050003  119.800003  117.150002  119.800003  119.800003   \n",
      "2019-12-02  120.000000  121.550003  116.150002  116.150002  116.150002   \n",
      "2019-12-03  117.500000  118.750000  117.300003  118.300003  118.300003   \n",
      "2019-12-04  118.500000  119.199997  117.150002  118.000000  118.000000   \n",
      "2019-12-05  117.099998  118.349998  116.050003  116.900002  116.900002   \n",
      "2019-12-06  117.000000  117.300003  113.550003  115.150002  115.150002   \n",
      "2019-12-09  110.500000  115.449997  109.400002  114.050003  114.050003   \n",
      "2019-12-10  113.800003  114.400002  105.650002  108.849998  108.849998   \n",
      "2019-12-11  108.099998  108.449997  102.199997  103.949997  103.949997   \n",
      "2019-12-12  103.000000  107.199997  102.449997  105.599998  105.599998   \n",
      "2019-12-13  108.750000  108.750000  103.750000  104.449997  104.449997   \n",
      "2019-12-16  104.000000  107.949997  103.250000  107.750000  107.750000   \n",
      "2019-12-17  107.949997  108.000000  104.400002  104.900002  104.900002   \n",
      "2019-12-18  105.199997  107.750000  104.949997  106.250000  106.250000   \n",
      "2019-12-19  105.900002  106.050003  103.000000  105.000000  105.000000   \n",
      "2019-12-20  105.099998  105.250000  103.949997  105.150002  105.150002   \n",
      "2019-12-23  105.500000  106.099998  105.099998  105.300003  105.300003   \n",
      "2019-12-27  105.750000  106.599998  105.650002  106.300003  106.300003   \n",
      "2019-12-30  107.050003  108.000000  106.500000  107.500000  107.500000   \n",
      "2020-01-02  109.349998  115.750000  108.900002  112.400002  112.400002   \n",
      "2020-01-03  112.400002  113.099998  111.300003  112.900002  112.900002   \n",
      "\n",
      "             Volume  \n",
      "Date                 \n",
      "2019-06-03  1755475  \n",
      "2019-06-04  1049210  \n",
      "2019-06-05  1201497  \n",
      "2019-06-06  1174817  \n",
      "2019-06-07  1033137  \n",
      "2019-06-11  1060855  \n",
      "2019-06-12   757812  \n",
      "2019-06-13  1219953  \n",
      "2019-06-14   635642  \n",
      "2019-06-17   686312  \n",
      "2019-06-18  1353767  \n",
      "2019-06-19  1121614  \n",
      "2019-06-20   705152  \n",
      "2019-06-21  1521116  \n",
      "2019-06-24   735409  \n",
      "2019-06-25   527372  \n",
      "2019-06-26   890519  \n",
      "2019-06-27   764705  \n",
      "2019-06-28   783357  \n",
      "2019-07-01  1194544  \n",
      "2019-07-02   999794  \n",
      "2019-07-03   564208  \n",
      "2019-07-04   499183  \n",
      "2019-07-05   668024  \n",
      "2019-07-08   679570  \n",
      "2019-07-09   950888  \n",
      "2019-07-10   635785  \n",
      "2019-07-11   810911  \n",
      "2019-07-12  1295990  \n",
      "2019-07-15   916184  \n",
      "...             ...  \n",
      "2019-11-18   914953  \n",
      "2019-11-19   723105  \n",
      "2019-11-20  3119716  \n",
      "2019-11-21  1814810  \n",
      "2019-11-22  1039695  \n",
      "2019-11-25   758338  \n",
      "2019-11-26   898624  \n",
      "2019-11-27   624911  \n",
      "2019-11-28   487146  \n",
      "2019-11-29   971094  \n",
      "2019-12-02  1643837  \n",
      "2019-12-03   926773  \n",
      "2019-12-04   845774  \n",
      "2019-12-05   957206  \n",
      "2019-12-06  1466908  \n",
      "2019-12-09  1861302  \n",
      "2019-12-10  3609568  \n",
      "2019-12-11  3798962  \n",
      "2019-12-12  2360468  \n",
      "2019-12-13  2299646  \n",
      "2019-12-16  1834380  \n",
      "2019-12-17  1455926  \n",
      "2019-12-18  1498447  \n",
      "2019-12-19  2030318  \n",
      "2019-12-20  1799133  \n",
      "2019-12-23   952853  \n",
      "2019-12-27  1029539  \n",
      "2019-12-30   685442  \n",
      "2020-01-02  2431347  \n",
      "2020-01-03  1353420  \n",
      "\n",
      "[148 rows x 6 columns]\n"
     ]
    }
   ],
   "source": []
  },
  {
   "cell_type": "code",
   "execution_count": null,
   "metadata": {},
   "outputs": [],
   "source": []
  }
 ],
 "metadata": {
  "kernelspec": {
   "display_name": "Python 3",
   "language": "python",
   "name": "python3"
  },
  "language_info": {
   "codemirror_mode": {
    "name": "ipython",
    "version": 3
   },
   "file_extension": ".py",
   "mimetype": "text/x-python",
   "name": "python",
   "nbconvert_exporter": "python",
   "pygments_lexer": "ipython3",
   "version": "3.7.4"
  },
  "toc": {
   "base_numbering": 1,
   "nav_menu": {},
   "number_sections": true,
   "sideBar": true,
   "skip_h1_title": false,
   "title_cell": "Table of Contents",
   "title_sidebar": "Contents",
   "toc_cell": false,
   "toc_position": {},
   "toc_section_display": true,
   "toc_window_display": false
  },
  "varInspector": {
   "cols": {
    "lenName": 16,
    "lenType": 16,
    "lenVar": 40
   },
   "kernels_config": {
    "python": {
     "delete_cmd_postfix": "",
     "delete_cmd_prefix": "del ",
     "library": "var_list.py",
     "varRefreshCmd": "print(var_dic_list())"
    },
    "r": {
     "delete_cmd_postfix": ") ",
     "delete_cmd_prefix": "rm(",
     "library": "var_list.r",
     "varRefreshCmd": "cat(var_dic_list()) "
    }
   },
   "types_to_exclude": [
    "module",
    "function",
    "builtin_function_or_method",
    "instance",
    "_Feature"
   ],
   "window_display": false
  }
 },
 "nbformat": 4,
 "nbformat_minor": 2
}
